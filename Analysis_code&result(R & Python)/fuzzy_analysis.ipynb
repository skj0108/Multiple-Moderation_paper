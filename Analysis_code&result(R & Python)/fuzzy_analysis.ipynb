{
  "nbformat": 4,
  "nbformat_minor": 0,
  "metadata": {
    "colab": {
      "provenance": []
    },
    "kernelspec": {
      "name": "python3",
      "display_name": "Python 3"
    },
    "language_info": {
      "name": "python"
    }
  },
  "cells": [
    {
      "cell_type": "code",
      "execution_count": null,
      "metadata": {
        "id": "sT1ZntD7B9i0"
      },
      "outputs": [],
      "source": [
        "import pandas as pd\n",
        "import numpy as np\n",
        "from google.colab import drive\n",
        "from google.colab import files\n",
        "from scipy import stats\n",
        "from scipy.stats import t, f"
      ]
    },
    {
      "cell_type": "code",
      "source": [
        "drive.mount('/content/Drive/')"
      ],
      "metadata": {
        "id": "Kz13tWT1CFNO",
        "colab": {
          "base_uri": "https://localhost:8080/"
        },
        "outputId": "ae7e8929-0e02-4391-cd10-9646ebdcb548"
      },
      "execution_count": null,
      "outputs": [
        {
          "output_type": "stream",
          "name": "stdout",
          "text": [
            "Mounted at /content/Drive/\n"
          ]
        }
      ]
    },
    {
      "cell_type": "markdown",
      "source": [
        "# 1) model 2 (glbwarm data)"
      ],
      "metadata": {
        "id": "NmvVM-EDZR5r"
      }
    },
    {
      "cell_type": "markdown",
      "source": [
        "![image.png](data:image/png;base64,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)"
      ],
      "metadata": {
        "id": "g3AjoqndgdQF"
      }
    },
    {
      "cell_type": "markdown",
      "source": [
        "X: Negative_Emotions(기후변화에 대해 부정적인 감정을 갖고 있는 정도)  \n",
        "Y: Government_Action(기후변화에 대한 정부의 조치를 지지하는 것)  \n",
        "W: Sex(성별) (여성 - 0, 남성 - 1)  \n",
        "Z: Age(나이)  \n"
      ],
      "metadata": {
        "id": "p3iHbGTeZpF1"
      }
    },
    {
      "cell_type": "markdown",
      "source": [
        "## * 퍼지화 \n",
        "- X, Y : 설문조사 따라서 1 spread로 삼각퍼지수 생성  \n",
        "- W, Z : crisp data"
      ],
      "metadata": {
        "id": "Z-oKSPoyZugB"
      }
    },
    {
      "cell_type": "code",
      "source": [
        "data_2 = pd.read_csv('/content/Drive/MyDrive/논문/model_2.csv', index_col=0)"
      ],
      "metadata": {
        "id": "hgewHPFRCIjC"
      },
      "execution_count": null,
      "outputs": []
    },
    {
      "cell_type": "code",
      "source": [
        "data_2.head()"
      ],
      "metadata": {
        "colab": {
          "base_uri": "https://localhost:8080/",
          "height": 206
        },
        "id": "VHwzxKRSCPzc",
        "outputId": "9f945af7-5220-4ae5-a9ee-043fbb2d6e6e"
      },
      "execution_count": null,
      "outputs": [
        {
          "output_type": "execute_result",
          "data": {
            "text/plain": [
              "   govact  posemot  negemot  ideology  age  sex  partyid\n",
              "1     3.6     3.67     4.67         6   61    0        2\n",
              "2     5.0     2.00     2.33         2   55    0        1\n",
              "3     6.6     2.33     3.67         1   85    1        1\n",
              "4     1.0     5.00     5.00         1   59    0        1\n",
              "5     4.0     2.33     1.67         4   22    1        1"
            ],
            "text/html": [
              "\n",
              "  <div id=\"df-032d2b0e-136d-4eb1-9315-c136634b5023\">\n",
              "    <div class=\"colab-df-container\">\n",
              "      <div>\n",
              "<style scoped>\n",
              "    .dataframe tbody tr th:only-of-type {\n",
              "        vertical-align: middle;\n",
              "    }\n",
              "\n",
              "    .dataframe tbody tr th {\n",
              "        vertical-align: top;\n",
              "    }\n",
              "\n",
              "    .dataframe thead th {\n",
              "        text-align: right;\n",
              "    }\n",
              "</style>\n",
              "<table border=\"1\" class=\"dataframe\">\n",
              "  <thead>\n",
              "    <tr style=\"text-align: right;\">\n",
              "      <th></th>\n",
              "      <th>govact</th>\n",
              "      <th>posemot</th>\n",
              "      <th>negemot</th>\n",
              "      <th>ideology</th>\n",
              "      <th>age</th>\n",
              "      <th>sex</th>\n",
              "      <th>partyid</th>\n",
              "    </tr>\n",
              "  </thead>\n",
              "  <tbody>\n",
              "    <tr>\n",
              "      <th>1</th>\n",
              "      <td>3.6</td>\n",
              "      <td>3.67</td>\n",
              "      <td>4.67</td>\n",
              "      <td>6</td>\n",
              "      <td>61</td>\n",
              "      <td>0</td>\n",
              "      <td>2</td>\n",
              "    </tr>\n",
              "    <tr>\n",
              "      <th>2</th>\n",
              "      <td>5.0</td>\n",
              "      <td>2.00</td>\n",
              "      <td>2.33</td>\n",
              "      <td>2</td>\n",
              "      <td>55</td>\n",
              "      <td>0</td>\n",
              "      <td>1</td>\n",
              "    </tr>\n",
              "    <tr>\n",
              "      <th>3</th>\n",
              "      <td>6.6</td>\n",
              "      <td>2.33</td>\n",
              "      <td>3.67</td>\n",
              "      <td>1</td>\n",
              "      <td>85</td>\n",
              "      <td>1</td>\n",
              "      <td>1</td>\n",
              "    </tr>\n",
              "    <tr>\n",
              "      <th>4</th>\n",
              "      <td>1.0</td>\n",
              "      <td>5.00</td>\n",
              "      <td>5.00</td>\n",
              "      <td>1</td>\n",
              "      <td>59</td>\n",
              "      <td>0</td>\n",
              "      <td>1</td>\n",
              "    </tr>\n",
              "    <tr>\n",
              "      <th>5</th>\n",
              "      <td>4.0</td>\n",
              "      <td>2.33</td>\n",
              "      <td>1.67</td>\n",
              "      <td>4</td>\n",
              "      <td>22</td>\n",
              "      <td>1</td>\n",
              "      <td>1</td>\n",
              "    </tr>\n",
              "  </tbody>\n",
              "</table>\n",
              "</div>\n",
              "      <button class=\"colab-df-convert\" onclick=\"convertToInteractive('df-032d2b0e-136d-4eb1-9315-c136634b5023')\"\n",
              "              title=\"Convert this dataframe to an interactive table.\"\n",
              "              style=\"display:none;\">\n",
              "        \n",
              "  <svg xmlns=\"http://www.w3.org/2000/svg\" height=\"24px\"viewBox=\"0 0 24 24\"\n",
              "       width=\"24px\">\n",
              "    <path d=\"M0 0h24v24H0V0z\" fill=\"none\"/>\n",
              "    <path d=\"M18.56 5.44l.94 2.06.94-2.06 2.06-.94-2.06-.94-.94-2.06-.94 2.06-2.06.94zm-11 1L8.5 8.5l.94-2.06 2.06-.94-2.06-.94L8.5 2.5l-.94 2.06-2.06.94zm10 10l.94 2.06.94-2.06 2.06-.94-2.06-.94-.94-2.06-.94 2.06-2.06.94z\"/><path d=\"M17.41 7.96l-1.37-1.37c-.4-.4-.92-.59-1.43-.59-.52 0-1.04.2-1.43.59L10.3 9.45l-7.72 7.72c-.78.78-.78 2.05 0 2.83L4 21.41c.39.39.9.59 1.41.59.51 0 1.02-.2 1.41-.59l7.78-7.78 2.81-2.81c.8-.78.8-2.07 0-2.86zM5.41 20L4 18.59l7.72-7.72 1.47 1.35L5.41 20z\"/>\n",
              "  </svg>\n",
              "      </button>\n",
              "      \n",
              "  <style>\n",
              "    .colab-df-container {\n",
              "      display:flex;\n",
              "      flex-wrap:wrap;\n",
              "      gap: 12px;\n",
              "    }\n",
              "\n",
              "    .colab-df-convert {\n",
              "      background-color: #E8F0FE;\n",
              "      border: none;\n",
              "      border-radius: 50%;\n",
              "      cursor: pointer;\n",
              "      display: none;\n",
              "      fill: #1967D2;\n",
              "      height: 32px;\n",
              "      padding: 0 0 0 0;\n",
              "      width: 32px;\n",
              "    }\n",
              "\n",
              "    .colab-df-convert:hover {\n",
              "      background-color: #E2EBFA;\n",
              "      box-shadow: 0px 1px 2px rgba(60, 64, 67, 0.3), 0px 1px 3px 1px rgba(60, 64, 67, 0.15);\n",
              "      fill: #174EA6;\n",
              "    }\n",
              "\n",
              "    [theme=dark] .colab-df-convert {\n",
              "      background-color: #3B4455;\n",
              "      fill: #D2E3FC;\n",
              "    }\n",
              "\n",
              "    [theme=dark] .colab-df-convert:hover {\n",
              "      background-color: #434B5C;\n",
              "      box-shadow: 0px 1px 3px 1px rgba(0, 0, 0, 0.15);\n",
              "      filter: drop-shadow(0px 1px 2px rgba(0, 0, 0, 0.3));\n",
              "      fill: #FFFFFF;\n",
              "    }\n",
              "  </style>\n",
              "\n",
              "      <script>\n",
              "        const buttonEl =\n",
              "          document.querySelector('#df-032d2b0e-136d-4eb1-9315-c136634b5023 button.colab-df-convert');\n",
              "        buttonEl.style.display =\n",
              "          google.colab.kernel.accessAllowed ? 'block' : 'none';\n",
              "\n",
              "        async function convertToInteractive(key) {\n",
              "          const element = document.querySelector('#df-032d2b0e-136d-4eb1-9315-c136634b5023');\n",
              "          const dataTable =\n",
              "            await google.colab.kernel.invokeFunction('convertToInteractive',\n",
              "                                                     [key], {});\n",
              "          if (!dataTable) return;\n",
              "\n",
              "          const docLinkHtml = 'Like what you see? Visit the ' +\n",
              "            '<a target=\"_blank\" href=https://colab.research.google.com/notebooks/data_table.ipynb>data table notebook</a>'\n",
              "            + ' to learn more about interactive tables.';\n",
              "          element.innerHTML = '';\n",
              "          dataTable['output_type'] = 'display_data';\n",
              "          await google.colab.output.renderOutput(dataTable, element);\n",
              "          const docLink = document.createElement('div');\n",
              "          docLink.innerHTML = docLinkHtml;\n",
              "          element.appendChild(docLink);\n",
              "        }\n",
              "      </script>\n",
              "    </div>\n",
              "  </div>\n",
              "  "
            ]
          },
          "metadata": {},
          "execution_count": 4
        }
      ]
    },
    {
      "cell_type": "code",
      "source": [
        "Z_fuz = np.array([data_2.age, data_2.age, data_2.age]).T"
      ],
      "metadata": {
        "id": "mNaKogZGZmW6"
      },
      "execution_count": null,
      "outputs": []
    },
    {
      "cell_type": "code",
      "source": [
        "W_fuz = np.array([data_2.sex, data_2.sex, data_2.sex]).T"
      ],
      "metadata": {
        "id": "V1kFeT9ma29B"
      },
      "execution_count": null,
      "outputs": []
    },
    {
      "cell_type": "code",
      "source": [
        "X_fuz = np.array([data_2.negemot - 1, data_2.negemot, data_2.negemot + 1]).T"
      ],
      "metadata": {
        "id": "vX5RpftW12QU"
      },
      "execution_count": null,
      "outputs": []
    },
    {
      "cell_type": "code",
      "source": [
        "row, col = X_fuz.shape"
      ],
      "metadata": {
        "id": "r0PNniZb0VOP"
      },
      "execution_count": null,
      "outputs": []
    },
    {
      "cell_type": "code",
      "source": [
        "for i in range(row):    # 1~6 이므로 1보다 작거나 6보다 큰 부분 수정\n",
        "  if X_fuz[i][0] < 1:\n",
        "    X_fuz[i][0] = 1\n",
        "  elif X_fuz[i][2] >6:\n",
        "    X_fuz[i][2] = 6"
      ],
      "metadata": {
        "id": "juo0s54g0O3b"
      },
      "execution_count": null,
      "outputs": []
    },
    {
      "cell_type": "code",
      "source": [
        "Y_fuz = np.array([data_2.govact - 1, data_2.govact, data_2.govact + 1]).T"
      ],
      "metadata": {
        "id": "z8wHynBocY1s"
      },
      "execution_count": null,
      "outputs": []
    },
    {
      "cell_type": "code",
      "source": [
        "row, col = Y_fuz.shape"
      ],
      "metadata": {
        "id": "MdH2qkiZN2Ro"
      },
      "execution_count": null,
      "outputs": []
    },
    {
      "cell_type": "code",
      "source": [
        "for i in range(row):    # 1~7 이므로 1보다 작거나 7보다 큰 부분 수정\n",
        "  if X_fuz[i][0] < 1:\n",
        "    X_fuz[i][0] = 1\n",
        "  elif X_fuz[i][2] >7:\n",
        "    X_fuz[i][2] = 7"
      ],
      "metadata": {
        "id": "1A-tiMyN1omn"
      },
      "execution_count": null,
      "outputs": []
    },
    {
      "cell_type": "code",
      "source": [
        "one = np.ones((815,3))"
      ],
      "metadata": {
        "id": "Dk5JhJorN2bU"
      },
      "execution_count": null,
      "outputs": []
    },
    {
      "cell_type": "code",
      "source": [
        "XW_fuz = X_fuz*W_fuz\n",
        "XZ_fuz = X_fuz*Z_fuz"
      ],
      "metadata": {
        "id": "oXABRU-sQLmy"
      },
      "execution_count": null,
      "outputs": []
    },
    {
      "cell_type": "code",
      "source": [
        "X_mat = np.array([one, X_fuz, W_fuz, Z_fuz, XW_fuz, XZ_fuz])\n",
        "X_mat.shape"
      ],
      "metadata": {
        "colab": {
          "base_uri": "https://localhost:8080/"
        },
        "id": "14jravugPSf1",
        "outputId": "8fe6683a-8a9a-49c8-a028-e5d951284075"
      },
      "execution_count": null,
      "outputs": [
        {
          "output_type": "execute_result",
          "data": {
            "text/plain": [
              "(6, 815, 3)"
            ]
          },
          "metadata": {},
          "execution_count": 15
        }
      ]
    },
    {
      "cell_type": "code",
      "source": [
        "col, row, tri = X_mat.shape\n",
        "print(col, row, tri)"
      ],
      "metadata": {
        "colab": {
          "base_uri": "https://localhost:8080/"
        },
        "id": "RJdf5G6BRm_L",
        "outputId": "f3475605-653b-4d06-9e47-3eba075dab0a"
      },
      "execution_count": null,
      "outputs": [
        {
          "output_type": "stream",
          "name": "stdout",
          "text": [
            "6 815 3\n"
          ]
        }
      ]
    },
    {
      "cell_type": "code",
      "source": [
        "XX = np.zeros((col,col))\n",
        "for i in range(col):\n",
        "  for j in range(col):\n",
        "    sum = 0\n",
        "    for k in range(row):\n",
        "      sum = sum + np.dot(X_mat[i][k], X_mat[j][k])\n",
        "    XX[i][j] = sum"
      ],
      "metadata": {
        "id": "_CXf13LJZqz6"
      },
      "execution_count": null,
      "outputs": []
    },
    {
      "cell_type": "code",
      "source": [
        "XY = np.zeros((col, 1))\n",
        "for i in range(col):\n",
        "  sum = 0\n",
        "  for k in range(row):\n",
        "    sum = sum + np.dot(X_mat[i][k], Y_fuz[k])\n",
        "  XY[i] = sum"
      ],
      "metadata": {
        "id": "l7TdxS89bv53"
      },
      "execution_count": null,
      "outputs": []
    },
    {
      "cell_type": "code",
      "source": [
        "XX_inv = np.linalg.inv(XX)"
      ],
      "metadata": {
        "id": "dXsc6BiegD-J"
      },
      "execution_count": null,
      "outputs": []
    },
    {
      "cell_type": "code",
      "source": [
        "beta = XX_inv @ XY\n",
        "for i in range(len(beta)):\n",
        "  print(beta[i])"
      ],
      "metadata": {
        "colab": {
          "base_uri": "https://localhost:8080/"
        },
        "id": "E-iF7cgXdd3f",
        "outputId": "c8b8b74e-8a1f-4ec2-f2eb-949f4409316f"
      },
      "execution_count": null,
      "outputs": [
        {
          "output_type": "stream",
          "name": "stdout",
          "text": [
            "[3.56820023]\n",
            "[0.35705256]\n",
            "[-0.65323578]\n",
            "[-0.01962873]\n",
            "[0.17608906]\n",
            "[0.00425659]\n"
          ]
        }
      ]
    },
    {
      "cell_type": "code",
      "source": [
        "Y_fuz_hat = 3.5682 + 0.3571 * X_fuz -0.6532* W_fuz - 0.0196 * Z_fuz + 0.1761*X_fuz*W_fuz + 0.0043*X_fuz*Z_fuz"
      ],
      "metadata": {
        "id": "NQ6CZbcJ_Dv2"
      },
      "execution_count": null,
      "outputs": []
    },
    {
      "cell_type": "markdown",
      "source": [
        "* R^2 & F"
      ],
      "metadata": {
        "id": "HEuJfBBnflXc"
      }
    },
    {
      "cell_type": "code",
      "source": [
        "TSS = ((Y_fuz-Y_fuz.mean())**2).sum(axis=1).sum()\n",
        "SSR = ((Y_fuz_hat-Y_fuz.mean())**2).sum(axis=1).sum()\n",
        "SSE = ((Y_fuz-Y_fuz_hat)**2).sum(axis=1).sum()"
      ],
      "metadata": {
        "id": "85HcVSXTeSOG"
      },
      "execution_count": null,
      "outputs": []
    },
    {
      "cell_type": "code",
      "source": [
        "R = 1 - SSE / TSS\n",
        "print(R)"
      ],
      "metadata": {
        "colab": {
          "base_uri": "https://localhost:8080/"
        },
        "id": "I_AxUfVceu8G",
        "outputId": "681dc373-78ad-4676-a565-a6e005b308f8"
      },
      "execution_count": null,
      "outputs": [
        {
          "output_type": "stream",
          "name": "stdout",
          "text": [
            "0.4601619027534075\n"
          ]
        }
      ]
    },
    {
      "cell_type": "code",
      "source": [
        "SSR/TSS"
      ],
      "metadata": {
        "id": "3pOvFypvdy6H",
        "outputId": "684cae70-4a61-41f6-d07d-038f06df637d",
        "colab": {
          "base_uri": "https://localhost:8080/"
        }
      },
      "execution_count": null,
      "outputs": [
        {
          "output_type": "execute_result",
          "data": {
            "text/plain": [
              "0.4630311430931882"
            ]
          },
          "metadata": {},
          "execution_count": 24
        }
      ]
    },
    {
      "cell_type": "code",
      "source": [
        "F = (SSR/5) / (SSE/809)\n",
        "print(F)"
      ],
      "metadata": {
        "colab": {
          "base_uri": "https://localhost:8080/"
        },
        "id": "anFA_4MbeYn1",
        "outputId": "b3d7b7eb-021f-4132-e3dc-f2ed6d6c0db4"
      },
      "execution_count": null,
      "outputs": [
        {
          "output_type": "stream",
          "name": "stdout",
          "text": [
            "138.77945875734642\n"
          ]
        }
      ]
    },
    {
      "cell_type": "code",
      "source": [
        "f_rv = f(5, 809)"
      ],
      "metadata": {
        "id": "fM2pvVz1gnjK"
      },
      "execution_count": null,
      "outputs": []
    },
    {
      "cell_type": "code",
      "source": [
        "1 - f_rv.cdf(F) # F-value "
      ],
      "metadata": {
        "colab": {
          "base_uri": "https://localhost:8080/"
        },
        "id": "Kr8-NjMcgrZR",
        "outputId": "b9716227-ae0f-4e8e-aecc-a4193748c772"
      },
      "execution_count": null,
      "outputs": [
        {
          "output_type": "execute_result",
          "data": {
            "text/plain": [
              "1.1102230246251565e-16"
            ]
          },
          "metadata": {},
          "execution_count": 27
        }
      ]
    },
    {
      "cell_type": "markdown",
      "source": [
        "## * 𝑌=4.4748+0.1154𝑋−0.8449𝑊−0.0241𝑍+0.2208𝑋𝑊+0.0054𝑋𝑍  (crisp)\n",
        "## * 𝑌=3.5682+0.3571𝑋-0.6532𝑊-0.0196𝑍+0.1761𝑋𝑊+0.0043𝑋𝑍  (fuzzy)"
      ],
      "metadata": {
        "id": "zjl-NCajjj8I"
      }
    },
    {
      "cell_type": "markdown",
      "source": [
        "----"
      ],
      "metadata": {
        "id": "8AcmYYp3igb0"
      }
    },
    {
      "cell_type": "code",
      "source": [
        "cov_mat = XX_inv  # fuzzy (X^tX)^-1 공분산행렬\n",
        "cov_mat"
      ],
      "metadata": {
        "colab": {
          "base_uri": "https://localhost:8080/"
        },
        "id": "57YlNYZZhAi1",
        "outputId": "e70d93ba-0b40-4249-9afa-f9642abe0f16"
      },
      "execution_count": null,
      "outputs": [
        {
          "output_type": "execute_result",
          "data": {
            "text/plain": [
              "array([[ 2.78324116e-02, -6.53640455e-03, -2.20106753e-03,\n",
              "        -4.73598940e-04,  4.65331253e-04,  1.12061194e-04],\n",
              "       [-6.53640455e-03,  1.81458995e-03,  4.67775059e-04,\n",
              "         1.12083632e-04, -1.21255789e-04, -3.14474809e-05],\n",
              "       [-2.20106753e-03,  4.67775059e-04,  1.05801914e-02,\n",
              "        -7.18688026e-05, -2.48514991e-03,  1.74073437e-05],\n",
              "       [-4.73598940e-04,  1.12083632e-04, -7.18688026e-05,\n",
              "         1.00787276e-05,  1.74484735e-05, -2.39118027e-06],\n",
              "       [ 4.65331253e-04, -1.21255789e-04, -2.48514991e-03,\n",
              "         1.74484735e-05,  6.95383018e-04, -4.77988079e-06],\n",
              "       [ 1.12061194e-04, -3.14474809e-05,  1.74073437e-05,\n",
              "        -2.39118027e-06, -4.77988079e-06,  6.72855169e-07]])"
            ]
          },
          "metadata": {},
          "execution_count": 28
        }
      ]
    },
    {
      "cell_type": "code",
      "source": [
        "Y_fuz_hat = 3.5682 + 0.3571 * X_fuz -0.6532* W_fuz - 0.0196 * Z_fuz + 0.1761*X_fuz*W_fuz + 0.0043*X_fuz*Z_fuz\n",
        "Y_fuz_hat"
      ],
      "metadata": {
        "colab": {
          "base_uri": "https://localhost:8080/"
        },
        "id": "uGyjICM5i7Q_",
        "outputId": "19d1a002-de32-4f28-d1b3-f9e8d9080aca"
      },
      "execution_count": null,
      "outputs": [
        {
          "output_type": "execute_result",
          "data": {
            "text/plain": [
              "array([[4.645798, 5.265198, 5.884598],\n",
              "       [3.279688, 3.873288, 4.466888],\n",
              "       [3.648529, 4.547229, 5.445929],\n",
              "       ...,\n",
              "       [2.3466  , 2.911276, 3.754076],\n",
              "       [4.055327, 4.567227, 5.079127],\n",
              "       [5.7368  , 6.6226  , 6.6226  ]])"
            ]
          },
          "metadata": {},
          "execution_count": 29
        }
      ]
    },
    {
      "cell_type": "code",
      "source": [
        "Y_fuz"
      ],
      "metadata": {
        "colab": {
          "base_uri": "https://localhost:8080/"
        },
        "id": "6g7CXRp0i1Jk",
        "outputId": "4f099f44-c8ce-419d-92ba-74e4ff752f96"
      },
      "execution_count": null,
      "outputs": [
        {
          "output_type": "execute_result",
          "data": {
            "text/plain": [
              "array([[2.6, 3.6, 4.6],\n",
              "       [4. , 5. , 6. ],\n",
              "       [5.6, 6.6, 7.6],\n",
              "       ...,\n",
              "       [0.6, 1.6, 2.6],\n",
              "       [4.4, 5.4, 6.4],\n",
              "       [4.4, 5.4, 6.4]])"
            ]
          },
          "metadata": {},
          "execution_count": 30
        }
      ]
    },
    {
      "cell_type": "code",
      "source": [
        "Y_fuz - Y_fuz_hat"
      ],
      "metadata": {
        "colab": {
          "base_uri": "https://localhost:8080/"
        },
        "id": "-lmNklRwj3Bk",
        "outputId": "06dd16b0-5486-42d7-9fb2-e60318e196d1"
      },
      "execution_count": null,
      "outputs": [
        {
          "output_type": "execute_result",
          "data": {
            "text/plain": [
              "array([[-2.045798, -1.665198, -1.284598],\n",
              "       [ 0.720312,  1.126712,  1.533112],\n",
              "       [ 1.951471,  2.052771,  2.154071],\n",
              "       ...,\n",
              "       [-1.7466  , -1.311276, -1.154076],\n",
              "       [ 0.344673,  0.832773,  1.320873],\n",
              "       [-1.3368  , -1.2226  , -0.2226  ]])"
            ]
          },
          "metadata": {},
          "execution_count": 31
        }
      ]
    },
    {
      "cell_type": "code",
      "source": [
        "(Y_fuz - Y_fuz_hat) ** 2"
      ],
      "metadata": {
        "colab": {
          "base_uri": "https://localhost:8080/"
        },
        "id": "kLcHT4JpjeSw",
        "outputId": "d21409d8-f49f-44c3-af40-f04254bed0ee"
      },
      "execution_count": null,
      "outputs": [
        {
          "output_type": "execute_result",
          "data": {
            "text/plain": [
              "array([[4.18528946, 2.77288438, 1.65019202],\n",
              "       [0.51884938, 1.26947993, 2.3504324 ],\n",
              "       [3.80823906, 4.21386878, 4.64002187],\n",
              "       ...,\n",
              "       [3.05061156, 1.71944475, 1.33189141],\n",
              "       [0.11879948, 0.69351087, 1.74470548],\n",
              "       [1.78703424, 1.49475076, 0.04955076]])"
            ]
          },
          "metadata": {},
          "execution_count": 32
        }
      ]
    },
    {
      "cell_type": "code",
      "source": [
        "((Y_fuz - Y_fuz_hat) ** 2).sum(axis=1).shape"
      ],
      "metadata": {
        "colab": {
          "base_uri": "https://localhost:8080/"
        },
        "id": "f2ZeQ6ZAlP8A",
        "outputId": "05637fcb-8302-4e88-9236-9d30b194b0a7"
      },
      "execution_count": null,
      "outputs": [
        {
          "output_type": "execute_result",
          "data": {
            "text/plain": [
              "(815,)"
            ]
          },
          "metadata": {},
          "execution_count": 33
        }
      ]
    },
    {
      "cell_type": "code",
      "source": [
        "mse = ((Y_fuz - Y_fuz_hat) ** 2).sum(axis=1).sum() / 809\n",
        "print(mse)"
      ],
      "metadata": {
        "colab": {
          "base_uri": "https://localhost:8080/"
        },
        "id": "xbdGiDhAlWyW",
        "outputId": "664d9db0-def8-4901-81c4-95b38556ab63"
      },
      "execution_count": null,
      "outputs": [
        {
          "output_type": "stream",
          "name": "stdout",
          "text": [
            "4.103587907543788\n"
          ]
        }
      ]
    },
    {
      "cell_type": "code",
      "source": [
        "t_rv = t(df=809)"
      ],
      "metadata": {
        "id": "njNRbv0nvag4"
      },
      "execution_count": null,
      "outputs": []
    },
    {
      "cell_type": "code",
      "source": [
        "se_0 = np.sqrt(cov_mat[0][0] * mse)\n",
        "se_0"
      ],
      "metadata": {
        "colab": {
          "base_uri": "https://localhost:8080/"
        },
        "id": "KCVCsf13lnHO",
        "outputId": "da9f2777-a558-4f5d-bf84-ab4b039ba790"
      },
      "execution_count": null,
      "outputs": [
        {
          "output_type": "execute_result",
          "data": {
            "text/plain": [
              "0.33795376552959244"
            ]
          },
          "metadata": {},
          "execution_count": 36
        }
      ]
    },
    {
      "cell_type": "code",
      "source": [
        "t_0 = 3.5682 / se_0 # 상수의 t_value\n",
        "t_0"
      ],
      "metadata": {
        "colab": {
          "base_uri": "https://localhost:8080/"
        },
        "id": "LRlUj_grmaEB",
        "outputId": "32127188-5be6-45c3-a5c2-0df693945fcd"
      },
      "execution_count": null,
      "outputs": [
        {
          "output_type": "execute_result",
          "data": {
            "text/plain": [
              "10.558248979437856"
            ]
          },
          "metadata": {},
          "execution_count": 37
        }
      ]
    },
    {
      "cell_type": "code",
      "source": [
        "p_0 = (1 - t_rv.cdf(10.558248979437856)) * 2 # p_value\n",
        "p_0"
      ],
      "metadata": {
        "colab": {
          "base_uri": "https://localhost:8080/"
        },
        "id": "wzd06FXTwGBw",
        "outputId": "ed4782c4-94a4-4dc9-ee8f-9b5d3bb37664"
      },
      "execution_count": null,
      "outputs": [
        {
          "output_type": "execute_result",
          "data": {
            "text/plain": [
              "0.0"
            ]
          },
          "metadata": {},
          "execution_count": 38
        }
      ]
    },
    {
      "cell_type": "code",
      "source": [
        "se_1 = np.sqrt(cov_mat[1][1] * mse)\n",
        "se_1"
      ],
      "metadata": {
        "colab": {
          "base_uri": "https://localhost:8080/"
        },
        "outputId": "c8fae0ce-58c0-4b63-bb42-b9bef1bf2ec0",
        "id": "BPdkjmZ5mjXJ"
      },
      "execution_count": null,
      "outputs": [
        {
          "output_type": "execute_result",
          "data": {
            "text/plain": [
              "0.08629211663341034"
            ]
          },
          "metadata": {},
          "execution_count": 39
        }
      ]
    },
    {
      "cell_type": "code",
      "source": [
        "t_1 = 0.3571 / se_1 # t통계량값\n",
        "t_1"
      ],
      "metadata": {
        "colab": {
          "base_uri": "https://localhost:8080/"
        },
        "outputId": "1729d4f1-ab81-4397-db15-f6ea2fb1d3f8",
        "id": "nCP0n2ONmjXK"
      },
      "execution_count": null,
      "outputs": [
        {
          "output_type": "execute_result",
          "data": {
            "text/plain": [
              "4.138269101881538"
            ]
          },
          "metadata": {},
          "execution_count": 40
        }
      ]
    },
    {
      "cell_type": "code",
      "source": [
        "p_1 = (1 - t_rv.cdf(4.138269101881538)) * 2 # p_value\n",
        "p_1"
      ],
      "metadata": {
        "colab": {
          "base_uri": "https://localhost:8080/"
        },
        "id": "69S2J7uKvk_6",
        "outputId": "e9a911c7-042d-42d1-ae1b-cfaf2cd2c338"
      },
      "execution_count": null,
      "outputs": [
        {
          "output_type": "execute_result",
          "data": {
            "text/plain": [
              "3.8659770518867376e-05"
            ]
          },
          "metadata": {},
          "execution_count": 41
        }
      ]
    },
    {
      "cell_type": "code",
      "source": [
        "se_2 = np.sqrt(cov_mat[2][2] * mse)\n",
        "se_2"
      ],
      "metadata": {
        "colab": {
          "base_uri": "https://localhost:8080/"
        },
        "outputId": "189e3261-3cac-4687-eb43-7a61220a5b6f",
        "id": "dWpJm9TBmjfi"
      },
      "execution_count": null,
      "outputs": [
        {
          "output_type": "execute_result",
          "data": {
            "text/plain": [
              "0.20836685267133068"
            ]
          },
          "metadata": {},
          "execution_count": 42
        }
      ]
    },
    {
      "cell_type": "code",
      "source": [
        "t_2 = -0.6532 / se_2 # t통계량값\n",
        "t_2"
      ],
      "metadata": {
        "colab": {
          "base_uri": "https://localhost:8080/"
        },
        "outputId": "11267510-2f5e-4534-969e-48cba5a25321",
        "id": "lgZAJNSymjfj"
      },
      "execution_count": null,
      "outputs": [
        {
          "output_type": "execute_result",
          "data": {
            "text/plain": [
              "-3.134855624230841"
            ]
          },
          "metadata": {},
          "execution_count": 46
        }
      ]
    },
    {
      "cell_type": "code",
      "source": [
        "p_2 = (t_rv.cdf(-3.134855624230841)) * 2 # p_value\n",
        "p_2"
      ],
      "metadata": {
        "colab": {
          "base_uri": "https://localhost:8080/"
        },
        "id": "Nt13zsFcwUO5",
        "outputId": "95f89974-21a4-43d9-bb5c-617f2c2ea532"
      },
      "execution_count": null,
      "outputs": [
        {
          "output_type": "execute_result",
          "data": {
            "text/plain": [
              "0.0017814814740839385"
            ]
          },
          "metadata": {},
          "execution_count": 44
        }
      ]
    },
    {
      "cell_type": "code",
      "source": [
        "se_3 = np.sqrt(cov_mat[3][3] * mse)\n",
        "se_3"
      ],
      "metadata": {
        "colab": {
          "base_uri": "https://localhost:8080/"
        },
        "outputId": "55f17bc3-a640-4b47-ae97-50f94c297c61",
        "id": "jzaZ2zRPqMYw"
      },
      "execution_count": null,
      "outputs": [
        {
          "output_type": "execute_result",
          "data": {
            "text/plain": [
              "0.006431092017836865"
            ]
          },
          "metadata": {},
          "execution_count": 45
        }
      ]
    },
    {
      "cell_type": "code",
      "source": [
        "t_3 = -0.0196 / se_3 # t통계량값\n",
        "t_3"
      ],
      "metadata": {
        "colab": {
          "base_uri": "https://localhost:8080/"
        },
        "outputId": "eceb90b1-963b-487d-c835-193db0217a58",
        "id": "kUZKp8xcqMYx"
      },
      "execution_count": null,
      "outputs": [
        {
          "output_type": "execute_result",
          "data": {
            "text/plain": [
              "-3.047693913512463"
            ]
          },
          "metadata": {},
          "execution_count": 47
        }
      ]
    },
    {
      "cell_type": "code",
      "source": [
        "p_3 = (t_rv.cdf(-3.047693913512463)) * 2 # p_value\n",
        "p_3"
      ],
      "metadata": {
        "colab": {
          "base_uri": "https://localhost:8080/"
        },
        "id": "Z2Ie_LEzwcbk",
        "outputId": "6416ab24-4b73-4b1f-b64b-26a34363f8d2"
      },
      "execution_count": null,
      "outputs": [
        {
          "output_type": "execute_result",
          "data": {
            "text/plain": [
              "0.0023810505327808693"
            ]
          },
          "metadata": {},
          "execution_count": 48
        }
      ]
    },
    {
      "cell_type": "code",
      "source": [
        "se_4 = np.sqrt(cov_mat[4][4] * mse)\n",
        "se_4"
      ],
      "metadata": {
        "colab": {
          "base_uri": "https://localhost:8080/"
        },
        "outputId": "7a6b2ce1-5dff-4158-b63a-5629004839c4",
        "id": "dp1nlYHfqVW7"
      },
      "execution_count": null,
      "outputs": [
        {
          "output_type": "execute_result",
          "data": {
            "text/plain": [
              "0.05341877332003833"
            ]
          },
          "metadata": {},
          "execution_count": 49
        }
      ]
    },
    {
      "cell_type": "code",
      "source": [
        "t_4 = 0.1761 / se_4 # t통계량값\n",
        "t_4"
      ],
      "metadata": {
        "colab": {
          "base_uri": "https://localhost:8080/"
        },
        "outputId": "e3725606-b2c6-440f-cb44-c5c39f486bf0",
        "id": "dN1jrYraqVW7"
      },
      "execution_count": null,
      "outputs": [
        {
          "output_type": "execute_result",
          "data": {
            "text/plain": [
              "3.296593857462125"
            ]
          },
          "metadata": {},
          "execution_count": 50
        }
      ]
    },
    {
      "cell_type": "code",
      "source": [
        "p_4 = (1 - t_rv.cdf(3.296593857462125)) * 2 # p_value\n",
        "p_4"
      ],
      "metadata": {
        "colab": {
          "base_uri": "https://localhost:8080/"
        },
        "id": "HXk0_a3Zwx6w",
        "outputId": "077d735e-fc6d-4a83-9c63-269f50912fce"
      },
      "execution_count": null,
      "outputs": [
        {
          "output_type": "execute_result",
          "data": {
            "text/plain": [
              "0.001021313712599392"
            ]
          },
          "metadata": {},
          "execution_count": 51
        }
      ]
    },
    {
      "cell_type": "code",
      "source": [
        "se_5 = np.sqrt(cov_mat[5][5] * mse)\n",
        "se_5"
      ],
      "metadata": {
        "colab": {
          "base_uri": "https://localhost:8080/"
        },
        "outputId": "a2b1bab0-b032-4d55-a99f-6f90f53c5f4f",
        "id": "83HGqRKYqVlr"
      },
      "execution_count": null,
      "outputs": [
        {
          "output_type": "execute_result",
          "data": {
            "text/plain": [
              "0.001661661919561159"
            ]
          },
          "metadata": {},
          "execution_count": 52
        }
      ]
    },
    {
      "cell_type": "code",
      "source": [
        "t_5 = 0.0043 / se_5 # t통계량값\n",
        "t_5"
      ],
      "metadata": {
        "colab": {
          "base_uri": "https://localhost:8080/"
        },
        "outputId": "035c4f99-7c63-47c7-c7d4-3b190bac257a",
        "id": "OboFRpuUqVls"
      },
      "execution_count": null,
      "outputs": [
        {
          "output_type": "execute_result",
          "data": {
            "text/plain": [
              "2.5877706827003775"
            ]
          },
          "metadata": {},
          "execution_count": 53
        }
      ]
    },
    {
      "cell_type": "code",
      "source": [
        "p_5 = (1 - t_rv.cdf(2.5877706827003775)) * 2 # p_value\n",
        "p_5"
      ],
      "metadata": {
        "colab": {
          "base_uri": "https://localhost:8080/"
        },
        "id": "WKezZfC0w8lx",
        "outputId": "489f1003-08fa-4b27-8c83-ce43abdcedc8"
      },
      "execution_count": null,
      "outputs": [
        {
          "output_type": "execute_result",
          "data": {
            "text/plain": [
              "0.009833150583631323"
            ]
          },
          "metadata": {},
          "execution_count": 54
        }
      ]
    },
    {
      "cell_type": "code",
      "source": [
        "print(p_0)\n",
        "print(p_1)\n",
        "print(p_2)\n",
        "print(p_3)\n",
        "print(p_4)\n",
        "print(p_5)"
      ],
      "metadata": {
        "colab": {
          "base_uri": "https://localhost:8080/"
        },
        "id": "idTWySX2xHAy",
        "outputId": "79820378-a27a-44ab-e9f4-bd5e98b2815b"
      },
      "execution_count": null,
      "outputs": [
        {
          "output_type": "stream",
          "name": "stdout",
          "text": [
            "0.0\n",
            "3.8659770518867376e-05\n",
            "0.0017814814740839385\n",
            "0.0023810505327808693\n",
            "0.001021313712599392\n",
            "0.009833150583631323\n"
          ]
        }
      ]
    },
    {
      "cell_type": "markdown",
      "source": [
        "## * 𝑌=4.4748+0.1154𝑋−0.8449𝑊−0.0241𝑍+0.2208𝑋𝑊+0.0054𝑋𝑍  (crisp)\n",
        "## * 𝑌=3.5682+0.3571𝑋-0.6532𝑊-0.0196𝑍+0.1761𝑋𝑊+0.0043𝑋𝑍  (fuzzy)"
      ],
      "metadata": {
        "id": "dMbwpT_GgmeD"
      }
    },
    {
      "cell_type": "markdown",
      "source": [
        "----"
      ],
      "metadata": {
        "id": "4bPycHTccz_l"
      }
    },
    {
      "cell_type": "markdown",
      "source": [
        "# 2) model 3 (glbwarm data)"
      ],
      "metadata": {
        "id": "6e-YemAmxmI8"
      }
    },
    {
      "cell_type": "markdown",
      "source": [
        "![image.png](data:image/png;base64,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)"
      ],
      "metadata": {
        "id": "Hd6PKbtHgeMC"
      }
    },
    {
      "cell_type": "markdown",
      "source": [
        "X: Negative_Emotions(기후변화에 대해 부정적인 감정을 갖고 있는 정도)  \n",
        "Y: Government_Action(기후변화에 대한 정부의 조치를 지지하는 것)  \n",
        "W: Sex(성별) (여성 - 0, 남성 - 1)  \n",
        "Z: Age(나이)  \n"
      ],
      "metadata": {
        "id": "ElAVFOWpxmI-"
      }
    },
    {
      "cell_type": "code",
      "source": [
        "WZ_fuz = W_fuz * Z_fuz\n",
        "XWZ_fuz = X_fuz * W_fuz * Z_fuz"
      ],
      "metadata": {
        "id": "CHtU8l9_k6E-"
      },
      "execution_count": null,
      "outputs": []
    },
    {
      "cell_type": "code",
      "source": [
        "X_mat = np.array([one, X_fuz, W_fuz, Z_fuz, XW_fuz, XZ_fuz, WZ_fuz, XWZ_fuz])\n",
        "X_mat.shape"
      ],
      "metadata": {
        "colab": {
          "base_uri": "https://localhost:8080/"
        },
        "outputId": "1bc3c70a-092d-46b6-81c4-b5353addea6f",
        "id": "AWq9JeV-lFoJ"
      },
      "execution_count": null,
      "outputs": [
        {
          "output_type": "execute_result",
          "data": {
            "text/plain": [
              "(8, 815, 3)"
            ]
          },
          "metadata": {},
          "execution_count": 57
        }
      ]
    },
    {
      "cell_type": "code",
      "source": [
        "col, row, tri = X_mat.shape\n",
        "print(col, row, tri)"
      ],
      "metadata": {
        "colab": {
          "base_uri": "https://localhost:8080/"
        },
        "outputId": "a14d520f-234a-4121-88fb-fba0ed250438",
        "id": "exPzWBjDlFoJ"
      },
      "execution_count": null,
      "outputs": [
        {
          "output_type": "stream",
          "name": "stdout",
          "text": [
            "8 815 3\n"
          ]
        }
      ]
    },
    {
      "cell_type": "code",
      "source": [
        "XX = np.zeros((col,col))\n",
        "for i in range(col):\n",
        "  for j in range(col):\n",
        "    sum = 0\n",
        "    for k in range(row):\n",
        "      sum = sum + np.dot(X_mat[i][k], X_mat[j][k])\n",
        "    XX[i][j] = sum"
      ],
      "metadata": {
        "id": "LJ1u7lM-lFoK"
      },
      "execution_count": null,
      "outputs": []
    },
    {
      "cell_type": "code",
      "source": [
        "XY = np.zeros((col, 1))\n",
        "for i in range(col):\n",
        "  sum = 0\n",
        "  for k in range(row):\n",
        "    sum = sum + np.dot(X_mat[i][k], Y_fuz[k])\n",
        "  XY[i] = sum"
      ],
      "metadata": {
        "id": "WJJYd8jTlFoK"
      },
      "execution_count": null,
      "outputs": []
    },
    {
      "cell_type": "code",
      "source": [
        "XX_inv = np.linalg.inv(XX)"
      ],
      "metadata": {
        "id": "RmcJaGZTlb_m"
      },
      "execution_count": null,
      "outputs": []
    },
    {
      "cell_type": "code",
      "source": [
        "beta = XX_inv @ XY\n",
        "for i in range(len(beta)):\n",
        "  print(beta[i])"
      ],
      "metadata": {
        "colab": {
          "base_uri": "https://localhost:8080/"
        },
        "outputId": "68b0884f-0b36-460d-8704-6222439753fa",
        "id": "NHdkxYqqlb_o"
      },
      "execution_count": null,
      "outputs": [
        {
          "output_type": "stream",
          "name": "stdout",
          "text": [
            "[2.94758149]\n",
            "[0.50451951]\n",
            "[0.45947861]\n",
            "[-0.00642049]\n",
            "[-0.09277373]\n",
            "[0.00111032]\n",
            "[-0.02229994]\n",
            "[0.00539065]\n"
          ]
        }
      ]
    },
    {
      "cell_type": "code",
      "source": [
        "Y_fuz_hat = 2.9476+0.5045*X_fuz+0.4595*W_fuz-0.0064*Z_fuz-0.0928*X_fuz*W_fuz+0.0011*X_fuz*Z_fuz-0.0223*W_fuz*Z_fuz+0.0054*X_fuz*W_fuz*Z_fuz"
      ],
      "metadata": {
        "id": "IWDZjRvtldyC"
      },
      "execution_count": null,
      "outputs": []
    },
    {
      "cell_type": "markdown",
      "source": [
        "* R^2 & F"
      ],
      "metadata": {
        "id": "0TKyjWgjldyC"
      }
    },
    {
      "cell_type": "code",
      "source": [
        "TSS = ((Y_fuz-Y_fuz.mean())**2).sum(axis=1).sum()\n",
        "SSR = ((Y_fuz_hat-Y_fuz.mean())**2).sum(axis=1).sum()\n",
        "SSE = ((Y_fuz-Y_fuz_hat)**2).sum(axis=1).sum()"
      ],
      "metadata": {
        "id": "Hz6QXH9GldyC"
      },
      "execution_count": null,
      "outputs": []
    },
    {
      "cell_type": "code",
      "source": [
        "R = 1 - SSE / TSS\n",
        "print(R)"
      ],
      "metadata": {
        "colab": {
          "base_uri": "https://localhost:8080/"
        },
        "outputId": "13980a4e-e3ff-486c-d7b5-f878bf0246ba",
        "id": "dvI7-WoxldyC"
      },
      "execution_count": null,
      "outputs": [
        {
          "output_type": "stream",
          "name": "stdout",
          "text": [
            "0.4621431093835787\n"
          ]
        }
      ]
    },
    {
      "cell_type": "code",
      "source": [
        "F = (SSR/7) / (SSE/807)\n",
        "print(F)"
      ],
      "metadata": {
        "colab": {
          "base_uri": "https://localhost:8080/"
        },
        "outputId": "83c01e17-33f9-4895-bf68-be639d74ffdb",
        "id": "D0KGd9AQldyC"
      },
      "execution_count": null,
      "outputs": [
        {
          "output_type": "stream",
          "name": "stdout",
          "text": [
            "98.96139722122743\n"
          ]
        }
      ]
    },
    {
      "cell_type": "code",
      "source": [
        "f_rv = f(7, 807)"
      ],
      "metadata": {
        "id": "7gESY2OAldyD"
      },
      "execution_count": null,
      "outputs": []
    },
    {
      "cell_type": "code",
      "source": [
        "1 - f_rv.cdf(F) # F-value "
      ],
      "metadata": {
        "colab": {
          "base_uri": "https://localhost:8080/"
        },
        "outputId": "dd65f428-1315-48bd-91af-4ddd54e651e8",
        "id": "QBWQVItEldyD"
      },
      "execution_count": null,
      "outputs": [
        {
          "output_type": "execute_result",
          "data": {
            "text/plain": [
              "1.1102230246251565e-16"
            ]
          },
          "metadata": {},
          "execution_count": 68
        }
      ]
    },
    {
      "cell_type": "markdown",
      "source": [
        "## * 𝑌=3.6733+0.3120𝑋+0.5985𝑊−0.0071𝑍−0.1413𝑋𝑊+0.0012𝑋𝑍−0.0287𝑊𝑍+0.0072𝑋𝑊𝑍 (crisp)\n",
        "## * 𝑌=2.9476+0.5045𝑋+0.4595𝑊−0.0064𝑍-0.0928𝑋𝑊+0.0011𝑋𝑍-0.0223𝑊𝑍+0.0054𝑋𝑊𝑍 (fuzzy)"
      ],
      "metadata": {
        "id": "qm_Z3qMZlAfz"
      }
    },
    {
      "cell_type": "markdown",
      "source": [
        "----"
      ],
      "metadata": {
        "id": "BH87UOEYk6Jy"
      }
    },
    {
      "cell_type": "code",
      "source": [
        "cov_mat = XX_inv  # fuzzy (X^tX)^-1 공분산행렬"
      ],
      "metadata": {
        "id": "k5NreOj80WfR"
      },
      "execution_count": null,
      "outputs": []
    },
    {
      "cell_type": "code",
      "source": [
        "Y_fuz_hat = 2.9476+0.5045*X_fuz+0.4595*W_fuz-0.0064*Z_fuz-0.0928*X_fuz*W_fuz+0.0011*X_fuz*Z_fuz-0.0223*W_fuz*Z_fuz+0.0054*X_fuz*W_fuz*Z_fuz"
      ],
      "metadata": {
        "id": "iWNDlfML0WfS"
      },
      "execution_count": null,
      "outputs": []
    },
    {
      "cell_type": "code",
      "source": [
        "mse = ((Y_fuz - Y_fuz_hat) ** 2).sum(axis=1).sum() / 807  # 자유도 815 - 8\n",
        "print(mse)"
      ],
      "metadata": {
        "colab": {
          "base_uri": "https://localhost:8080/"
        },
        "outputId": "cfaa98ff-9c36-418f-ecda-042c67a2931b",
        "id": "O_BlEt_10WfT"
      },
      "execution_count": null,
      "outputs": [
        {
          "output_type": "stream",
          "name": "stdout",
          "text": [
            "4.098660392312818\n"
          ]
        }
      ]
    },
    {
      "cell_type": "code",
      "source": [
        "t_rv = t(df=807)"
      ],
      "metadata": {
        "id": "9dqQ4NG80WfT"
      },
      "execution_count": null,
      "outputs": []
    },
    {
      "cell_type": "code",
      "source": [
        "se_0 = np.sqrt(cov_mat[0][0] * mse)\n",
        "se_0"
      ],
      "metadata": {
        "colab": {
          "base_uri": "https://localhost:8080/"
        },
        "outputId": "4ceaae08-4f0a-4889-9642-ba037fe2a509",
        "id": "bHDiLUty0WfT"
      },
      "execution_count": null,
      "outputs": [
        {
          "output_type": "execute_result",
          "data": {
            "text/plain": [
              "0.4975160154656975"
            ]
          },
          "metadata": {},
          "execution_count": 73
        }
      ]
    },
    {
      "cell_type": "code",
      "source": [
        "t_0 = 2.9476 / se_0 # 상수의 t_value\n",
        "t_0"
      ],
      "metadata": {
        "colab": {
          "base_uri": "https://localhost:8080/"
        },
        "outputId": "ae5d03d4-fff9-415c-bcf1-135f5937be88",
        "id": "eDxb9bA-0WfT"
      },
      "execution_count": null,
      "outputs": [
        {
          "output_type": "execute_result",
          "data": {
            "text/plain": [
              "5.924633395451426"
            ]
          },
          "metadata": {},
          "execution_count": 74
        }
      ]
    },
    {
      "cell_type": "code",
      "source": [
        "p_0 = (1 - t_rv.cdf(t_0)) * 2 # p_value\n",
        "p_0"
      ],
      "metadata": {
        "colab": {
          "base_uri": "https://localhost:8080/"
        },
        "outputId": "3564c85d-ebf9-496c-f5bb-1d1113d8ff59",
        "id": "WzsPiH5c0WfT"
      },
      "execution_count": null,
      "outputs": [
        {
          "output_type": "execute_result",
          "data": {
            "text/plain": [
              "4.6321690927442205e-09"
            ]
          },
          "metadata": {},
          "execution_count": 75
        }
      ]
    },
    {
      "cell_type": "code",
      "source": [
        "se_1 = np.sqrt(cov_mat[1][1] * mse)\n",
        "se_1"
      ],
      "metadata": {
        "colab": {
          "base_uri": "https://localhost:8080/"
        },
        "outputId": "92cb36e9-1fde-46fd-c848-db31b60a379f",
        "id": "g_ppgUg-0WfT"
      },
      "execution_count": null,
      "outputs": [
        {
          "output_type": "execute_result",
          "data": {
            "text/plain": [
              "0.12473129766683666"
            ]
          },
          "metadata": {},
          "execution_count": 76
        }
      ]
    },
    {
      "cell_type": "code",
      "source": [
        "t_1 = 0.5045 / se_1 # t통계량값\n",
        "t_1"
      ],
      "metadata": {
        "colab": {
          "base_uri": "https://localhost:8080/"
        },
        "outputId": "936ac3c1-0a5c-4fc9-9c84-59f038b3a56b",
        "id": "NQkdlBjI0WfT"
      },
      "execution_count": null,
      "outputs": [
        {
          "output_type": "execute_result",
          "data": {
            "text/plain": [
              "4.044694550902083"
            ]
          },
          "metadata": {},
          "execution_count": 77
        }
      ]
    },
    {
      "cell_type": "code",
      "source": [
        "p_1 = (1 - t_rv.cdf(t_1)) * 2 # p_value\n",
        "p_1"
      ],
      "metadata": {
        "colab": {
          "base_uri": "https://localhost:8080/"
        },
        "outputId": "23565d11-281c-40ae-a7a3-bf2d44678bef",
        "id": "TkwoQZOW0WfU"
      },
      "execution_count": null,
      "outputs": [
        {
          "output_type": "execute_result",
          "data": {
            "text/plain": [
              "5.741914150059202e-05"
            ]
          },
          "metadata": {},
          "execution_count": 78
        }
      ]
    },
    {
      "cell_type": "code",
      "source": [
        "se_2 = np.sqrt(cov_mat[2][2] * mse)\n",
        "se_2"
      ],
      "metadata": {
        "colab": {
          "base_uri": "https://localhost:8080/"
        },
        "outputId": "43020ae9-5ac8-4776-b694-58f797635f49",
        "id": "B-naLnjT0WfU"
      },
      "execution_count": null,
      "outputs": [
        {
          "output_type": "execute_result",
          "data": {
            "text/plain": [
              "0.6856792163691621"
            ]
          },
          "metadata": {},
          "execution_count": 79
        }
      ]
    },
    {
      "cell_type": "code",
      "source": [
        "t_2 = 0.4595 / se_2 # t통계량값\n",
        "t_2"
      ],
      "metadata": {
        "colab": {
          "base_uri": "https://localhost:8080/"
        },
        "outputId": "58f95938-3d55-4441-a4eb-d6481d53061f",
        "id": "QOH6NQ3F0WfU"
      },
      "execution_count": null,
      "outputs": [
        {
          "output_type": "execute_result",
          "data": {
            "text/plain": [
              "0.6701384394194768"
            ]
          },
          "metadata": {},
          "execution_count": 80
        }
      ]
    },
    {
      "cell_type": "code",
      "source": [
        "p_2 = (1- t_rv.cdf(t_2)) * 2 # p_value\n",
        "p_2"
      ],
      "metadata": {
        "colab": {
          "base_uri": "https://localhost:8080/"
        },
        "outputId": "aec9552f-4cd6-49fb-f428-699d30cfb0f6",
        "id": "feEW2UeE0WfU"
      },
      "execution_count": null,
      "outputs": [
        {
          "output_type": "execute_result",
          "data": {
            "text/plain": [
              "0.5029612543679511"
            ]
          },
          "metadata": {},
          "execution_count": 81
        }
      ]
    },
    {
      "cell_type": "code",
      "source": [
        "se_3 = np.sqrt(cov_mat[3][3] * mse)\n",
        "se_3"
      ],
      "metadata": {
        "colab": {
          "base_uri": "https://localhost:8080/"
        },
        "outputId": "dcb7d35a-1373-4997-dbf8-3cfc0335d074",
        "id": "o1R_LGzT0WfU"
      },
      "execution_count": null,
      "outputs": [
        {
          "output_type": "execute_result",
          "data": {
            "text/plain": [
              "0.010084373269480388"
            ]
          },
          "metadata": {},
          "execution_count": 82
        }
      ]
    },
    {
      "cell_type": "code",
      "source": [
        "t_3 = -0.0064 / se_3 # t통계량값\n",
        "t_3"
      ],
      "metadata": {
        "colab": {
          "base_uri": "https://localhost:8080/"
        },
        "outputId": "8886312d-0bb7-4a19-b603-acdc2d7c13f3",
        "id": "Cq-Fs1X40WfU"
      },
      "execution_count": null,
      "outputs": [
        {
          "output_type": "execute_result",
          "data": {
            "text/plain": [
              "-0.6346452901906288"
            ]
          },
          "metadata": {},
          "execution_count": 83
        }
      ]
    },
    {
      "cell_type": "code",
      "source": [
        "p_3 = (t_rv.cdf(t_3)) * 2 # p_value\n",
        "p_3"
      ],
      "metadata": {
        "colab": {
          "base_uri": "https://localhost:8080/"
        },
        "outputId": "f487acf1-a4ff-4174-d057-c6ddf5a8c6d2",
        "id": "9PzeqtbE0WfU"
      },
      "execution_count": null,
      "outputs": [
        {
          "output_type": "execute_result",
          "data": {
            "text/plain": [
              "0.5258396570152476"
            ]
          },
          "metadata": {},
          "execution_count": 84
        }
      ]
    },
    {
      "cell_type": "code",
      "source": [
        "se_4 = np.sqrt(cov_mat[4][4] * mse)\n",
        "se_4"
      ],
      "metadata": {
        "colab": {
          "base_uri": "https://localhost:8080/"
        },
        "outputId": "c384f57c-2328-4f42-dd5e-b05f6383c7c5",
        "id": "LEbFYCQQ0WfV"
      },
      "execution_count": null,
      "outputs": [
        {
          "output_type": "execute_result",
          "data": {
            "text/plain": [
              "0.17571637338906834"
            ]
          },
          "metadata": {},
          "execution_count": 85
        }
      ]
    },
    {
      "cell_type": "code",
      "source": [
        "t_4 = -0.0928 / se_4 # t통계량값\n",
        "t_4"
      ],
      "metadata": {
        "colab": {
          "base_uri": "https://localhost:8080/"
        },
        "outputId": "01520675-8468-4848-a436-d19eeef6255a",
        "id": "UOWOnS5-0WfV"
      },
      "execution_count": null,
      "outputs": [
        {
          "output_type": "execute_result",
          "data": {
            "text/plain": [
              "-0.5281238066217298"
            ]
          },
          "metadata": {},
          "execution_count": 86
        }
      ]
    },
    {
      "cell_type": "code",
      "source": [
        "p_4 = (t_rv.cdf(t_4)) * 2 # p_value\n",
        "p_4"
      ],
      "metadata": {
        "colab": {
          "base_uri": "https://localhost:8080/"
        },
        "outputId": "0c0e6bd3-6dff-42e7-a6dd-26547e1a56e4",
        "id": "b5y-EndL0WfV"
      },
      "execution_count": null,
      "outputs": [
        {
          "output_type": "execute_result",
          "data": {
            "text/plain": [
              "0.5975585970504016"
            ]
          },
          "metadata": {},
          "execution_count": 87
        }
      ]
    },
    {
      "cell_type": "code",
      "source": [
        "se_5 = np.sqrt(cov_mat[5][5] * mse)\n",
        "se_5"
      ],
      "metadata": {
        "colab": {
          "base_uri": "https://localhost:8080/"
        },
        "outputId": "672be802-64f5-4919-d663-a96d5c634f1c",
        "id": "ny7NUClW0WfV"
      },
      "execution_count": null,
      "outputs": [
        {
          "output_type": "execute_result",
          "data": {
            "text/plain": [
              "0.0025433641643564857"
            ]
          },
          "metadata": {},
          "execution_count": 88
        }
      ]
    },
    {
      "cell_type": "code",
      "source": [
        "t_5 = 0.0011 / se_5 # t통계량값\n",
        "t_5"
      ],
      "metadata": {
        "colab": {
          "base_uri": "https://localhost:8080/"
        },
        "outputId": "798c5d92-8564-4ac8-f331-3214ee6e4be4",
        "id": "zPIXhEC20WfV"
      },
      "execution_count": null,
      "outputs": [
        {
          "output_type": "execute_result",
          "data": {
            "text/plain": [
              "0.43249803367356904"
            ]
          },
          "metadata": {},
          "execution_count": 89
        }
      ]
    },
    {
      "cell_type": "code",
      "source": [
        "p_5 = (1 - t_rv.cdf(t_5)) * 2 # p_value\n",
        "p_5"
      ],
      "metadata": {
        "colab": {
          "base_uri": "https://localhost:8080/"
        },
        "outputId": "b9dcdbad-1fb8-4262-8411-9a5e9b8bb088",
        "id": "GkFDILJ80WfW"
      },
      "execution_count": null,
      "outputs": [
        {
          "output_type": "execute_result",
          "data": {
            "text/plain": [
              "0.6654950295224618"
            ]
          },
          "metadata": {},
          "execution_count": 90
        }
      ]
    },
    {
      "cell_type": "code",
      "source": [
        "se_6 = np.sqrt(cov_mat[6][6] * mse)\n",
        "se_6"
      ],
      "metadata": {
        "colab": {
          "base_uri": "https://localhost:8080/"
        },
        "outputId": "8322090b-1484-48ec-d0a0-e76a6d6756d4",
        "id": "EKNmL2-O3QKK"
      },
      "execution_count": null,
      "outputs": [
        {
          "output_type": "execute_result",
          "data": {
            "text/plain": [
              "0.013092619415214786"
            ]
          },
          "metadata": {},
          "execution_count": 91
        }
      ]
    },
    {
      "cell_type": "code",
      "source": [
        "t_6 = -0.0223 / se_6 # t통계량값\n",
        "t_6"
      ],
      "metadata": {
        "colab": {
          "base_uri": "https://localhost:8080/"
        },
        "outputId": "524a4525-03bb-4d76-9adb-111ee26c257d",
        "id": "j2fO9Z2D3QKL"
      },
      "execution_count": null,
      "outputs": [
        {
          "output_type": "execute_result",
          "data": {
            "text/plain": [
              "-1.7032496930358658"
            ]
          },
          "metadata": {},
          "execution_count": 92
        }
      ]
    },
    {
      "cell_type": "code",
      "source": [
        "p_6 = (t_rv.cdf(t_6)) * 2 # p_value\n",
        "p_6"
      ],
      "metadata": {
        "colab": {
          "base_uri": "https://localhost:8080/"
        },
        "outputId": "bf1170fa-a900-48e2-a854-cdc7d4b343b5",
        "id": "Qoowai9G3QKL"
      },
      "execution_count": null,
      "outputs": [
        {
          "output_type": "execute_result",
          "data": {
            "text/plain": [
              "0.0889063781869506"
            ]
          },
          "metadata": {},
          "execution_count": 93
        }
      ]
    },
    {
      "cell_type": "code",
      "source": [
        "se_7 = np.sqrt(cov_mat[7][7] * mse)\n",
        "se_7"
      ],
      "metadata": {
        "colab": {
          "base_uri": "https://localhost:8080/"
        },
        "outputId": "6ccc85bd-494e-4f4e-dfac-5882fd64cc8c",
        "id": "BMtRaW2o3Qao"
      },
      "execution_count": null,
      "outputs": [
        {
          "output_type": "execute_result",
          "data": {
            "text/plain": [
              "0.003363390071936252"
            ]
          },
          "metadata": {},
          "execution_count": 94
        }
      ]
    },
    {
      "cell_type": "code",
      "source": [
        "t_7 = 0.0054 / se_7 # t통계량값\n",
        "t_7"
      ],
      "metadata": {
        "colab": {
          "base_uri": "https://localhost:8080/"
        },
        "outputId": "3a9d195b-08d2-4a69-d6c9-9056c762e0f9",
        "id": "vqTGtsVp3Qap"
      },
      "execution_count": null,
      "outputs": [
        {
          "output_type": "execute_result",
          "data": {
            "text/plain": [
              "1.6055229647780054"
            ]
          },
          "metadata": {},
          "execution_count": 95
        }
      ]
    },
    {
      "cell_type": "code",
      "source": [
        "p_7 = (1 - t_rv.cdf(t_7)) * 2 # p_value\n",
        "p_7"
      ],
      "metadata": {
        "colab": {
          "base_uri": "https://localhost:8080/"
        },
        "outputId": "787323af-00e9-4811-904b-a9f8c496907b",
        "id": "yOZDbC9Q3Qap"
      },
      "execution_count": null,
      "outputs": [
        {
          "output_type": "execute_result",
          "data": {
            "text/plain": [
              "0.10876997968313207"
            ]
          },
          "metadata": {},
          "execution_count": 96
        }
      ]
    },
    {
      "cell_type": "code",
      "source": [
        "print(p_0)\n",
        "print(p_1)\n",
        "print(p_2)\n",
        "print(p_3)\n",
        "print(p_4)\n",
        "print(p_5)\n",
        "print(p_6)\n",
        "print(p_7)"
      ],
      "metadata": {
        "colab": {
          "base_uri": "https://localhost:8080/"
        },
        "outputId": "7e56383b-8ca4-48b2-cd8b-4c5d0b672068",
        "id": "3pBG0hIZ0WfW"
      },
      "execution_count": null,
      "outputs": [
        {
          "output_type": "stream",
          "name": "stdout",
          "text": [
            "4.6321690927442205e-09\n",
            "5.741914150059202e-05\n",
            "0.5029612543679511\n",
            "0.5258396570152476\n",
            "0.5975585970504016\n",
            "0.6654950295224618\n",
            "0.0889063781869506\n",
            "0.10876997968313207\n"
          ]
        }
      ]
    },
    {
      "cell_type": "markdown",
      "source": [
        "## * 𝑌=3.6733+0.3120𝑋+0.5985𝑊−0.0071𝑍−0.1413𝑋𝑊+0.0012𝑋𝑍−0.0287𝑊𝑍+0.0072𝑋𝑊𝑍 (crisp)\n",
        "## * 𝑌=2.9476+0.5045𝑋+0.4595𝑊−0.0064𝑍-0.0928𝑋𝑊+0.0011𝑋𝑍-0.0223𝑊𝑍+0.0054𝑋𝑊𝑍 (fuzzy)"
      ],
      "metadata": {
        "id": "euVu8nF70QiE"
      }
    },
    {
      "cell_type": "markdown",
      "source": [
        "----"
      ],
      "metadata": {
        "id": "pniq9YES0PEC"
      }
    },
    {
      "cell_type": "markdown",
      "source": [
        "# 3) model 16 (bike data)"
      ],
      "metadata": {
        "id": "JfYV5zCxVSa-"
      }
    },
    {
      "cell_type": "markdown",
      "source": [
        "![image.png](data:image/png;base64,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)"
      ],
      "metadata": {
        "id": "k0YfnOKNVJRi"
      }
    },
    {
      "cell_type": "markdown",
      "source": [
        "X: hour(시간)  \n",
        "M: temp(기온)  \n",
        "Y: rental_cnt(자전거 렌탈횟수)  \n",
        "W: weathersit  \n",
        "Z: hum(습도)\n",
        "\n",
        "---- \n",
        "weathersit\n",
        "* 1: Clear, Few clouds, Partly cloudy, Partly cloudy  \n",
        "* 2: Mist + Cloudy, Mist + Broken clouds, Mist + Few clouds, Mist  \n",
        "* 3: Light Snow, Light Rain + Thunderstorm + Scattered clouds, Light Rain + Scattered clouds  \n",
        "* 4: Heavy Rain + Ice Pallets + Thunderstorm + Mist, Snow + Fog  \n"
      ],
      "metadata": {
        "id": "8VkSo6DzVfEt"
      }
    },
    {
      "cell_type": "markdown",
      "source": [
        "## * 퍼지화 \n",
        "- M, Z : 연속적인 시계열 데이터이므로 spread를 (다음값 - 현재값) / 2 로 사용하여 삼각퍼지숫자 생성  \n",
        "(마지막 data는 직전 spread 사용)  \n",
        "- X, Y : crisp data\n",
        "- W : 1~4 척도를 가지고 측정했으므로 설문조사와 같은 이유로 1 spread 사용하여 삼각퍼지숫자 생성"
      ],
      "metadata": {
        "id": "Ot0iaQK0Vilo"
      }
    },
    {
      "cell_type": "code",
      "source": [
        "data_16 = pd.read_csv('/content/Drive/MyDrive/논문/model_16_bike.csv')\n",
        "data_16.head()"
      ],
      "metadata": {
        "colab": {
          "base_uri": "https://localhost:8080/",
          "height": 206
        },
        "outputId": "fbd74b32-5d4d-4798-d07d-2d5cb3ae3a86",
        "id": "eRnSyyfDVilo"
      },
      "execution_count": null,
      "outputs": [
        {
          "output_type": "execute_result",
          "data": {
            "text/plain": [
              "       dteday  hr  weathersit  temp   atemp   hum  windspeed  casual       cnt\n",
              "0  2011-01-01   1           1  0.22  0.2727  0.80        0.0       8  0.040000\n",
              "1  2011-01-01   2           1  0.22  0.2727  0.80        0.0       5  0.031795\n",
              "2  2011-01-01   4           1  0.24  0.2879  0.75        0.0       0  0.000000\n",
              "3  2011-01-01   6           1  0.22  0.2727  0.80        0.0       2  0.001026\n",
              "4  2011-01-01   7           1  0.20  0.2576  0.86        0.0       1  0.002051"
            ],
            "text/html": [
              "\n",
              "  <div id=\"df-2f556a92-fa03-4522-9ac8-d5eb2cc968e2\">\n",
              "    <div class=\"colab-df-container\">\n",
              "      <div>\n",
              "<style scoped>\n",
              "    .dataframe tbody tr th:only-of-type {\n",
              "        vertical-align: middle;\n",
              "    }\n",
              "\n",
              "    .dataframe tbody tr th {\n",
              "        vertical-align: top;\n",
              "    }\n",
              "\n",
              "    .dataframe thead th {\n",
              "        text-align: right;\n",
              "    }\n",
              "</style>\n",
              "<table border=\"1\" class=\"dataframe\">\n",
              "  <thead>\n",
              "    <tr style=\"text-align: right;\">\n",
              "      <th></th>\n",
              "      <th>dteday</th>\n",
              "      <th>hr</th>\n",
              "      <th>weathersit</th>\n",
              "      <th>temp</th>\n",
              "      <th>atemp</th>\n",
              "      <th>hum</th>\n",
              "      <th>windspeed</th>\n",
              "      <th>casual</th>\n",
              "      <th>cnt</th>\n",
              "    </tr>\n",
              "  </thead>\n",
              "  <tbody>\n",
              "    <tr>\n",
              "      <th>0</th>\n",
              "      <td>2011-01-01</td>\n",
              "      <td>1</td>\n",
              "      <td>1</td>\n",
              "      <td>0.22</td>\n",
              "      <td>0.2727</td>\n",
              "      <td>0.80</td>\n",
              "      <td>0.0</td>\n",
              "      <td>8</td>\n",
              "      <td>0.040000</td>\n",
              "    </tr>\n",
              "    <tr>\n",
              "      <th>1</th>\n",
              "      <td>2011-01-01</td>\n",
              "      <td>2</td>\n",
              "      <td>1</td>\n",
              "      <td>0.22</td>\n",
              "      <td>0.2727</td>\n",
              "      <td>0.80</td>\n",
              "      <td>0.0</td>\n",
              "      <td>5</td>\n",
              "      <td>0.031795</td>\n",
              "    </tr>\n",
              "    <tr>\n",
              "      <th>2</th>\n",
              "      <td>2011-01-01</td>\n",
              "      <td>4</td>\n",
              "      <td>1</td>\n",
              "      <td>0.24</td>\n",
              "      <td>0.2879</td>\n",
              "      <td>0.75</td>\n",
              "      <td>0.0</td>\n",
              "      <td>0</td>\n",
              "      <td>0.000000</td>\n",
              "    </tr>\n",
              "    <tr>\n",
              "      <th>3</th>\n",
              "      <td>2011-01-01</td>\n",
              "      <td>6</td>\n",
              "      <td>1</td>\n",
              "      <td>0.22</td>\n",
              "      <td>0.2727</td>\n",
              "      <td>0.80</td>\n",
              "      <td>0.0</td>\n",
              "      <td>2</td>\n",
              "      <td>0.001026</td>\n",
              "    </tr>\n",
              "    <tr>\n",
              "      <th>4</th>\n",
              "      <td>2011-01-01</td>\n",
              "      <td>7</td>\n",
              "      <td>1</td>\n",
              "      <td>0.20</td>\n",
              "      <td>0.2576</td>\n",
              "      <td>0.86</td>\n",
              "      <td>0.0</td>\n",
              "      <td>1</td>\n",
              "      <td>0.002051</td>\n",
              "    </tr>\n",
              "  </tbody>\n",
              "</table>\n",
              "</div>\n",
              "      <button class=\"colab-df-convert\" onclick=\"convertToInteractive('df-2f556a92-fa03-4522-9ac8-d5eb2cc968e2')\"\n",
              "              title=\"Convert this dataframe to an interactive table.\"\n",
              "              style=\"display:none;\">\n",
              "        \n",
              "  <svg xmlns=\"http://www.w3.org/2000/svg\" height=\"24px\"viewBox=\"0 0 24 24\"\n",
              "       width=\"24px\">\n",
              "    <path d=\"M0 0h24v24H0V0z\" fill=\"none\"/>\n",
              "    <path d=\"M18.56 5.44l.94 2.06.94-2.06 2.06-.94-2.06-.94-.94-2.06-.94 2.06-2.06.94zm-11 1L8.5 8.5l.94-2.06 2.06-.94-2.06-.94L8.5 2.5l-.94 2.06-2.06.94zm10 10l.94 2.06.94-2.06 2.06-.94-2.06-.94-.94-2.06-.94 2.06-2.06.94z\"/><path d=\"M17.41 7.96l-1.37-1.37c-.4-.4-.92-.59-1.43-.59-.52 0-1.04.2-1.43.59L10.3 9.45l-7.72 7.72c-.78.78-.78 2.05 0 2.83L4 21.41c.39.39.9.59 1.41.59.51 0 1.02-.2 1.41-.59l7.78-7.78 2.81-2.81c.8-.78.8-2.07 0-2.86zM5.41 20L4 18.59l7.72-7.72 1.47 1.35L5.41 20z\"/>\n",
              "  </svg>\n",
              "      </button>\n",
              "      \n",
              "  <style>\n",
              "    .colab-df-container {\n",
              "      display:flex;\n",
              "      flex-wrap:wrap;\n",
              "      gap: 12px;\n",
              "    }\n",
              "\n",
              "    .colab-df-convert {\n",
              "      background-color: #E8F0FE;\n",
              "      border: none;\n",
              "      border-radius: 50%;\n",
              "      cursor: pointer;\n",
              "      display: none;\n",
              "      fill: #1967D2;\n",
              "      height: 32px;\n",
              "      padding: 0 0 0 0;\n",
              "      width: 32px;\n",
              "    }\n",
              "\n",
              "    .colab-df-convert:hover {\n",
              "      background-color: #E2EBFA;\n",
              "      box-shadow: 0px 1px 2px rgba(60, 64, 67, 0.3), 0px 1px 3px 1px rgba(60, 64, 67, 0.15);\n",
              "      fill: #174EA6;\n",
              "    }\n",
              "\n",
              "    [theme=dark] .colab-df-convert {\n",
              "      background-color: #3B4455;\n",
              "      fill: #D2E3FC;\n",
              "    }\n",
              "\n",
              "    [theme=dark] .colab-df-convert:hover {\n",
              "      background-color: #434B5C;\n",
              "      box-shadow: 0px 1px 3px 1px rgba(0, 0, 0, 0.15);\n",
              "      filter: drop-shadow(0px 1px 2px rgba(0, 0, 0, 0.3));\n",
              "      fill: #FFFFFF;\n",
              "    }\n",
              "  </style>\n",
              "\n",
              "      <script>\n",
              "        const buttonEl =\n",
              "          document.querySelector('#df-2f556a92-fa03-4522-9ac8-d5eb2cc968e2 button.colab-df-convert');\n",
              "        buttonEl.style.display =\n",
              "          google.colab.kernel.accessAllowed ? 'block' : 'none';\n",
              "\n",
              "        async function convertToInteractive(key) {\n",
              "          const element = document.querySelector('#df-2f556a92-fa03-4522-9ac8-d5eb2cc968e2');\n",
              "          const dataTable =\n",
              "            await google.colab.kernel.invokeFunction('convertToInteractive',\n",
              "                                                     [key], {});\n",
              "          if (!dataTable) return;\n",
              "\n",
              "          const docLinkHtml = 'Like what you see? Visit the ' +\n",
              "            '<a target=\"_blank\" href=https://colab.research.google.com/notebooks/data_table.ipynb>data table notebook</a>'\n",
              "            + ' to learn more about interactive tables.';\n",
              "          element.innerHTML = '';\n",
              "          dataTable['output_type'] = 'display_data';\n",
              "          await google.colab.output.renderOutput(dataTable, element);\n",
              "          const docLink = document.createElement('div');\n",
              "          docLink.innerHTML = docLinkHtml;\n",
              "          element.appendChild(docLink);\n",
              "        }\n",
              "      </script>\n",
              "    </div>\n",
              "  </div>\n",
              "  "
            ]
          },
          "metadata": {},
          "execution_count": 98
        }
      ]
    },
    {
      "cell_type": "markdown",
      "source": [
        "* temp, hum 퍼지화"
      ],
      "metadata": {
        "id": "3MT-EFrVVilp"
      }
    },
    {
      "cell_type": "code",
      "source": [
        "data = data_16['temp']\n",
        "M_fuz = []\n",
        "for i in range(len(data)-1):\n",
        "  spread = np.abs(data[i] - data[i+1]) / 2\n",
        "  M_fuz.append([data[i] - spread, data[i], data[i] + spread])\n",
        "M_fuz.append([data[len(data)-1] - spread, data[len(data)-1], data[len(data)-1] + spread])"
      ],
      "metadata": {
        "id": "ovlKn_LfWz3x"
      },
      "execution_count": null,
      "outputs": []
    },
    {
      "cell_type": "code",
      "source": [
        "M_fuz = np.array(M_fuz)\n",
        "M_fuz"
      ],
      "metadata": {
        "colab": {
          "base_uri": "https://localhost:8080/"
        },
        "outputId": "13eb61f7-42ea-4718-d5c9-d106858fde86",
        "id": "8rYMAaiyWz3x"
      },
      "execution_count": null,
      "outputs": [
        {
          "output_type": "execute_result",
          "data": {
            "text/plain": [
              "array([[0.22, 0.22, 0.22],\n",
              "       [0.21, 0.22, 0.23],\n",
              "       [0.23, 0.24, 0.25],\n",
              "       ...,\n",
              "       [0.26, 0.26, 0.26],\n",
              "       [0.26, 0.26, 0.26],\n",
              "       [0.26, 0.26, 0.26]])"
            ]
          },
          "metadata": {},
          "execution_count": 100
        }
      ]
    },
    {
      "cell_type": "code",
      "source": [
        "data = data_16['hum']\n",
        "Z_fuz = []\n",
        "for i in range(len(data)-1):\n",
        "  spread = np.abs(data[i] - data[i+1]) / 2\n",
        "  Z_fuz.append([data[i] - spread, data[i], data[i] + spread])\n",
        "Z_fuz.append([data[len(data)-1] - spread, data[len(data)-1], data[len(data)-1] + spread])"
      ],
      "metadata": {
        "id": "hQw0p_wYVilp"
      },
      "execution_count": null,
      "outputs": []
    },
    {
      "cell_type": "code",
      "source": [
        "Z_fuz = np.array(Z_fuz)\n",
        "Z_fuz"
      ],
      "metadata": {
        "colab": {
          "base_uri": "https://localhost:8080/"
        },
        "outputId": "865437c9-3b42-41ae-f5ed-e3ba3575ca85",
        "id": "dd8uqvCuVilp"
      },
      "execution_count": null,
      "outputs": [
        {
          "output_type": "execute_result",
          "data": {
            "text/plain": [
              "array([[0.8  , 0.8  , 0.8  ],\n",
              "       [0.775, 0.8  , 0.825],\n",
              "       [0.725, 0.75 , 0.775],\n",
              "       ...,\n",
              "       [0.6  , 0.6  , 0.6  ],\n",
              "       [0.575, 0.6  , 0.625],\n",
              "       [0.625, 0.65 , 0.675]])"
            ]
          },
          "metadata": {},
          "execution_count": 102
        }
      ]
    },
    {
      "cell_type": "markdown",
      "source": [
        "* weathersit 퍼지화"
      ],
      "metadata": {
        "id": "kd5kW71-Vilq"
      }
    },
    {
      "cell_type": "code",
      "source": [
        "W_fuz = np.array([data_16['weathersit'] - 1, data_16['weathersit'], data_16['weathersit'] + 1]).T\n",
        "W_fuz"
      ],
      "metadata": {
        "colab": {
          "base_uri": "https://localhost:8080/"
        },
        "outputId": "ed21aadc-35b2-4167-d64f-cc138aef70ed",
        "id": "B7gJKzIEVilq"
      },
      "execution_count": null,
      "outputs": [
        {
          "output_type": "execute_result",
          "data": {
            "text/plain": [
              "array([[0, 1, 2],\n",
              "       [0, 1, 2],\n",
              "       [0, 1, 2],\n",
              "       ...,\n",
              "       [1, 2, 3],\n",
              "       [0, 1, 2],\n",
              "       [0, 1, 2]])"
            ]
          },
          "metadata": {},
          "execution_count": 103
        }
      ]
    },
    {
      "cell_type": "code",
      "source": [
        "row, col = W_fuz.shape"
      ],
      "metadata": {
        "id": "bDmwO030Vils"
      },
      "execution_count": null,
      "outputs": []
    },
    {
      "cell_type": "code",
      "source": [
        "for i in range(row):    # 1~4 이므로 1보다 작거나 4보다 큰 부분 수정\n",
        "  if W_fuz[i][0] < 1:\n",
        "    W_fuz[i][0] = 1\n",
        "  elif W_fuz[i][2] >4:\n",
        "    W_fuz[i][2] = 4"
      ],
      "metadata": {
        "id": "egWXlGIJVilt"
      },
      "execution_count": null,
      "outputs": []
    },
    {
      "cell_type": "markdown",
      "source": [
        "* hour, rental_cnt crisp"
      ],
      "metadata": {
        "id": "BABQSvBCVilv"
      }
    },
    {
      "cell_type": "code",
      "source": [
        "X_fuz = np.array([data_16['hr'], data_16['hr'], data_16['hr']]).T\n",
        "X_fuz"
      ],
      "metadata": {
        "colab": {
          "base_uri": "https://localhost:8080/"
        },
        "id": "zLo7_cEwXGiE",
        "outputId": "0430c525-2cf0-49f6-de8f-36b6b7b17357"
      },
      "execution_count": null,
      "outputs": [
        {
          "output_type": "execute_result",
          "data": {
            "text/plain": [
              "array([[ 1,  1,  1],\n",
              "       [ 2,  2,  2],\n",
              "       [ 4,  4,  4],\n",
              "       ...,\n",
              "       [19, 19, 19],\n",
              "       [21, 21, 21],\n",
              "       [23, 23, 23]])"
            ]
          },
          "metadata": {},
          "execution_count": 106
        }
      ]
    },
    {
      "cell_type": "code",
      "source": [
        "Y_fuz = np.array([data_16['cnt'], data_16['cnt'], data_16['cnt']]).T\n",
        "Y_fuz"
      ],
      "metadata": {
        "colab": {
          "base_uri": "https://localhost:8080/"
        },
        "outputId": "1e975912-321a-4eda-fbb3-c62c7b2bf1b0",
        "id": "sUzynK1cVilw"
      },
      "execution_count": null,
      "outputs": [
        {
          "output_type": "execute_result",
          "data": {
            "text/plain": [
              "array([[0.04      , 0.04      , 0.04      ],\n",
              "       [0.03179487, 0.03179487, 0.03179487],\n",
              "       [0.        , 0.        , 0.        ],\n",
              "       ...,\n",
              "       [0.12102564, 0.12102564, 0.12102564],\n",
              "       [0.09128205, 0.09128205, 0.09128205],\n",
              "       [0.04923077, 0.04923077, 0.04923077]])"
            ]
          },
          "metadata": {},
          "execution_count": 107
        }
      ]
    },
    {
      "cell_type": "code",
      "source": [
        "Y_fuz.shape"
      ],
      "metadata": {
        "colab": {
          "base_uri": "https://localhost:8080/"
        },
        "outputId": "3484df3e-ee7e-4bc9-b15b-0b7ddbf4c6e9",
        "id": "UMDvNrIDVilz"
      },
      "execution_count": null,
      "outputs": [
        {
          "output_type": "execute_result",
          "data": {
            "text/plain": [
              "(10948, 3)"
            ]
          },
          "metadata": {},
          "execution_count": 108
        }
      ]
    },
    {
      "cell_type": "code",
      "source": [
        "one = np.ones((10948,3))"
      ],
      "metadata": {
        "id": "GNWOlvJ0Vil1"
      },
      "execution_count": null,
      "outputs": []
    },
    {
      "cell_type": "code",
      "source": [
        "MW_fuz = M_fuz * W_fuz\n",
        "MZ_fuz = M_fuz * Z_fuz"
      ],
      "metadata": {
        "id": "KWdUJuFaVil2"
      },
      "execution_count": null,
      "outputs": []
    },
    {
      "cell_type": "markdown",
      "source": [
        "* M(temp)"
      ],
      "metadata": {
        "id": "ptXEq4SgVil4"
      }
    },
    {
      "cell_type": "code",
      "source": [
        "X_mat = np.array([one, X_fuz])\n",
        "X_mat.shape"
      ],
      "metadata": {
        "colab": {
          "base_uri": "https://localhost:8080/"
        },
        "outputId": "ef4e0307-e356-49aa-8fa2-d50058c41369",
        "id": "2up-XXy7Xkq0"
      },
      "execution_count": null,
      "outputs": [
        {
          "output_type": "execute_result",
          "data": {
            "text/plain": [
              "(2, 10948, 3)"
            ]
          },
          "metadata": {},
          "execution_count": 111
        }
      ]
    },
    {
      "cell_type": "code",
      "source": [
        "col, row, tri = X_mat.shape\n",
        "print(col, row, tri)"
      ],
      "metadata": {
        "colab": {
          "base_uri": "https://localhost:8080/"
        },
        "outputId": "101b5e6e-c2d3-48eb-f2f5-b8495f922d22",
        "id": "LN0rqmmPXkq0"
      },
      "execution_count": null,
      "outputs": [
        {
          "output_type": "stream",
          "name": "stdout",
          "text": [
            "2 10948 3\n"
          ]
        }
      ]
    },
    {
      "cell_type": "code",
      "source": [
        "XX = np.zeros((col,col))\n",
        "for i in range(col):\n",
        "  for j in range(col):\n",
        "    sum = 0\n",
        "    for k in range(row):\n",
        "      sum = sum + np.dot(X_mat[i][k], X_mat[j][k])\n",
        "    XX[i][j] = sum"
      ],
      "metadata": {
        "id": "ggoX1oXxXkq1"
      },
      "execution_count": null,
      "outputs": []
    },
    {
      "cell_type": "code",
      "source": [
        "XY = np.zeros((col, 1))\n",
        "for i in range(col):\n",
        "  sum = 0\n",
        "  for k in range(row):\n",
        "    sum = sum + np.dot(X_mat[i][k], M_fuz[k])\n",
        "  XY[i] = sum"
      ],
      "metadata": {
        "id": "rBusxr5eXkq1"
      },
      "execution_count": null,
      "outputs": []
    },
    {
      "cell_type": "code",
      "source": [
        "XX_inv = np.linalg.inv(XX)"
      ],
      "metadata": {
        "id": "uBqdasrsXkq1"
      },
      "execution_count": null,
      "outputs": []
    },
    {
      "cell_type": "code",
      "source": [
        "beta_Y = XX_inv @ XY\n",
        "for i in range(len(beta_Y)):\n",
        "  print(beta_Y[i])"
      ],
      "metadata": {
        "colab": {
          "base_uri": "https://localhost:8080/"
        },
        "outputId": "bab292ea-2521-423f-c77c-341584e0cea2",
        "id": "Gb9nze13Xkq1"
      },
      "execution_count": null,
      "outputs": [
        {
          "output_type": "stream",
          "name": "stdout",
          "text": [
            "[0.45200025]\n",
            "[0.0039908]\n"
          ]
        }
      ]
    },
    {
      "cell_type": "code",
      "source": [
        "cov_mat = XX_inv\n",
        "cov_mat"
      ],
      "metadata": {
        "colab": {
          "base_uri": "https://localhost:8080/"
        },
        "id": "nf4TiJls_GH3",
        "outputId": "23e45702-b0c2-4b7f-a028-84f003baa140"
      },
      "execution_count": null,
      "outputs": [
        {
          "output_type": "execute_result",
          "data": {
            "text/plain": [
              "array([[ 1.15892012e-04, -7.37610523e-06],\n",
              "       [-7.37610523e-06,  6.36747568e-07]])"
            ]
          },
          "metadata": {},
          "execution_count": 117
        }
      ]
    },
    {
      "cell_type": "code",
      "source": [
        "M_fuz_hat = 0.4520+0.0040*X_fuz\n",
        "M_fuz_hat"
      ],
      "metadata": {
        "colab": {
          "base_uri": "https://localhost:8080/"
        },
        "id": "K4eF9owy_H-h",
        "outputId": "4996b6de-353d-4b78-b973-904f87f25646"
      },
      "execution_count": null,
      "outputs": [
        {
          "output_type": "execute_result",
          "data": {
            "text/plain": [
              "array([[0.456, 0.456, 0.456],\n",
              "       [0.46 , 0.46 , 0.46 ],\n",
              "       [0.468, 0.468, 0.468],\n",
              "       ...,\n",
              "       [0.528, 0.528, 0.528],\n",
              "       [0.536, 0.536, 0.536],\n",
              "       [0.544, 0.544, 0.544]])"
            ]
          },
          "metadata": {},
          "execution_count": 118
        }
      ]
    },
    {
      "cell_type": "code",
      "source": [
        "mse = ((M_fuz - M_fuz_hat) ** 2).sum(axis=1).sum() / 10946\n",
        "print(mse)"
      ],
      "metadata": {
        "colab": {
          "base_uri": "https://localhost:8080/"
        },
        "id": "mqp8FE5M_ICL",
        "outputId": "ca9060dd-d76a-44dc-ef29-87b913de429c"
      },
      "execution_count": null,
      "outputs": [
        {
          "output_type": "stream",
          "name": "stdout",
          "text": [
            "0.10980165759181436\n"
          ]
        }
      ]
    },
    {
      "cell_type": "code",
      "source": [
        "t_rv = t(df=10946)"
      ],
      "metadata": {
        "id": "XWaCYMKB_r0h"
      },
      "execution_count": null,
      "outputs": []
    },
    {
      "cell_type": "code",
      "source": [
        "se_0 = np.sqrt(cov_mat[0][0] * mse)\n",
        "se_0"
      ],
      "metadata": {
        "colab": {
          "base_uri": "https://localhost:8080/"
        },
        "outputId": "f48cd19e-0b3e-49dc-b63f-bbb4cf109023",
        "id": "H7wJHbuW_r0i"
      },
      "execution_count": null,
      "outputs": [
        {
          "output_type": "execute_result",
          "data": {
            "text/plain": [
              "0.003567230726151537"
            ]
          },
          "metadata": {},
          "execution_count": 121
        }
      ]
    },
    {
      "cell_type": "code",
      "source": [
        "t_0 = 0.4520 / se_0 # 상수의 t_value\n",
        "t_0"
      ],
      "metadata": {
        "colab": {
          "base_uri": "https://localhost:8080/"
        },
        "outputId": "4751dacb-dc17-4867-fb26-7e271ed81855",
        "id": "tW0pJCIM_r0j"
      },
      "execution_count": null,
      "outputs": [
        {
          "output_type": "execute_result",
          "data": {
            "text/plain": [
              "126.70893325917122"
            ]
          },
          "metadata": {},
          "execution_count": 122
        }
      ]
    },
    {
      "cell_type": "code",
      "source": [
        "p_0 = (1 - t_rv.cdf(t_0)) * 2 # p_value\n",
        "p_0"
      ],
      "metadata": {
        "colab": {
          "base_uri": "https://localhost:8080/"
        },
        "outputId": "f95f4c48-bb05-4b52-ec74-a07969b6cc04",
        "id": "f0CYe0CW_r0k"
      },
      "execution_count": null,
      "outputs": [
        {
          "output_type": "execute_result",
          "data": {
            "text/plain": [
              "0.0"
            ]
          },
          "metadata": {},
          "execution_count": 123
        }
      ]
    },
    {
      "cell_type": "code",
      "source": [
        "se_1 = np.sqrt(cov_mat[1][1] * mse)\n",
        "se_1"
      ],
      "metadata": {
        "colab": {
          "base_uri": "https://localhost:8080/"
        },
        "outputId": "822142a9-854f-472f-c1a2-76486ce1128e",
        "id": "AQX4yRKO_r0k"
      },
      "execution_count": null,
      "outputs": [
        {
          "output_type": "execute_result",
          "data": {
            "text/plain": [
              "0.00026441622193748847"
            ]
          },
          "metadata": {},
          "execution_count": 124
        }
      ]
    },
    {
      "cell_type": "code",
      "source": [
        "t_1 = 0.0040 / se_1 # t통계량값\n",
        "t_1"
      ],
      "metadata": {
        "colab": {
          "base_uri": "https://localhost:8080/"
        },
        "outputId": "95c77edb-2e7d-4686-8177-0e201b1abd09",
        "id": "swpSIdKP_r0l"
      },
      "execution_count": null,
      "outputs": [
        {
          "output_type": "execute_result",
          "data": {
            "text/plain": [
              "15.127664901534118"
            ]
          },
          "metadata": {},
          "execution_count": 125
        }
      ]
    },
    {
      "cell_type": "code",
      "source": [
        "p_1 = (1-t_rv.cdf(t_1)) * 2 # p_value\n",
        "p_1"
      ],
      "metadata": {
        "colab": {
          "base_uri": "https://localhost:8080/"
        },
        "outputId": "38b0a96b-7e1b-47d5-b515-7260daf55e0f",
        "id": "brHq2Q6C_r0l"
      },
      "execution_count": null,
      "outputs": [
        {
          "output_type": "execute_result",
          "data": {
            "text/plain": [
              "0.0"
            ]
          },
          "metadata": {},
          "execution_count": 126
        }
      ]
    },
    {
      "cell_type": "code",
      "source": [
        "print(p_0)\n",
        "print(p_1)"
      ],
      "metadata": {
        "colab": {
          "base_uri": "https://localhost:8080/"
        },
        "outputId": "9e477439-deee-41eb-d18f-f61c324028ff",
        "id": "JEN2F2Zw_r0m"
      },
      "execution_count": null,
      "outputs": [
        {
          "output_type": "stream",
          "name": "stdout",
          "text": [
            "0.0\n",
            "0.0\n"
          ]
        }
      ]
    },
    {
      "cell_type": "markdown",
      "source": [
        "----"
      ],
      "metadata": {
        "id": "wxU4fCsB_GSA"
      }
    },
    {
      "cell_type": "markdown",
      "source": [
        "* Y(rental_cnt)"
      ],
      "metadata": {
        "id": "KJHHXoqxej5m"
      }
    },
    {
      "cell_type": "code",
      "source": [
        "X_mat = np.array([one, X_fuz, M_fuz, W_fuz, Z_fuz, MW_fuz, MZ_fuz])\n",
        "X_mat.shape"
      ],
      "metadata": {
        "colab": {
          "base_uri": "https://localhost:8080/"
        },
        "outputId": "173d15c4-879b-487a-ca88-1556c78b5c93",
        "id": "3-z3dOY7ej5m"
      },
      "execution_count": null,
      "outputs": [
        {
          "output_type": "execute_result",
          "data": {
            "text/plain": [
              "(7, 10948, 3)"
            ]
          },
          "metadata": {},
          "execution_count": 128
        }
      ]
    },
    {
      "cell_type": "code",
      "source": [
        "col, row, tri = X_mat.shape\n",
        "print(col, row, tri)"
      ],
      "metadata": {
        "colab": {
          "base_uri": "https://localhost:8080/"
        },
        "outputId": "82a3333d-92c3-4451-b882-6c5dbc93a84b",
        "id": "R8yXmJLxej5n"
      },
      "execution_count": null,
      "outputs": [
        {
          "output_type": "stream",
          "name": "stdout",
          "text": [
            "7 10948 3\n"
          ]
        }
      ]
    },
    {
      "cell_type": "code",
      "source": [
        "XX = np.zeros((col,col))\n",
        "for i in range(col):\n",
        "  for j in range(col):\n",
        "    sum = 0\n",
        "    for k in range(row):\n",
        "      sum = sum + np.dot(X_mat[i][k], X_mat[j][k])\n",
        "    XX[i][j] = sum"
      ],
      "metadata": {
        "id": "yC26UZO3ej5n"
      },
      "execution_count": null,
      "outputs": []
    },
    {
      "cell_type": "code",
      "source": [
        "XY = np.zeros((col, 1))\n",
        "for i in range(col):\n",
        "  sum = 0\n",
        "  for k in range(row):\n",
        "    sum = sum + np.dot(X_mat[i][k], Y_fuz[k])\n",
        "  XY[i] = sum"
      ],
      "metadata": {
        "id": "oa2Opt6Eej5n"
      },
      "execution_count": null,
      "outputs": []
    },
    {
      "cell_type": "code",
      "source": [
        "XX_inv = np.linalg.inv(XX)"
      ],
      "metadata": {
        "id": "_PndxkaOej5n"
      },
      "execution_count": null,
      "outputs": []
    },
    {
      "cell_type": "code",
      "source": [
        "beta_Y = XX_inv @ XY\n",
        "for i in range(len(beta_Y)):\n",
        "  print(beta_Y[i])"
      ],
      "metadata": {
        "colab": {
          "base_uri": "https://localhost:8080/"
        },
        "outputId": "188c6fc1-5741-4562-850b-1eadcdf2a25c",
        "id": "SpDSbR9Pej5n"
      },
      "execution_count": null,
      "outputs": [
        {
          "output_type": "stream",
          "name": "stdout",
          "text": [
            "[-0.06685666]\n",
            "[0.00748701]\n",
            "[0.62020441]\n",
            "[-0.02202123]\n",
            "[0.08916072]\n",
            "[0.04109469]\n",
            "[-0.60264368]\n"
          ]
        }
      ]
    },
    {
      "cell_type": "code",
      "source": [
        "Y_fuz_hat = -0.0669+0.0075*X_fuz+0.6202*M_fuz-0.0220*W_fuz+0.0891*Z_fuz+0.0411*M_fuz*W_fuz-0.6026*M_fuz*Z_fuz"
      ],
      "metadata": {
        "id": "WwUTzZ5rl-t7"
      },
      "execution_count": null,
      "outputs": []
    },
    {
      "cell_type": "markdown",
      "source": [
        "* R^2 & F"
      ],
      "metadata": {
        "id": "Zs89axtKl-t8"
      }
    },
    {
      "cell_type": "code",
      "source": [
        "TSS = ((Y_fuz-Y_fuz.mean())**2).sum(axis=1).sum()\n",
        "SSR = ((Y_fuz_hat-Y_fuz.mean())**2).sum(axis=1).sum()\n",
        "SSE = ((Y_fuz-Y_fuz_hat)**2).sum(axis=1).sum()"
      ],
      "metadata": {
        "id": "F1DDc1Xwl-t8"
      },
      "execution_count": null,
      "outputs": []
    },
    {
      "cell_type": "code",
      "source": [
        "R = 1 - SSE / TSS\n",
        "print(R)"
      ],
      "metadata": {
        "colab": {
          "base_uri": "https://localhost:8080/"
        },
        "outputId": "2567e33d-f164-412c-aaf8-baa935d875c3",
        "id": "MyaAlCc0l-t8"
      },
      "execution_count": null,
      "outputs": [
        {
          "output_type": "stream",
          "name": "stdout",
          "text": [
            "0.33073091900525087\n"
          ]
        }
      ]
    },
    {
      "cell_type": "code",
      "source": [
        "F = (SSR/6) / (SSE/10941)\n",
        "print(F)"
      ],
      "metadata": {
        "colab": {
          "base_uri": "https://localhost:8080/"
        },
        "outputId": "2a45beb1-5a1b-4e18-e382-6cd49acd6ef4",
        "id": "gFZff3M7l-t8"
      },
      "execution_count": null,
      "outputs": [
        {
          "output_type": "stream",
          "name": "stdout",
          "text": [
            "902.2165172007217\n"
          ]
        }
      ]
    },
    {
      "cell_type": "code",
      "source": [
        "f_rv = f(6, 10941)"
      ],
      "metadata": {
        "id": "CfKiMEc0l-t8"
      },
      "execution_count": null,
      "outputs": []
    },
    {
      "cell_type": "code",
      "source": [
        "1 - f_rv.cdf(F) # F-value "
      ],
      "metadata": {
        "colab": {
          "base_uri": "https://localhost:8080/"
        },
        "outputId": "42a9efdb-72c1-4108-840d-6bec22eac1e1",
        "id": "HJnrfQOdl-t8"
      },
      "execution_count": null,
      "outputs": [
        {
          "output_type": "execute_result",
          "data": {
            "text/plain": [
              "1.1102230246251565e-16"
            ]
          },
          "metadata": {},
          "execution_count": 139
        }
      ]
    },
    {
      "cell_type": "markdown",
      "source": [
        "----"
      ],
      "metadata": {
        "id": "fii8Oj5amQAD"
      }
    },
    {
      "cell_type": "code",
      "source": [
        "cov_mat = XX_inv"
      ],
      "metadata": {
        "id": "LyLk_U1-AB4F"
      },
      "execution_count": null,
      "outputs": []
    },
    {
      "cell_type": "code",
      "source": [
        "Y_fuz_hat = -0.0669+0.0075*X_fuz+0.6202*M_fuz-0.0220*W_fuz+0.0891*Z_fuz+0.0411*M_fuz*W_fuz-0.6026*M_fuz*Z_fuz"
      ],
      "metadata": {
        "id": "mBl7x5C-AB_C"
      },
      "execution_count": null,
      "outputs": []
    },
    {
      "cell_type": "code",
      "source": [
        "mse = ((Y_fuz - Y_fuz_hat) ** 2).sum(axis=1).sum() / 10941\n",
        "print(mse)"
      ],
      "metadata": {
        "colab": {
          "base_uri": "https://localhost:8080/"
        },
        "id": "GNM2KKJYAtJh",
        "outputId": "940cb51d-4e34-42ce-b96b-b77170f52902"
      },
      "execution_count": null,
      "outputs": [
        {
          "output_type": "stream",
          "name": "stdout",
          "text": [
            "0.0704167312974218\n"
          ]
        }
      ]
    },
    {
      "cell_type": "code",
      "source": [
        "t_rv = t(df=10941)"
      ],
      "metadata": {
        "id": "OUzgf-E1A5pv"
      },
      "execution_count": null,
      "outputs": []
    },
    {
      "cell_type": "code",
      "source": [
        "se_0 = np.sqrt(cov_mat[0][0] * mse)\n",
        "se_0"
      ],
      "metadata": {
        "colab": {
          "base_uri": "https://localhost:8080/"
        },
        "outputId": "1d7a0d8e-ef60-442f-a48e-e82274e69910",
        "id": "cxQQNnJXA5pw"
      },
      "execution_count": null,
      "outputs": [
        {
          "output_type": "execute_result",
          "data": {
            "text/plain": [
              "0.014422145997956501"
            ]
          },
          "metadata": {},
          "execution_count": 144
        }
      ]
    },
    {
      "cell_type": "code",
      "source": [
        "t_0 = -0.0669 / se_0 # 상수의 t_value\n",
        "t_0"
      ],
      "metadata": {
        "colab": {
          "base_uri": "https://localhost:8080/"
        },
        "outputId": "e9c31315-4253-49e0-a84c-3f968f83fb52",
        "id": "t2ZV7GUoA5pw"
      },
      "execution_count": null,
      "outputs": [
        {
          "output_type": "execute_result",
          "data": {
            "text/plain": [
              "-4.638699400871353"
            ]
          },
          "metadata": {},
          "execution_count": 145
        }
      ]
    },
    {
      "cell_type": "code",
      "source": [
        "p_0 = (t_rv.cdf(t_0)) * 2 # p_value\n",
        "p_0"
      ],
      "metadata": {
        "colab": {
          "base_uri": "https://localhost:8080/"
        },
        "outputId": "31d50e4d-fa01-4bfe-e76f-f43d44c84baa",
        "id": "AFaBP7q5A5pw"
      },
      "execution_count": null,
      "outputs": [
        {
          "output_type": "execute_result",
          "data": {
            "text/plain": [
              "3.5467501932434543e-06"
            ]
          },
          "metadata": {},
          "execution_count": 146
        }
      ]
    },
    {
      "cell_type": "code",
      "source": [
        "se_1 = np.sqrt(cov_mat[1][1] * mse)\n",
        "se_1"
      ],
      "metadata": {
        "colab": {
          "base_uri": "https://localhost:8080/"
        },
        "outputId": "8935a193-870e-46f9-a943-3a693aadb1e0",
        "id": "3tuHv20vA5pw"
      },
      "execution_count": null,
      "outputs": [
        {
          "output_type": "execute_result",
          "data": {
            "text/plain": [
              "0.00022314211457773409"
            ]
          },
          "metadata": {},
          "execution_count": 147
        }
      ]
    },
    {
      "cell_type": "code",
      "source": [
        "t_1 = 0.0075 / se_1 # t통계량값\n",
        "t_1"
      ],
      "metadata": {
        "colab": {
          "base_uri": "https://localhost:8080/"
        },
        "outputId": "46161082-430d-4794-aa06-ee05cfdc3538",
        "id": "RuGrR9gOA5px"
      },
      "execution_count": null,
      "outputs": [
        {
          "output_type": "execute_result",
          "data": {
            "text/plain": [
              "33.610867290527935"
            ]
          },
          "metadata": {},
          "execution_count": 148
        }
      ]
    },
    {
      "cell_type": "code",
      "source": [
        "p_1 = (1 - t_rv.cdf(t_1)) * 2 # p_value\n",
        "p_1"
      ],
      "metadata": {
        "colab": {
          "base_uri": "https://localhost:8080/"
        },
        "outputId": "8aecde35-065b-4ae4-f2a5-ad561dd7ff15",
        "id": "8v5YBbzUA5px"
      },
      "execution_count": null,
      "outputs": [
        {
          "output_type": "execute_result",
          "data": {
            "text/plain": [
              "0.0"
            ]
          },
          "metadata": {},
          "execution_count": 149
        }
      ]
    },
    {
      "cell_type": "code",
      "source": [
        "se_2 = np.sqrt(cov_mat[2][2] * mse)\n",
        "se_2"
      ],
      "metadata": {
        "colab": {
          "base_uri": "https://localhost:8080/"
        },
        "outputId": "7bb5b8fb-8d4b-4c1f-daa1-2ddb54b9b826",
        "id": "BGLmL4L_A5px"
      },
      "execution_count": null,
      "outputs": [
        {
          "output_type": "execute_result",
          "data": {
            "text/plain": [
              "0.026587809188226667"
            ]
          },
          "metadata": {},
          "execution_count": 150
        }
      ]
    },
    {
      "cell_type": "code",
      "source": [
        "t_2 = 0.6202 / se_2 # t통계량값\n",
        "t_2"
      ],
      "metadata": {
        "colab": {
          "base_uri": "https://localhost:8080/"
        },
        "outputId": "5c951c20-1c12-4b2c-cc66-4bb02120c6b5",
        "id": "VrhVab8UA5px"
      },
      "execution_count": null,
      "outputs": [
        {
          "output_type": "execute_result",
          "data": {
            "text/plain": [
              "23.326480027343898"
            ]
          },
          "metadata": {},
          "execution_count": 151
        }
      ]
    },
    {
      "cell_type": "code",
      "source": [
        "p_2 = (1- t_rv.cdf(t_2)) * 2 # p_value\n",
        "p_2"
      ],
      "metadata": {
        "colab": {
          "base_uri": "https://localhost:8080/"
        },
        "outputId": "cfb1f5da-8b39-4e6d-a4af-59103ebbd212",
        "id": "gYckKwgdA5px"
      },
      "execution_count": null,
      "outputs": [
        {
          "output_type": "execute_result",
          "data": {
            "text/plain": [
              "0.0"
            ]
          },
          "metadata": {},
          "execution_count": 152
        }
      ]
    },
    {
      "cell_type": "code",
      "source": [
        "se_3 = np.sqrt(cov_mat[3][3] * mse)\n",
        "se_3"
      ],
      "metadata": {
        "colab": {
          "base_uri": "https://localhost:8080/"
        },
        "outputId": "628ec5ae-322e-4974-93b9-7671c3e504b7",
        "id": "LPipJjiUA5px"
      },
      "execution_count": null,
      "outputs": [
        {
          "output_type": "execute_result",
          "data": {
            "text/plain": [
              "0.007011964346546178"
            ]
          },
          "metadata": {},
          "execution_count": 143
        }
      ]
    },
    {
      "cell_type": "code",
      "source": [
        "t_3 = -0.0220 / se_3 # t통계량값\n",
        "t_3"
      ],
      "metadata": {
        "colab": {
          "base_uri": "https://localhost:8080/"
        },
        "outputId": "5629d580-3466-440c-c22d-74fef9933709",
        "id": "vOzn0JzpA5px"
      },
      "execution_count": null,
      "outputs": [
        {
          "output_type": "execute_result",
          "data": {
            "text/plain": [
              "-2.181593185030286"
            ]
          },
          "metadata": {},
          "execution_count": 153
        }
      ]
    },
    {
      "cell_type": "code",
      "source": [
        "p_3 = (t_rv.cdf(t_3)) * 2 # p_value\n",
        "p_3"
      ],
      "metadata": {
        "colab": {
          "base_uri": "https://localhost:8080/"
        },
        "outputId": "851fc2d9-0b33-4c9e-f3db-752bdb746095",
        "id": "ZjKyB60mA5px"
      },
      "execution_count": null,
      "outputs": [
        {
          "output_type": "execute_result",
          "data": {
            "text/plain": [
              "0.02916077979661708"
            ]
          },
          "metadata": {},
          "execution_count": 154
        }
      ]
    },
    {
      "cell_type": "code",
      "source": [
        "se_4 = np.sqrt(cov_mat[4][4] * mse)\n",
        "se_4"
      ],
      "metadata": {
        "colab": {
          "base_uri": "https://localhost:8080/"
        },
        "outputId": "9e2bd824-0b03-4aff-9a17-b9725cf12031",
        "id": "cBGUI8wRA5py"
      },
      "execution_count": null,
      "outputs": [
        {
          "output_type": "execute_result",
          "data": {
            "text/plain": [
              "0.02320275078062958"
            ]
          },
          "metadata": {},
          "execution_count": 155
        }
      ]
    },
    {
      "cell_type": "code",
      "source": [
        "t_4 = 0.0891 / se_4 # t통계량값\n",
        "t_4"
      ],
      "metadata": {
        "colab": {
          "base_uri": "https://localhost:8080/"
        },
        "outputId": "312cd9af-3882-4b7f-9153-0f2d295e0ab0",
        "id": "qkT2kqzAA5py"
      },
      "execution_count": null,
      "outputs": [
        {
          "output_type": "execute_result",
          "data": {
            "text/plain": [
              "3.840061932414652"
            ]
          },
          "metadata": {},
          "execution_count": 156
        }
      ]
    },
    {
      "cell_type": "code",
      "source": [
        "p_4 = (1-t_rv.cdf(t_4)) * 2 # p_value\n",
        "p_4"
      ],
      "metadata": {
        "colab": {
          "base_uri": "https://localhost:8080/"
        },
        "outputId": "a5508be0-fa55-4953-91e1-f7ade7532e2e",
        "id": "5xmk1YwkA5py"
      },
      "execution_count": null,
      "outputs": [
        {
          "output_type": "execute_result",
          "data": {
            "text/plain": [
              "0.00012369687152125053"
            ]
          },
          "metadata": {},
          "execution_count": 157
        }
      ]
    },
    {
      "cell_type": "code",
      "source": [
        "se_5 = np.sqrt(cov_mat[5][5] * mse)\n",
        "se_5"
      ],
      "metadata": {
        "colab": {
          "base_uri": "https://localhost:8080/"
        },
        "outputId": "e98af6f4-9f7e-416b-fc4c-f7016bd5ca31",
        "id": "5h1P-OesA5py"
      },
      "execution_count": null,
      "outputs": [
        {
          "output_type": "execute_result",
          "data": {
            "text/plain": [
              "0.01077830907316189"
            ]
          },
          "metadata": {},
          "execution_count": 158
        }
      ]
    },
    {
      "cell_type": "code",
      "source": [
        "t_5 = 0.0411 / se_5 # t통계량값\n",
        "t_5"
      ],
      "metadata": {
        "colab": {
          "base_uri": "https://localhost:8080/"
        },
        "outputId": "2172c1e8-e3cb-4225-8093-80c4106557b8",
        "id": "92phx2DZA5py"
      },
      "execution_count": null,
      "outputs": [
        {
          "output_type": "execute_result",
          "data": {
            "text/plain": [
              "3.8132140877588543"
            ]
          },
          "metadata": {},
          "execution_count": 159
        }
      ]
    },
    {
      "cell_type": "code",
      "source": [
        "p_5 = (1 - t_rv.cdf(t_5)) * 2 # p_value\n",
        "p_5"
      ],
      "metadata": {
        "colab": {
          "base_uri": "https://localhost:8080/"
        },
        "outputId": "a19421df-71a4-4c8d-c755-c04be5607a4c",
        "id": "MfpalPdtA5py"
      },
      "execution_count": null,
      "outputs": [
        {
          "output_type": "execute_result",
          "data": {
            "text/plain": [
              "0.00013792445415572452"
            ]
          },
          "metadata": {},
          "execution_count": 160
        }
      ]
    },
    {
      "cell_type": "code",
      "source": [
        "se_6 = np.sqrt(cov_mat[6][6] * mse)\n",
        "se_6"
      ],
      "metadata": {
        "colab": {
          "base_uri": "https://localhost:8080/"
        },
        "outputId": "35e6c80b-f761-4926-f22e-aa2d749337bb",
        "id": "sb3EEwxdA5pz"
      },
      "execution_count": null,
      "outputs": [
        {
          "output_type": "execute_result",
          "data": {
            "text/plain": [
              "0.04378537917847864"
            ]
          },
          "metadata": {},
          "execution_count": 161
        }
      ]
    },
    {
      "cell_type": "code",
      "source": [
        "t_6 = -0.6026 / se_6 # t통계량값\n",
        "t_6"
      ],
      "metadata": {
        "colab": {
          "base_uri": "https://localhost:8080/"
        },
        "outputId": "1ab8279d-6823-48a8-bbc6-b2b2660598dd",
        "id": "G89m6xMpA5pz"
      },
      "execution_count": null,
      "outputs": [
        {
          "output_type": "execute_result",
          "data": {
            "text/plain": [
              "-13.762584938311772"
            ]
          },
          "metadata": {},
          "execution_count": 162
        }
      ]
    },
    {
      "cell_type": "code",
      "source": [
        "p_6 = (t_rv.cdf(t_6)) * 2 # p_value\n",
        "p_6"
      ],
      "metadata": {
        "colab": {
          "base_uri": "https://localhost:8080/"
        },
        "outputId": "b03c8b09-6f17-4962-8306-9fde60efc669",
        "id": "HKYp_AAaA5pz"
      },
      "execution_count": null,
      "outputs": [
        {
          "output_type": "execute_result",
          "data": {
            "text/plain": [
              "9.70657419980574e-43"
            ]
          },
          "metadata": {},
          "execution_count": 163
        }
      ]
    },
    {
      "cell_type": "code",
      "source": [
        "print(p_0)\n",
        "print(p_1)\n",
        "print(p_2)\n",
        "print(p_3)\n",
        "print(p_4)\n",
        "print(p_5)\n",
        "print(p_6)"
      ],
      "metadata": {
        "colab": {
          "base_uri": "https://localhost:8080/"
        },
        "id": "y4IOCI59CHyr",
        "outputId": "02d90be9-6b86-48d9-917c-02ddcfb2106f"
      },
      "execution_count": null,
      "outputs": [
        {
          "output_type": "stream",
          "name": "stdout",
          "text": [
            "3.5467501932434543e-06\n",
            "0.0\n",
            "0.0\n",
            "0.02916077979661708\n",
            "0.00012369687152125053\n",
            "0.00013792445415572452\n",
            "9.70657419980574e-43\n"
          ]
        }
      ]
    },
    {
      "cell_type": "markdown",
      "source": [
        "## * 𝑀=0.4520+0.0040𝑋 (crisp)\n",
        "## * 𝑌=−0.0745+0.0075𝑋+0.6419𝑀−0.0311𝑊+0.1165𝑍+0.0528𝑀𝑊−0.6545𝑀𝑍 (crisp)\n",
        "\n",
        "  \n",
        "## * 𝑀=0.4520+0.0040𝑋 (fuzzy)\n",
        "## * 𝑌=−0.0669+0.0075𝑋+0.6202𝑀−0.0220𝑊+0.0891𝑍+0.0411𝑀𝑊−0.6026𝑀𝑍 (fuzzy)"
      ],
      "metadata": {
        "id": "T050Nw8OVil8"
      }
    },
    {
      "cell_type": "markdown",
      "source": [
        "----"
      ],
      "metadata": {
        "id": "_hIEPbFdVJar"
      }
    },
    {
      "cell_type": "markdown",
      "source": [
        "# 4) model 11(Binladen data)"
      ],
      "metadata": {
        "id": "Gb87li2Lc0IX"
      }
    },
    {
      "cell_type": "markdown",
      "source": [
        "![image.png](data:image/png;base64,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)"
      ],
      "metadata": {
        "id": "CUD_1W4A85yQ"
      }
    },
    {
      "cell_type": "markdown",
      "source": [
        "X : news_content(0: 빈라덴죽음 발표 전, 1: 빈라덴죽음 들었을 때)  \n",
        "M : stereo(미국의 사는 무슬림에 대한 부정적인 고정관념에 대한 지지정도 평균)  \n",
        "Y : mcivil(미국의 사는 무슬림의 자유제한 지지정도 평균)  \n",
        "W : age(나이) ex) 7.5 -> 75살   \n",
        "Z : sex(성별, 0: female, 1: male) \n",
        "\n"
      ],
      "metadata": {
        "id": "JoJ6C1QCdNbL"
      }
    },
    {
      "cell_type": "markdown",
      "source": [
        "## * 퍼지화 \n",
        "- X, W, Z : crisp data\n",
        "- M, Y : 1~5 척도를 가지고 측정했으므로 1 spread 사용하여 삼각퍼지숫자 생성"
      ],
      "metadata": {
        "id": "jBMcx5jrdNbL"
      }
    },
    {
      "cell_type": "code",
      "source": [
        "data_11 = pd.read_csv('/content/Drive/MyDrive/논문/model_11.csv')\n",
        "data_11.head()"
      ],
      "metadata": {
        "colab": {
          "base_uri": "https://localhost:8080/",
          "height": 206
        },
        "id": "C0wH3PpDdOCK",
        "outputId": "7b42552d-eada-4a7e-8bd4-83cd1ca97c6f"
      },
      "execution_count": null,
      "outputs": [
        {
          "output_type": "execute_result",
          "data": {
            "text/plain": [
              "   news_content  rthreat  stereo  mcivil  age  ideo  sex\n",
              "0             0     3.00     2.8     2.8  7.5     8    0\n",
              "1             1     2.00     1.8     3.2  3.3     4    1\n",
              "2             1     2.25     2.0     2.8  5.6     6    0\n",
              "3             1     2.00     2.6     3.4  4.0     5    1\n",
              "4             1     4.00     4.2     4.0  5.9     8    1"
            ],
            "text/html": [
              "\n",
              "  <div id=\"df-c0a81c64-6cce-4b4c-88bf-3c4a28977102\">\n",
              "    <div class=\"colab-df-container\">\n",
              "      <div>\n",
              "<style scoped>\n",
              "    .dataframe tbody tr th:only-of-type {\n",
              "        vertical-align: middle;\n",
              "    }\n",
              "\n",
              "    .dataframe tbody tr th {\n",
              "        vertical-align: top;\n",
              "    }\n",
              "\n",
              "    .dataframe thead th {\n",
              "        text-align: right;\n",
              "    }\n",
              "</style>\n",
              "<table border=\"1\" class=\"dataframe\">\n",
              "  <thead>\n",
              "    <tr style=\"text-align: right;\">\n",
              "      <th></th>\n",
              "      <th>news_content</th>\n",
              "      <th>rthreat</th>\n",
              "      <th>stereo</th>\n",
              "      <th>mcivil</th>\n",
              "      <th>age</th>\n",
              "      <th>ideo</th>\n",
              "      <th>sex</th>\n",
              "    </tr>\n",
              "  </thead>\n",
              "  <tbody>\n",
              "    <tr>\n",
              "      <th>0</th>\n",
              "      <td>0</td>\n",
              "      <td>3.00</td>\n",
              "      <td>2.8</td>\n",
              "      <td>2.8</td>\n",
              "      <td>7.5</td>\n",
              "      <td>8</td>\n",
              "      <td>0</td>\n",
              "    </tr>\n",
              "    <tr>\n",
              "      <th>1</th>\n",
              "      <td>1</td>\n",
              "      <td>2.00</td>\n",
              "      <td>1.8</td>\n",
              "      <td>3.2</td>\n",
              "      <td>3.3</td>\n",
              "      <td>4</td>\n",
              "      <td>1</td>\n",
              "    </tr>\n",
              "    <tr>\n",
              "      <th>2</th>\n",
              "      <td>1</td>\n",
              "      <td>2.25</td>\n",
              "      <td>2.0</td>\n",
              "      <td>2.8</td>\n",
              "      <td>5.6</td>\n",
              "      <td>6</td>\n",
              "      <td>0</td>\n",
              "    </tr>\n",
              "    <tr>\n",
              "      <th>3</th>\n",
              "      <td>1</td>\n",
              "      <td>2.00</td>\n",
              "      <td>2.6</td>\n",
              "      <td>3.4</td>\n",
              "      <td>4.0</td>\n",
              "      <td>5</td>\n",
              "      <td>1</td>\n",
              "    </tr>\n",
              "    <tr>\n",
              "      <th>4</th>\n",
              "      <td>1</td>\n",
              "      <td>4.00</td>\n",
              "      <td>4.2</td>\n",
              "      <td>4.0</td>\n",
              "      <td>5.9</td>\n",
              "      <td>8</td>\n",
              "      <td>1</td>\n",
              "    </tr>\n",
              "  </tbody>\n",
              "</table>\n",
              "</div>\n",
              "      <button class=\"colab-df-convert\" onclick=\"convertToInteractive('df-c0a81c64-6cce-4b4c-88bf-3c4a28977102')\"\n",
              "              title=\"Convert this dataframe to an interactive table.\"\n",
              "              style=\"display:none;\">\n",
              "        \n",
              "  <svg xmlns=\"http://www.w3.org/2000/svg\" height=\"24px\"viewBox=\"0 0 24 24\"\n",
              "       width=\"24px\">\n",
              "    <path d=\"M0 0h24v24H0V0z\" fill=\"none\"/>\n",
              "    <path d=\"M18.56 5.44l.94 2.06.94-2.06 2.06-.94-2.06-.94-.94-2.06-.94 2.06-2.06.94zm-11 1L8.5 8.5l.94-2.06 2.06-.94-2.06-.94L8.5 2.5l-.94 2.06-2.06.94zm10 10l.94 2.06.94-2.06 2.06-.94-2.06-.94-.94-2.06-.94 2.06-2.06.94z\"/><path d=\"M17.41 7.96l-1.37-1.37c-.4-.4-.92-.59-1.43-.59-.52 0-1.04.2-1.43.59L10.3 9.45l-7.72 7.72c-.78.78-.78 2.05 0 2.83L4 21.41c.39.39.9.59 1.41.59.51 0 1.02-.2 1.41-.59l7.78-7.78 2.81-2.81c.8-.78.8-2.07 0-2.86zM5.41 20L4 18.59l7.72-7.72 1.47 1.35L5.41 20z\"/>\n",
              "  </svg>\n",
              "      </button>\n",
              "      \n",
              "  <style>\n",
              "    .colab-df-container {\n",
              "      display:flex;\n",
              "      flex-wrap:wrap;\n",
              "      gap: 12px;\n",
              "    }\n",
              "\n",
              "    .colab-df-convert {\n",
              "      background-color: #E8F0FE;\n",
              "      border: none;\n",
              "      border-radius: 50%;\n",
              "      cursor: pointer;\n",
              "      display: none;\n",
              "      fill: #1967D2;\n",
              "      height: 32px;\n",
              "      padding: 0 0 0 0;\n",
              "      width: 32px;\n",
              "    }\n",
              "\n",
              "    .colab-df-convert:hover {\n",
              "      background-color: #E2EBFA;\n",
              "      box-shadow: 0px 1px 2px rgba(60, 64, 67, 0.3), 0px 1px 3px 1px rgba(60, 64, 67, 0.15);\n",
              "      fill: #174EA6;\n",
              "    }\n",
              "\n",
              "    [theme=dark] .colab-df-convert {\n",
              "      background-color: #3B4455;\n",
              "      fill: #D2E3FC;\n",
              "    }\n",
              "\n",
              "    [theme=dark] .colab-df-convert:hover {\n",
              "      background-color: #434B5C;\n",
              "      box-shadow: 0px 1px 3px 1px rgba(0, 0, 0, 0.15);\n",
              "      filter: drop-shadow(0px 1px 2px rgba(0, 0, 0, 0.3));\n",
              "      fill: #FFFFFF;\n",
              "    }\n",
              "  </style>\n",
              "\n",
              "      <script>\n",
              "        const buttonEl =\n",
              "          document.querySelector('#df-c0a81c64-6cce-4b4c-88bf-3c4a28977102 button.colab-df-convert');\n",
              "        buttonEl.style.display =\n",
              "          google.colab.kernel.accessAllowed ? 'block' : 'none';\n",
              "\n",
              "        async function convertToInteractive(key) {\n",
              "          const element = document.querySelector('#df-c0a81c64-6cce-4b4c-88bf-3c4a28977102');\n",
              "          const dataTable =\n",
              "            await google.colab.kernel.invokeFunction('convertToInteractive',\n",
              "                                                     [key], {});\n",
              "          if (!dataTable) return;\n",
              "\n",
              "          const docLinkHtml = 'Like what you see? Visit the ' +\n",
              "            '<a target=\"_blank\" href=https://colab.research.google.com/notebooks/data_table.ipynb>data table notebook</a>'\n",
              "            + ' to learn more about interactive tables.';\n",
              "          element.innerHTML = '';\n",
              "          dataTable['output_type'] = 'display_data';\n",
              "          await google.colab.output.renderOutput(dataTable, element);\n",
              "          const docLink = document.createElement('div');\n",
              "          docLink.innerHTML = docLinkHtml;\n",
              "          element.appendChild(docLink);\n",
              "        }\n",
              "      </script>\n",
              "    </div>\n",
              "  </div>\n",
              "  "
            ]
          },
          "metadata": {},
          "execution_count": 151
        }
      ]
    },
    {
      "cell_type": "code",
      "source": [
        "len(data_11)"
      ],
      "metadata": {
        "colab": {
          "base_uri": "https://localhost:8080/"
        },
        "id": "BcwGbpAMw6BL",
        "outputId": "f916c19c-007f-4357-d492-e319ee96a89f"
      },
      "execution_count": null,
      "outputs": [
        {
          "output_type": "execute_result",
          "data": {
            "text/plain": [
              "661"
            ]
          },
          "metadata": {},
          "execution_count": 152
        }
      ]
    },
    {
      "cell_type": "markdown",
      "source": [
        "* stereo, mcivil 퍼지화"
      ],
      "metadata": {
        "id": "Qydt67RjuCtx"
      }
    },
    {
      "cell_type": "code",
      "source": [
        "M_fuz = np.array([data_11['stereo'] - 1, data_11['stereo'], data_11['stereo'] + 1]).T\n",
        "M_fuz"
      ],
      "metadata": {
        "id": "fjeJk6-dqXxD",
        "colab": {
          "base_uri": "https://localhost:8080/"
        },
        "outputId": "4473675d-9de0-4e86-fdf2-fc074c670f74"
      },
      "execution_count": null,
      "outputs": [
        {
          "output_type": "execute_result",
          "data": {
            "text/plain": [
              "array([[1.8, 2.8, 3.8],\n",
              "       [0.8, 1.8, 2.8],\n",
              "       [1. , 2. , 3. ],\n",
              "       ...,\n",
              "       [1.6, 2.6, 3.6],\n",
              "       [3.2, 4.2, 5.2],\n",
              "       [3.6, 4.6, 5.6]])"
            ]
          },
          "metadata": {},
          "execution_count": 155
        }
      ]
    },
    {
      "cell_type": "code",
      "source": [
        "row, col = M_fuz.shape"
      ],
      "metadata": {
        "id": "2Xxye7Lvz2bn"
      },
      "execution_count": null,
      "outputs": []
    },
    {
      "cell_type": "code",
      "source": [
        "for i in range(row):    # 1~5 이므로 1보다 작거나 5보다 큰 부분 수정\n",
        "  if M_fuz[i][0] < 1:\n",
        "    M_fuz[i][0] = 1\n",
        "  elif M_fuz[i][2] >5:\n",
        "    M_fuz[i][2] = 5"
      ],
      "metadata": {
        "id": "UCIa8fumzwXZ"
      },
      "execution_count": null,
      "outputs": []
    },
    {
      "cell_type": "code",
      "source": [
        "Y_fuz = np.array([data_11['mcivil'] - 1, data_11['mcivil'], data_11['mcivil'] + 1]).T\n",
        "Y_fuz"
      ],
      "metadata": {
        "colab": {
          "base_uri": "https://localhost:8080/"
        },
        "outputId": "7f65c3e5-6c9d-42a3-df9f-bd0d58837988",
        "id": "aFd9vZsc0ZyQ"
      },
      "execution_count": null,
      "outputs": [
        {
          "output_type": "execute_result",
          "data": {
            "text/plain": [
              "array([[1.8, 2.8, 3.8],\n",
              "       [2.2, 3.2, 4.2],\n",
              "       [1.8, 2.8, 3.8],\n",
              "       ...,\n",
              "       [1.6, 2.6, 3.6],\n",
              "       [1.6, 2.6, 3.6],\n",
              "       [3. , 4. , 5. ]])"
            ]
          },
          "metadata": {},
          "execution_count": 158
        }
      ]
    },
    {
      "cell_type": "code",
      "source": [
        "for i in range(row):    # 1~5 이므로 1보다 작거나 5보다 큰 부분 수정\n",
        "  if Y_fuz[i][0] < 1:\n",
        "    Y_fuz[i][0] = 1\n",
        "  elif Y_fuz[i][2] >5:\n",
        "    Y_fuz[i][2] = 5"
      ],
      "metadata": {
        "id": "0Ty-apnQ0ZyQ"
      },
      "execution_count": null,
      "outputs": []
    },
    {
      "cell_type": "markdown",
      "source": [
        "* news_content, age, sex crisp"
      ],
      "metadata": {
        "id": "WXL9hgoQvCyB"
      }
    },
    {
      "cell_type": "code",
      "source": [
        "X_fuz = np.array([data_11['news_content'], data_11['news_content'], data_11['news_content']]).T\n",
        "X_fuz"
      ],
      "metadata": {
        "colab": {
          "base_uri": "https://localhost:8080/"
        },
        "id": "gtL-5VC3voku",
        "outputId": "8102dd9b-b728-42f6-8cdb-a1e160cf28b1"
      },
      "execution_count": null,
      "outputs": [
        {
          "output_type": "execute_result",
          "data": {
            "text/plain": [
              "array([[0, 0, 0],\n",
              "       [1, 1, 1],\n",
              "       [1, 1, 1],\n",
              "       ...,\n",
              "       [0, 0, 0],\n",
              "       [1, 1, 1],\n",
              "       [0, 0, 0]])"
            ]
          },
          "metadata": {},
          "execution_count": 160
        }
      ]
    },
    {
      "cell_type": "code",
      "source": [
        "W_fuz = np.array([data_11['age'], data_11['age'], data_11['age']]).T\n",
        "W_fuz"
      ],
      "metadata": {
        "colab": {
          "base_uri": "https://localhost:8080/"
        },
        "id": "zxpixK4K0vkq",
        "outputId": "dd91a34b-2673-41f2-87c2-f2fc76415fa5"
      },
      "execution_count": null,
      "outputs": [
        {
          "output_type": "execute_result",
          "data": {
            "text/plain": [
              "array([[7.5, 7.5, 7.5],\n",
              "       [3.3, 3.3, 3.3],\n",
              "       [5.6, 5.6, 5.6],\n",
              "       ...,\n",
              "       [3.5, 3.5, 3.5],\n",
              "       [4.7, 4.7, 4.7],\n",
              "       [5.8, 5.8, 5.8]])"
            ]
          },
          "metadata": {},
          "execution_count": 161
        }
      ]
    },
    {
      "cell_type": "code",
      "source": [
        "Z_fuz = np.array([data_11['sex'], data_11['sex'], data_11['sex']]).T\n",
        "Z_fuz"
      ],
      "metadata": {
        "colab": {
          "base_uri": "https://localhost:8080/"
        },
        "id": "wbABe0TA03UY",
        "outputId": "7309e107-3196-4909-8055-4d0f15252b89"
      },
      "execution_count": null,
      "outputs": [
        {
          "output_type": "execute_result",
          "data": {
            "text/plain": [
              "array([[0, 0, 0],\n",
              "       [1, 1, 1],\n",
              "       [0, 0, 0],\n",
              "       ...,\n",
              "       [1, 1, 1],\n",
              "       [0, 0, 0],\n",
              "       [0, 0, 0]])"
            ]
          },
          "metadata": {},
          "execution_count": 162
        }
      ]
    },
    {
      "cell_type": "code",
      "source": [
        "Y_fuz.shape"
      ],
      "metadata": {
        "colab": {
          "base_uri": "https://localhost:8080/"
        },
        "id": "mJ9q8gfgpYD6",
        "outputId": "cbf8102d-b707-4487-e23e-ef7416d10516"
      },
      "execution_count": null,
      "outputs": [
        {
          "output_type": "execute_result",
          "data": {
            "text/plain": [
              "(661, 3)"
            ]
          },
          "metadata": {},
          "execution_count": 163
        }
      ]
    },
    {
      "cell_type": "code",
      "source": [
        "one = np.ones((661,3))"
      ],
      "metadata": {
        "id": "_ywft4OlpWp2"
      },
      "execution_count": null,
      "outputs": []
    },
    {
      "cell_type": "code",
      "source": [
        "XW_fuz = X_fuz * W_fuz\n",
        "XZ_fuz = X_fuz * Z_fuz\n",
        "WZ_fuz = W_fuz * Z_fuz\n",
        "XWZ_fuz = X_fuz * W_fuz * Z_fuz"
      ],
      "metadata": {
        "id": "6v3-ALSEph8P"
      },
      "execution_count": null,
      "outputs": []
    },
    {
      "cell_type": "markdown",
      "source": [
        "* M(stereo)"
      ],
      "metadata": {
        "id": "TSH42BXjqCKR"
      }
    },
    {
      "cell_type": "code",
      "source": [
        "X_mat = np.array([one, X_fuz, W_fuz, Z_fuz, XW_fuz, XZ_fuz, WZ_fuz, XWZ_fuz])\n",
        "X_mat.shape"
      ],
      "metadata": {
        "colab": {
          "base_uri": "https://localhost:8080/"
        },
        "outputId": "2001c2c9-3e56-4ffa-eab3-c9cbbc5176c5",
        "id": "sBW72C6Yo4Ju"
      },
      "execution_count": null,
      "outputs": [
        {
          "output_type": "execute_result",
          "data": {
            "text/plain": [
              "(8, 661, 3)"
            ]
          },
          "metadata": {},
          "execution_count": 166
        }
      ]
    },
    {
      "cell_type": "code",
      "source": [
        "col, row, tri = X_mat.shape\n",
        "print(col, row, tri)"
      ],
      "metadata": {
        "colab": {
          "base_uri": "https://localhost:8080/"
        },
        "outputId": "9c19f1d0-b996-415b-b06e-7baacf4d60c0",
        "id": "uW1XO5tZo4Jv"
      },
      "execution_count": null,
      "outputs": [
        {
          "output_type": "stream",
          "name": "stdout",
          "text": [
            "8 661 3\n"
          ]
        }
      ]
    },
    {
      "cell_type": "code",
      "source": [
        "XX = np.zeros((col,col))\n",
        "for i in range(col):\n",
        "  for j in range(col):\n",
        "    sum = 0\n",
        "    for k in range(row):\n",
        "      sum = sum + np.dot(X_mat[i][k], X_mat[j][k])\n",
        "    XX[i][j] = sum"
      ],
      "metadata": {
        "id": "GJ49twz0o4Jv"
      },
      "execution_count": null,
      "outputs": []
    },
    {
      "cell_type": "code",
      "source": [
        "XY = np.zeros((col, 1))\n",
        "for i in range(col):\n",
        "  sum = 0\n",
        "  for k in range(row):\n",
        "    sum = sum + np.dot(X_mat[i][k], M_fuz[k])\n",
        "  XY[i] = sum"
      ],
      "metadata": {
        "id": "UfbOTYkeo4Jv"
      },
      "execution_count": null,
      "outputs": []
    },
    {
      "cell_type": "code",
      "source": [
        "XX_inv = np.linalg.inv(XX)"
      ],
      "metadata": {
        "id": "HDgwxbEso4Jv"
      },
      "execution_count": null,
      "outputs": []
    },
    {
      "cell_type": "code",
      "source": [
        "beta_M = XX_inv @ XY\n",
        "for i in range(len(beta_M)):\n",
        "  print(beta_M[i])"
      ],
      "metadata": {
        "colab": {
          "base_uri": "https://localhost:8080/"
        },
        "outputId": "97f3efc2-b065-499c-ad33-e90edd479fcb",
        "id": "g8wjnAo3o4Jv"
      },
      "execution_count": null,
      "outputs": [
        {
          "output_type": "stream",
          "name": "stdout",
          "text": [
            "[2.29325402]\n",
            "[1.11254948]\n",
            "[0.10963958]\n",
            "[0.29085336]\n",
            "[-0.18865943]\n",
            "[-1.20904456]\n",
            "[-0.04158585]\n",
            "[0.22070134]\n"
          ]
        }
      ]
    },
    {
      "cell_type": "code",
      "source": [
        "cov_mat = XX_inv"
      ],
      "metadata": {
        "id": "DLWKOsGODPt0"
      },
      "execution_count": null,
      "outputs": []
    },
    {
      "cell_type": "code",
      "source": [
        "cov_mat.shape"
      ],
      "metadata": {
        "colab": {
          "base_uri": "https://localhost:8080/"
        },
        "id": "zXLlAwFJDRM7",
        "outputId": "1d2416bc-9e52-48f7-f88a-91d91b148e7e"
      },
      "execution_count": null,
      "outputs": [
        {
          "output_type": "execute_result",
          "data": {
            "text/plain": [
              "(8, 8)"
            ]
          },
          "metadata": {},
          "execution_count": 173
        }
      ]
    },
    {
      "cell_type": "code",
      "source": [
        "M_fuz_hat = 2.2933+1.1125*X_fuz+0.1096*W_fuz+0.2909*Z_fuz-0.1887*X_fuz*W_fuz-1.2090*X_fuz*Z_fuz-0.0416*W_fuz*Z_fuz+0.2207*X_fuz*W_fuz*Z_fuz"
      ],
      "metadata": {
        "id": "nFyB8u7HDt5Q"
      },
      "execution_count": null,
      "outputs": []
    },
    {
      "cell_type": "code",
      "source": [
        "mse = ((M_fuz - M_fuz_hat) ** 2).sum(axis=1).sum() / 653\n",
        "print(mse)"
      ],
      "metadata": {
        "colab": {
          "base_uri": "https://localhost:8080/"
        },
        "id": "5FM9svsBDuKj",
        "outputId": "e9427427-3622-4dd4-bedd-7cf113be1306"
      },
      "execution_count": null,
      "outputs": [
        {
          "output_type": "stream",
          "name": "stdout",
          "text": [
            "3.6651852782727414\n"
          ]
        }
      ]
    },
    {
      "cell_type": "code",
      "source": [
        "M_fuz"
      ],
      "metadata": {
        "colab": {
          "base_uri": "https://localhost:8080/"
        },
        "id": "6zVIUykSEJVU",
        "outputId": "d989c488-fda7-4353-859f-02b485b0cea4"
      },
      "execution_count": null,
      "outputs": [
        {
          "output_type": "execute_result",
          "data": {
            "text/plain": [
              "array([[1.8, 2.8, 3.8],\n",
              "       [1. , 1.8, 2.8],\n",
              "       [1. , 2. , 3. ],\n",
              "       ...,\n",
              "       [1.6, 2.6, 3.6],\n",
              "       [3.2, 4.2, 5. ],\n",
              "       [3.6, 4.6, 5. ]])"
            ]
          },
          "metadata": {},
          "execution_count": 176
        }
      ]
    },
    {
      "cell_type": "code",
      "source": [
        "t_rv = t(df=653)"
      ],
      "metadata": {
        "id": "OMxb3z_TEawr"
      },
      "execution_count": null,
      "outputs": []
    },
    {
      "cell_type": "code",
      "source": [
        "se_0 = np.sqrt(cov_mat[0][0] * mse)\n",
        "se_0"
      ],
      "metadata": {
        "colab": {
          "base_uri": "https://localhost:8080/"
        },
        "outputId": "5602186f-4bd3-4e07-e993-dc6d38a9dcb0",
        "id": "tkGF3lrEEfS8"
      },
      "execution_count": null,
      "outputs": [
        {
          "output_type": "execute_result",
          "data": {
            "text/plain": [
              "0.2554333961472231"
            ]
          },
          "metadata": {},
          "execution_count": 178
        }
      ]
    },
    {
      "cell_type": "code",
      "source": [
        "t_0 = 2.2933 / se_0 # 상수의 t_value\n",
        "t_0"
      ],
      "metadata": {
        "colab": {
          "base_uri": "https://localhost:8080/"
        },
        "outputId": "4f4cc48d-6463-482d-b479-e497e9cc5877",
        "id": "sj0DqW-zEfS-"
      },
      "execution_count": null,
      "outputs": [
        {
          "output_type": "execute_result",
          "data": {
            "text/plain": [
              "8.978074263547825"
            ]
          },
          "metadata": {},
          "execution_count": 179
        }
      ]
    },
    {
      "cell_type": "code",
      "source": [
        "p_0 = (1 - t_rv.cdf(t_0)) * 2 # p_value\n",
        "p_0"
      ],
      "metadata": {
        "colab": {
          "base_uri": "https://localhost:8080/"
        },
        "outputId": "d04e0d85-7018-4ac5-aa3a-e3f36ed793af",
        "id": "UqtRGnJqEfS-"
      },
      "execution_count": null,
      "outputs": [
        {
          "output_type": "execute_result",
          "data": {
            "text/plain": [
              "0.0"
            ]
          },
          "metadata": {},
          "execution_count": 180
        }
      ]
    },
    {
      "cell_type": "code",
      "source": [
        "se_1 = np.sqrt(cov_mat[1][1] * mse)\n",
        "se_1"
      ],
      "metadata": {
        "colab": {
          "base_uri": "https://localhost:8080/"
        },
        "outputId": "d369b5b8-eb99-426e-8ca2-d80949ead2ca",
        "id": "1GiGLjg5EfS-"
      },
      "execution_count": null,
      "outputs": [
        {
          "output_type": "execute_result",
          "data": {
            "text/plain": [
              "0.4141128277151506"
            ]
          },
          "metadata": {},
          "execution_count": 181
        }
      ]
    },
    {
      "cell_type": "code",
      "source": [
        "t_1 = 1.1125 / se_1 # t통계량값\n",
        "t_1"
      ],
      "metadata": {
        "colab": {
          "base_uri": "https://localhost:8080/"
        },
        "outputId": "8236e761-44ca-43f3-d487-2b7662d76853",
        "id": "kcP5OD_aEfS-"
      },
      "execution_count": null,
      "outputs": [
        {
          "output_type": "execute_result",
          "data": {
            "text/plain": [
              "2.686465923159565"
            ]
          },
          "metadata": {},
          "execution_count": 182
        }
      ]
    },
    {
      "cell_type": "code",
      "source": [
        "p_1 = (1 - t_rv.cdf(t_1)) * 2 # p_value\n",
        "p_1"
      ],
      "metadata": {
        "colab": {
          "base_uri": "https://localhost:8080/"
        },
        "outputId": "8fad524e-5e35-4d9f-df8f-398cb164bb01",
        "id": "gguNIwHYEfS-"
      },
      "execution_count": null,
      "outputs": [
        {
          "output_type": "execute_result",
          "data": {
            "text/plain": [
              "0.007404937010187185"
            ]
          },
          "metadata": {},
          "execution_count": 183
        }
      ]
    },
    {
      "cell_type": "code",
      "source": [
        "se_2 = np.sqrt(cov_mat[2][2] * mse)\n",
        "se_2"
      ],
      "metadata": {
        "colab": {
          "base_uri": "https://localhost:8080/"
        },
        "outputId": "3ed656ad-a5a4-4cd6-d990-a137d8ec564b",
        "id": "1vEcdCavEfS_"
      },
      "execution_count": null,
      "outputs": [
        {
          "output_type": "execute_result",
          "data": {
            "text/plain": [
              "0.047451563466625296"
            ]
          },
          "metadata": {},
          "execution_count": 184
        }
      ]
    },
    {
      "cell_type": "code",
      "source": [
        "t_2 = 0.1096 / se_2 # t통계량값\n",
        "t_2"
      ],
      "metadata": {
        "colab": {
          "base_uri": "https://localhost:8080/"
        },
        "outputId": "d55dd34d-f7a5-45d3-c557-c2a1133bd299",
        "id": "flap6aLtEfS_"
      },
      "execution_count": null,
      "outputs": [
        {
          "output_type": "execute_result",
          "data": {
            "text/plain": [
              "2.3097236843857916"
            ]
          },
          "metadata": {},
          "execution_count": 185
        }
      ]
    },
    {
      "cell_type": "code",
      "source": [
        "p_2 = (1- t_rv.cdf(t_2)) * 2 # p_value\n",
        "p_2"
      ],
      "metadata": {
        "colab": {
          "base_uri": "https://localhost:8080/"
        },
        "outputId": "9dfad8ed-bb7f-454a-8df0-5292fc594352",
        "id": "gvJ5DGfYEfS_"
      },
      "execution_count": null,
      "outputs": [
        {
          "output_type": "execute_result",
          "data": {
            "text/plain": [
              "0.021214488988543057"
            ]
          },
          "metadata": {},
          "execution_count": 186
        }
      ]
    },
    {
      "cell_type": "code",
      "source": [
        "se_3 = np.sqrt(cov_mat[3][3] * mse)\n",
        "se_3"
      ],
      "metadata": {
        "colab": {
          "base_uri": "https://localhost:8080/"
        },
        "outputId": "c6e691c7-0ca2-4698-d0f5-593a5cdfe7e4",
        "id": "mw3-YoA6EfS_"
      },
      "execution_count": null,
      "outputs": [
        {
          "output_type": "execute_result",
          "data": {
            "text/plain": [
              "0.3469108579686421"
            ]
          },
          "metadata": {},
          "execution_count": 188
        }
      ]
    },
    {
      "cell_type": "code",
      "source": [
        "t_3 = 0.2909 / se_3 # t통계량값\n",
        "t_3"
      ],
      "metadata": {
        "colab": {
          "base_uri": "https://localhost:8080/"
        },
        "outputId": "a19ef199-6389-4df0-85b1-d9b004a24e37",
        "id": "xEd3fc4bEfS_"
      },
      "execution_count": null,
      "outputs": [
        {
          "output_type": "execute_result",
          "data": {
            "text/plain": [
              "0.8385439467169834"
            ]
          },
          "metadata": {},
          "execution_count": 189
        }
      ]
    },
    {
      "cell_type": "code",
      "source": [
        "p_3 = (1-t_rv.cdf(t_3)) * 2 # p_value\n",
        "p_3"
      ],
      "metadata": {
        "colab": {
          "base_uri": "https://localhost:8080/"
        },
        "outputId": "fb5a657a-a59c-4516-e1f1-e16b3c02666e",
        "id": "EPyc1yoAEfTA"
      },
      "execution_count": null,
      "outputs": [
        {
          "output_type": "execute_result",
          "data": {
            "text/plain": [
              "0.40203211768403424"
            ]
          },
          "metadata": {},
          "execution_count": 190
        }
      ]
    },
    {
      "cell_type": "code",
      "source": [
        "se_4 = np.sqrt(cov_mat[4][4] * mse)\n",
        "se_4"
      ],
      "metadata": {
        "colab": {
          "base_uri": "https://localhost:8080/"
        },
        "outputId": "b96931e7-91a5-4cdb-c13f-2c85917ac1e1",
        "id": "K0JfPJR0EfTA"
      },
      "execution_count": null,
      "outputs": [
        {
          "output_type": "execute_result",
          "data": {
            "text/plain": [
              "0.0771926271670897"
            ]
          },
          "metadata": {},
          "execution_count": 191
        }
      ]
    },
    {
      "cell_type": "code",
      "source": [
        "t_4 = -0.1887 / se_4 # t통계량값\n",
        "t_4"
      ],
      "metadata": {
        "colab": {
          "base_uri": "https://localhost:8080/"
        },
        "outputId": "1ce91095-8b21-432e-bd1f-2aeefbce2443",
        "id": "cXd0hmtCEfTA"
      },
      "execution_count": null,
      "outputs": [
        {
          "output_type": "execute_result",
          "data": {
            "text/plain": [
              "-2.444533978504755"
            ]
          },
          "metadata": {},
          "execution_count": 192
        }
      ]
    },
    {
      "cell_type": "code",
      "source": [
        "p_4 = (t_rv.cdf(t_4)) * 2 # p_value\n",
        "p_4"
      ],
      "metadata": {
        "colab": {
          "base_uri": "https://localhost:8080/"
        },
        "outputId": "4dee6501-14c0-4bd7-9373-b4fcedcc468c",
        "id": "Vwu60F_8EfTA"
      },
      "execution_count": null,
      "outputs": [
        {
          "output_type": "execute_result",
          "data": {
            "text/plain": [
              "0.01476730134907905"
            ]
          },
          "metadata": {},
          "execution_count": 193
        }
      ]
    },
    {
      "cell_type": "code",
      "source": [
        "se_5 = np.sqrt(cov_mat[5][5] * mse)\n",
        "se_5"
      ],
      "metadata": {
        "colab": {
          "base_uri": "https://localhost:8080/"
        },
        "outputId": "6ce76240-ac09-45b8-c3b7-94bd6a9deef7",
        "id": "tPyQafmIEfTA"
      },
      "execution_count": null,
      "outputs": [
        {
          "output_type": "execute_result",
          "data": {
            "text/plain": [
              "0.5530074543110985"
            ]
          },
          "metadata": {},
          "execution_count": 194
        }
      ]
    },
    {
      "cell_type": "code",
      "source": [
        "t_5 = -1.2090 / se_5 # t통계량값\n",
        "t_5"
      ],
      "metadata": {
        "colab": {
          "base_uri": "https://localhost:8080/"
        },
        "outputId": "c1bdb623-7840-4a7f-a2c7-28f2de8a7064",
        "id": "2BqznhlNEfTB"
      },
      "execution_count": null,
      "outputs": [
        {
          "output_type": "execute_result",
          "data": {
            "text/plain": [
              "-2.1862273113589312"
            ]
          },
          "metadata": {},
          "execution_count": 195
        }
      ]
    },
    {
      "cell_type": "code",
      "source": [
        "p_5 = (t_rv.cdf(t_5)) * 2 # p_value\n",
        "p_5"
      ],
      "metadata": {
        "colab": {
          "base_uri": "https://localhost:8080/"
        },
        "outputId": "b0cce1c2-9fd2-41f0-b215-722b24da2746",
        "id": "sywLlUV7EfTB"
      },
      "execution_count": null,
      "outputs": [
        {
          "output_type": "execute_result",
          "data": {
            "text/plain": [
              "0.029153266613617047"
            ]
          },
          "metadata": {},
          "execution_count": 196
        }
      ]
    },
    {
      "cell_type": "code",
      "source": [
        "se_6 = np.sqrt(cov_mat[6][6] * mse)\n",
        "se_6"
      ],
      "metadata": {
        "colab": {
          "base_uri": "https://localhost:8080/"
        },
        "outputId": "7e3e9c65-fce5-4939-8c6f-e4ebcacbc177",
        "id": "KBJh1x8AEfTB"
      },
      "execution_count": null,
      "outputs": [
        {
          "output_type": "execute_result",
          "data": {
            "text/plain": [
              "0.06749753883864772"
            ]
          },
          "metadata": {},
          "execution_count": 197
        }
      ]
    },
    {
      "cell_type": "code",
      "source": [
        "t_6 = -0.0416 / se_6 # t통계량값\n",
        "t_6"
      ],
      "metadata": {
        "colab": {
          "base_uri": "https://localhost:8080/"
        },
        "outputId": "08133c2f-82bf-4871-b4ac-1be7080f5f30",
        "id": "BK4o-u6SEfTB"
      },
      "execution_count": null,
      "outputs": [
        {
          "output_type": "execute_result",
          "data": {
            "text/plain": [
              "-0.6163187682953069"
            ]
          },
          "metadata": {},
          "execution_count": 198
        }
      ]
    },
    {
      "cell_type": "code",
      "source": [
        "p_6 = (t_rv.cdf(t_6)) * 2 # p_value\n",
        "p_6"
      ],
      "metadata": {
        "colab": {
          "base_uri": "https://localhost:8080/"
        },
        "outputId": "41e5accf-d2ad-4f74-976b-798cc372d87e",
        "id": "H25JCTq4EfTB"
      },
      "execution_count": null,
      "outputs": [
        {
          "output_type": "execute_result",
          "data": {
            "text/plain": [
              "0.5378989398013642"
            ]
          },
          "metadata": {},
          "execution_count": 199
        }
      ]
    },
    {
      "cell_type": "code",
      "source": [
        "se_7 = np.sqrt(cov_mat[7][7] * mse)\n",
        "se_7"
      ],
      "metadata": {
        "colab": {
          "base_uri": "https://localhost:8080/"
        },
        "outputId": "4641414b-c98b-4268-9158-8b20080d799a",
        "id": "BBmzRivHEfTB"
      },
      "execution_count": null,
      "outputs": [
        {
          "output_type": "execute_result",
          "data": {
            "text/plain": [
              "0.10774861283965304"
            ]
          },
          "metadata": {},
          "execution_count": 200
        }
      ]
    },
    {
      "cell_type": "code",
      "source": [
        "t_7 = 0.2207 / se_7 # t통계량값\n",
        "t_7"
      ],
      "metadata": {
        "colab": {
          "base_uri": "https://localhost:8080/"
        },
        "outputId": "30c3edb2-916a-4acb-823d-7502e74422cc",
        "id": "7J7jtjAJEfTB"
      },
      "execution_count": null,
      "outputs": [
        {
          "output_type": "execute_result",
          "data": {
            "text/plain": [
              "2.0482862301757563"
            ]
          },
          "metadata": {},
          "execution_count": 201
        }
      ]
    },
    {
      "cell_type": "code",
      "source": [
        "p_7 = (1 - t_rv.cdf(t_7)) * 2 # p_value\n",
        "p_7"
      ],
      "metadata": {
        "colab": {
          "base_uri": "https://localhost:8080/"
        },
        "outputId": "eae2de83-ed68-4907-bd86-20025f1f241a",
        "id": "UhgV4PRVEfTC"
      },
      "execution_count": null,
      "outputs": [
        {
          "output_type": "execute_result",
          "data": {
            "text/plain": [
              "0.04093129990199773"
            ]
          },
          "metadata": {},
          "execution_count": 202
        }
      ]
    },
    {
      "cell_type": "code",
      "source": [
        "print(p_0)\n",
        "print(p_1)\n",
        "print(p_2)\n",
        "print(p_3)\n",
        "print(p_4)\n",
        "print(p_5)\n",
        "print(p_6)\n",
        "print(p_7)"
      ],
      "metadata": {
        "colab": {
          "base_uri": "https://localhost:8080/"
        },
        "id": "efHSyLD-FoYZ",
        "outputId": "b2f1b679-3e60-471b-8468-5dddeeaaaf01"
      },
      "execution_count": null,
      "outputs": [
        {
          "output_type": "stream",
          "name": "stdout",
          "text": [
            "0.0\n",
            "0.007404937010187185\n",
            "0.021214488988543057\n",
            "0.40203211768403424\n",
            "0.01476730134907905\n",
            "0.029153266613617047\n",
            "0.5378989398013642\n",
            "0.04093129990199773\n"
          ]
        }
      ]
    },
    {
      "cell_type": "markdown",
      "source": [
        "----"
      ],
      "metadata": {
        "id": "pFU8NIMDDQAv"
      }
    },
    {
      "cell_type": "markdown",
      "source": [
        "* Y(mcivil)"
      ],
      "metadata": {
        "id": "O43JEbyUqQbp"
      }
    },
    {
      "cell_type": "code",
      "source": [
        "X_mat = np.array([one, X_fuz, M_fuz])\n",
        "X_mat.shape"
      ],
      "metadata": {
        "colab": {
          "base_uri": "https://localhost:8080/"
        },
        "outputId": "41c1a111-424d-4935-eb01-001f8f9dfc2b",
        "id": "v8R_7fB-qati"
      },
      "execution_count": null,
      "outputs": [
        {
          "output_type": "execute_result",
          "data": {
            "text/plain": [
              "(3, 661, 3)"
            ]
          },
          "metadata": {},
          "execution_count": 204
        }
      ]
    },
    {
      "cell_type": "code",
      "source": [
        "col, row, tri = X_mat.shape\n",
        "print(col, row, tri)"
      ],
      "metadata": {
        "colab": {
          "base_uri": "https://localhost:8080/"
        },
        "outputId": "989d5295-6651-4f3d-991c-1e7e0f494ae7",
        "id": "zsg1wg1Uqatj"
      },
      "execution_count": null,
      "outputs": [
        {
          "output_type": "stream",
          "name": "stdout",
          "text": [
            "3 661 3\n"
          ]
        }
      ]
    },
    {
      "cell_type": "code",
      "source": [
        "XX = np.zeros((col,col))\n",
        "for i in range(col):\n",
        "  for j in range(col):\n",
        "    sum = 0\n",
        "    for k in range(row):\n",
        "      sum = sum + np.dot(X_mat[i][k], X_mat[j][k])\n",
        "    XX[i][j] = sum"
      ],
      "metadata": {
        "id": "afu6492Gqatj"
      },
      "execution_count": null,
      "outputs": []
    },
    {
      "cell_type": "code",
      "source": [
        "XY = np.zeros((col, 1))\n",
        "for i in range(col):\n",
        "  sum = 0\n",
        "  for k in range(row):\n",
        "    sum = sum + np.dot(X_mat[i][k], Y_fuz[k])\n",
        "  XY[i] = sum"
      ],
      "metadata": {
        "id": "7bTBDSNNqatj"
      },
      "execution_count": null,
      "outputs": []
    },
    {
      "cell_type": "code",
      "source": [
        "XX_inv = np.linalg.inv(XX)"
      ],
      "metadata": {
        "id": "e2WNxtP6qatj"
      },
      "execution_count": null,
      "outputs": []
    },
    {
      "cell_type": "code",
      "source": [
        "beta_Y = XX_inv @ XY\n",
        "for i in range(len(beta_Y)):\n",
        "  print(beta_Y[i])"
      ],
      "metadata": {
        "colab": {
          "base_uri": "https://localhost:8080/"
        },
        "outputId": "9c5ebe38-b6c1-424e-dcfd-c0a1dcd9cfce",
        "id": "QytRP-ccqatj"
      },
      "execution_count": null,
      "outputs": [
        {
          "output_type": "stream",
          "name": "stdout",
          "text": [
            "[0.52250555]\n",
            "[-0.06260827]\n",
            "[0.73968045]\n"
          ]
        }
      ]
    },
    {
      "cell_type": "code",
      "source": [
        "Y_fuz_hat = 0.5225-0.0626*X_fuz+0.7397*M_fuz"
      ],
      "metadata": {
        "id": "hNPF1wrxmhyD"
      },
      "execution_count": null,
      "outputs": []
    },
    {
      "cell_type": "markdown",
      "source": [
        "* R^2 & F"
      ],
      "metadata": {
        "id": "3AN8OcGnmhyD"
      }
    },
    {
      "cell_type": "code",
      "source": [
        "TSS = ((Y_fuz-Y_fuz.mean())**2).sum(axis=1).sum()\n",
        "SSR = ((Y_fuz_hat-Y_fuz.mean())**2).sum(axis=1).sum()\n",
        "SSE = ((Y_fuz-Y_fuz_hat)**2).sum(axis=1).sum()"
      ],
      "metadata": {
        "id": "MvWgZj5imhyD"
      },
      "execution_count": null,
      "outputs": []
    },
    {
      "cell_type": "code",
      "source": [
        "R = 1 - SSE / TSS\n",
        "print(R)"
      ],
      "metadata": {
        "colab": {
          "base_uri": "https://localhost:8080/"
        },
        "outputId": "0b669512-d66d-4b9a-c6b2-f4672a2bb7f3",
        "id": "Q5v8xGCYmhyD"
      },
      "execution_count": null,
      "outputs": [
        {
          "output_type": "stream",
          "name": "stdout",
          "text": [
            "0.48115967087215583\n"
          ]
        }
      ]
    },
    {
      "cell_type": "code",
      "source": [
        "F = (SSR/2) / (SSE/658)\n",
        "print(F)"
      ],
      "metadata": {
        "colab": {
          "base_uri": "https://localhost:8080/"
        },
        "outputId": "ad3ffe64-fe60-418c-b222-e12d427ae7fc",
        "id": "FPrfNGugmhyE"
      },
      "execution_count": null,
      "outputs": [
        {
          "output_type": "stream",
          "name": "stdout",
          "text": [
            "305.12260527496574\n"
          ]
        }
      ]
    },
    {
      "cell_type": "code",
      "source": [
        "f_rv = f(2, 658)"
      ],
      "metadata": {
        "id": "Qh1D7tQemhyE"
      },
      "execution_count": null,
      "outputs": []
    },
    {
      "cell_type": "code",
      "source": [
        "1 - f_rv.cdf(F) # F-value "
      ],
      "metadata": {
        "colab": {
          "base_uri": "https://localhost:8080/"
        },
        "outputId": "33b5de44-fe76-4337-93df-9ea6f8465cd2",
        "id": "rMPS5sVamhyE"
      },
      "execution_count": null,
      "outputs": [
        {
          "output_type": "execute_result",
          "data": {
            "text/plain": [
              "1.1102230246251565e-16"
            ]
          },
          "metadata": {},
          "execution_count": 215
        }
      ]
    },
    {
      "cell_type": "markdown",
      "source": [
        "----"
      ],
      "metadata": {
        "id": "Rv09Sde_miWe"
      }
    },
    {
      "cell_type": "code",
      "source": [
        "cov_mat = XX_inv"
      ],
      "metadata": {
        "id": "z5BDZLY_GY8x"
      },
      "execution_count": null,
      "outputs": []
    },
    {
      "cell_type": "code",
      "source": [
        "Y_fuz_hat = 0.5225-0.0626*X_fuz+0.7397*M_fuz"
      ],
      "metadata": {
        "id": "iTaHgxCbGZ8T"
      },
      "execution_count": null,
      "outputs": []
    },
    {
      "cell_type": "code",
      "source": [
        "mse = ((Y_fuz - Y_fuz_hat) ** 2).sum(axis=1).sum() / 658\n",
        "print(mse)"
      ],
      "metadata": {
        "colab": {
          "base_uri": "https://localhost:8080/"
        },
        "id": "wvstVeotGiEz",
        "outputId": "b93fa00d-df41-474e-e460-9b02f72ba95a"
      },
      "execution_count": null,
      "outputs": [
        {
          "output_type": "stream",
          "name": "stdout",
          "text": [
            "2.186593763582979\n"
          ]
        }
      ]
    },
    {
      "cell_type": "code",
      "source": [
        "t_rv = t(df=658)"
      ],
      "metadata": {
        "id": "T1WkaVGXHF16"
      },
      "execution_count": null,
      "outputs": []
    },
    {
      "cell_type": "code",
      "source": [
        "se_0 = np.sqrt(cov_mat[0][0] * mse)\n",
        "se_0"
      ],
      "metadata": {
        "colab": {
          "base_uri": "https://localhost:8080/"
        },
        "outputId": "c8f37ec1-5bf1-4a4f-bcdc-0d92b8672c16",
        "id": "q3D5PurUHF16"
      },
      "execution_count": null,
      "outputs": [
        {
          "output_type": "execute_result",
          "data": {
            "text/plain": [
              "0.09637610567258213"
            ]
          },
          "metadata": {},
          "execution_count": 220
        }
      ]
    },
    {
      "cell_type": "code",
      "source": [
        "t_0 = 0.5225 / se_0 # 상수의 t_value\n",
        "t_0"
      ],
      "metadata": {
        "colab": {
          "base_uri": "https://localhost:8080/"
        },
        "outputId": "d78ba128-d826-48d4-b6ff-6dbcf372d5ad",
        "id": "c8hYSj6FHF16"
      },
      "execution_count": null,
      "outputs": [
        {
          "output_type": "execute_result",
          "data": {
            "text/plain": [
              "5.42146828151664"
            ]
          },
          "metadata": {},
          "execution_count": 221
        }
      ]
    },
    {
      "cell_type": "code",
      "source": [
        "p_0 = (1 - t_rv.cdf(t_0)) * 2 # p_value\n",
        "p_0"
      ],
      "metadata": {
        "colab": {
          "base_uri": "https://localhost:8080/"
        },
        "outputId": "c9b7e410-c9d8-4125-d135-5e290a515b84",
        "id": "4d9e5jj5HF16"
      },
      "execution_count": null,
      "outputs": [
        {
          "output_type": "execute_result",
          "data": {
            "text/plain": [
              "8.307564947074297e-08"
            ]
          },
          "metadata": {},
          "execution_count": 222
        }
      ]
    },
    {
      "cell_type": "code",
      "source": [
        "se_1 = np.sqrt(cov_mat[1][1] * mse)\n",
        "se_1"
      ],
      "metadata": {
        "colab": {
          "base_uri": "https://localhost:8080/"
        },
        "outputId": "c4529a3d-7348-4d2d-ed9b-3369e390eefb",
        "id": "ix4wHUK1HF16"
      },
      "execution_count": null,
      "outputs": [
        {
          "output_type": "execute_result",
          "data": {
            "text/plain": [
              "0.0675783346905535"
            ]
          },
          "metadata": {},
          "execution_count": 223
        }
      ]
    },
    {
      "cell_type": "code",
      "source": [
        "t_1 = -0.0626 / se_1 # t통계량값\n",
        "t_1"
      ],
      "metadata": {
        "colab": {
          "base_uri": "https://localhost:8080/"
        },
        "outputId": "8f6261ea-ea36-4d18-e6d0-9e0fe6f654e2",
        "id": "XW9X1SkhHF17"
      },
      "execution_count": null,
      "outputs": [
        {
          "output_type": "execute_result",
          "data": {
            "text/plain": [
              "-0.9263323857660939"
            ]
          },
          "metadata": {},
          "execution_count": 224
        }
      ]
    },
    {
      "cell_type": "code",
      "source": [
        "p_1 = (t_rv.cdf(t_1)) * 2 # p_value\n",
        "p_1"
      ],
      "metadata": {
        "colab": {
          "base_uri": "https://localhost:8080/"
        },
        "outputId": "cc7d2517-d509-40ce-ef29-21e7ab2de4c1",
        "id": "AUPCI056HF17"
      },
      "execution_count": null,
      "outputs": [
        {
          "output_type": "execute_result",
          "data": {
            "text/plain": [
              "0.35461289544800334"
            ]
          },
          "metadata": {},
          "execution_count": 225
        }
      ]
    },
    {
      "cell_type": "code",
      "source": [
        "se_2 = np.sqrt(cov_mat[2][2] * mse)\n",
        "se_2"
      ],
      "metadata": {
        "colab": {
          "base_uri": "https://localhost:8080/"
        },
        "outputId": "e0acba3d-9677-48ce-a26e-a5523169b081",
        "id": "VaIS_JaSHa_2"
      },
      "execution_count": null,
      "outputs": [
        {
          "output_type": "execute_result",
          "data": {
            "text/plain": [
              "0.029943999699572725"
            ]
          },
          "metadata": {},
          "execution_count": 226
        }
      ]
    },
    {
      "cell_type": "code",
      "source": [
        "t_2 = 0.7397 / se_2 # t통계량값\n",
        "t_2"
      ],
      "metadata": {
        "colab": {
          "base_uri": "https://localhost:8080/"
        },
        "outputId": "92916072-e3e1-4ca1-b08c-92831b48d5bc",
        "id": "oM5nmyaIHa_3"
      },
      "execution_count": null,
      "outputs": [
        {
          "output_type": "execute_result",
          "data": {
            "text/plain": [
              "24.70277876774608"
            ]
          },
          "metadata": {},
          "execution_count": 227
        }
      ]
    },
    {
      "cell_type": "code",
      "source": [
        "p_2 = (1- t_rv.cdf(t_2)) * 2 # p_value\n",
        "p_2"
      ],
      "metadata": {
        "colab": {
          "base_uri": "https://localhost:8080/"
        },
        "outputId": "cafbc771-62bf-4a4c-d23d-ac5bc8c50463",
        "id": "HeVghIoKHa_3"
      },
      "execution_count": null,
      "outputs": [
        {
          "output_type": "execute_result",
          "data": {
            "text/plain": [
              "0.0"
            ]
          },
          "metadata": {},
          "execution_count": 228
        }
      ]
    },
    {
      "cell_type": "code",
      "source": [
        "print(p_0)\n",
        "print(p_1)\n",
        "print(p_2)"
      ],
      "metadata": {
        "colab": {
          "base_uri": "https://localhost:8080/"
        },
        "id": "OBMYwZATHb1q",
        "outputId": "a5593bd1-84cc-4c44-84e7-9d3f1252ca85"
      },
      "execution_count": null,
      "outputs": [
        {
          "output_type": "stream",
          "name": "stdout",
          "text": [
            "8.307564947074297e-08\n",
            "0.35461289544800334\n",
            "0.0\n"
          ]
        }
      ]
    },
    {
      "cell_type": "markdown",
      "source": [
        "## * 𝑀=2.2640+1.1823𝑋+0.1154𝑊+0.2934𝑍-0.2016𝑋𝑊-1.2697𝑋𝑍-0.0404𝑊𝑍+0.2303𝑋𝑊𝑍 (crisp)\n",
        "## * 𝑌=0.9320-0.0518𝑋+0.5861𝑀 (crisp)\n",
        "\n",
        "  \n",
        "## * 𝑀=2.2933+1.1125𝑋+0.1096𝑊+0.2909𝑍-0.1887𝑋𝑊-1.2090𝑋𝑍-0.0416𝑊𝑍+0.2207𝑋𝑊𝑍 (fuzzy)\n",
        "## * 𝑌=0.5225-0.0626𝑋+0.7397𝑀 (fuzzy)"
      ],
      "metadata": {
        "id": "vBKzghtUgpjk"
      }
    },
    {
      "cell_type": "markdown",
      "source": [
        "----"
      ],
      "metadata": {
        "id": "69Jn1-KmvzIv"
      }
    },
    {
      "cell_type": "markdown",
      "source": [
        "# 5) model 11 (solar data)"
      ],
      "metadata": {
        "id": "4zTfpqwidHmp"
      }
    },
    {
      "cell_type": "markdown",
      "source": [
        "![image.png](data:image/png;base64,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)"
      ],
      "metadata": {
        "id": "4WbYFy8xgY-G"
      }
    },
    {
      "cell_type": "markdown",
      "source": [
        " X : temp(기온)  \n",
        "M : humidity(습도)  \n",
        "Y : day_power(태양광 발전량)  \n",
        "W : sky_cover(운량)  \n",
        "Z : wind(풍속)  \n",
        "\n"
      ],
      "metadata": {
        "id": "FPC-sb1GdOtB"
      }
    },
    {
      "cell_type": "markdown",
      "source": [
        "## * 퍼지화 \n",
        "- X, M, Z : 일평균 데이터이므로 spread를 (다음날 - 현재) / 2 로 사용하여 삼각퍼지숫자 생성  \n",
        "(마지막 data는 직전 spread 사용)  \n",
        "- Y : crisp data\n",
        "- W : 1~8 척도를 가지고 측정했으므로 설문조사와 같은 이유지만 조금 더 fuzzy하다고 생각하여 1 spread 사용하여 삼각퍼지숫자 생성"
      ],
      "metadata": {
        "id": "TR6Wy3HtMYF1"
      }
    },
    {
      "cell_type": "code",
      "source": [
        "data_18 = pd.read_csv('/content/Drive/MyDrive/논문/model_18.csv')\n",
        "data_18.head()"
      ],
      "metadata": {
        "colab": {
          "base_uri": "https://localhost:8080/",
          "height": 206
        },
        "outputId": "32438114-575b-4081-ec2b-e7a9b58e7831",
        "id": "cFVmolpBfKWC"
      },
      "execution_count": null,
      "outputs": [
        {
          "output_type": "execute_result",
          "data": {
            "text/plain": [
              "       temp      wind  humidity  barometer  day_power  sky_cover\n",
              "0  0.312052  0.234784  0.778769   0.638520   0.058824          2\n",
              "1  0.369939  0.412924  0.725910   0.424439   0.058824          3\n",
              "2  0.352761  0.572187  0.709644   0.296313   0.058824          5\n",
              "3  0.348520  0.334605  0.751113   0.118489   0.029412          3\n",
              "4  0.348466  0.313384  0.735478   0.160241   0.029412          6"
            ],
            "text/html": [
              "\n",
              "  <div id=\"df-46abf0bb-d1ea-4186-a9b9-86c6cdc9aafc\">\n",
              "    <div class=\"colab-df-container\">\n",
              "      <div>\n",
              "<style scoped>\n",
              "    .dataframe tbody tr th:only-of-type {\n",
              "        vertical-align: middle;\n",
              "    }\n",
              "\n",
              "    .dataframe tbody tr th {\n",
              "        vertical-align: top;\n",
              "    }\n",
              "\n",
              "    .dataframe thead th {\n",
              "        text-align: right;\n",
              "    }\n",
              "</style>\n",
              "<table border=\"1\" class=\"dataframe\">\n",
              "  <thead>\n",
              "    <tr style=\"text-align: right;\">\n",
              "      <th></th>\n",
              "      <th>temp</th>\n",
              "      <th>wind</th>\n",
              "      <th>humidity</th>\n",
              "      <th>barometer</th>\n",
              "      <th>day_power</th>\n",
              "      <th>sky_cover</th>\n",
              "    </tr>\n",
              "  </thead>\n",
              "  <tbody>\n",
              "    <tr>\n",
              "      <th>0</th>\n",
              "      <td>0.312052</td>\n",
              "      <td>0.234784</td>\n",
              "      <td>0.778769</td>\n",
              "      <td>0.638520</td>\n",
              "      <td>0.058824</td>\n",
              "      <td>2</td>\n",
              "    </tr>\n",
              "    <tr>\n",
              "      <th>1</th>\n",
              "      <td>0.369939</td>\n",
              "      <td>0.412924</td>\n",
              "      <td>0.725910</td>\n",
              "      <td>0.424439</td>\n",
              "      <td>0.058824</td>\n",
              "      <td>3</td>\n",
              "    </tr>\n",
              "    <tr>\n",
              "      <th>2</th>\n",
              "      <td>0.352761</td>\n",
              "      <td>0.572187</td>\n",
              "      <td>0.709644</td>\n",
              "      <td>0.296313</td>\n",
              "      <td>0.058824</td>\n",
              "      <td>5</td>\n",
              "    </tr>\n",
              "    <tr>\n",
              "      <th>3</th>\n",
              "      <td>0.348520</td>\n",
              "      <td>0.334605</td>\n",
              "      <td>0.751113</td>\n",
              "      <td>0.118489</td>\n",
              "      <td>0.029412</td>\n",
              "      <td>3</td>\n",
              "    </tr>\n",
              "    <tr>\n",
              "      <th>4</th>\n",
              "      <td>0.348466</td>\n",
              "      <td>0.313384</td>\n",
              "      <td>0.735478</td>\n",
              "      <td>0.160241</td>\n",
              "      <td>0.029412</td>\n",
              "      <td>6</td>\n",
              "    </tr>\n",
              "  </tbody>\n",
              "</table>\n",
              "</div>\n",
              "      <button class=\"colab-df-convert\" onclick=\"convertToInteractive('df-46abf0bb-d1ea-4186-a9b9-86c6cdc9aafc')\"\n",
              "              title=\"Convert this dataframe to an interactive table.\"\n",
              "              style=\"display:none;\">\n",
              "        \n",
              "  <svg xmlns=\"http://www.w3.org/2000/svg\" height=\"24px\"viewBox=\"0 0 24 24\"\n",
              "       width=\"24px\">\n",
              "    <path d=\"M0 0h24v24H0V0z\" fill=\"none\"/>\n",
              "    <path d=\"M18.56 5.44l.94 2.06.94-2.06 2.06-.94-2.06-.94-.94-2.06-.94 2.06-2.06.94zm-11 1L8.5 8.5l.94-2.06 2.06-.94-2.06-.94L8.5 2.5l-.94 2.06-2.06.94zm10 10l.94 2.06.94-2.06 2.06-.94-2.06-.94-.94-2.06-.94 2.06-2.06.94z\"/><path d=\"M17.41 7.96l-1.37-1.37c-.4-.4-.92-.59-1.43-.59-.52 0-1.04.2-1.43.59L10.3 9.45l-7.72 7.72c-.78.78-.78 2.05 0 2.83L4 21.41c.39.39.9.59 1.41.59.51 0 1.02-.2 1.41-.59l7.78-7.78 2.81-2.81c.8-.78.8-2.07 0-2.86zM5.41 20L4 18.59l7.72-7.72 1.47 1.35L5.41 20z\"/>\n",
              "  </svg>\n",
              "      </button>\n",
              "      \n",
              "  <style>\n",
              "    .colab-df-container {\n",
              "      display:flex;\n",
              "      flex-wrap:wrap;\n",
              "      gap: 12px;\n",
              "    }\n",
              "\n",
              "    .colab-df-convert {\n",
              "      background-color: #E8F0FE;\n",
              "      border: none;\n",
              "      border-radius: 50%;\n",
              "      cursor: pointer;\n",
              "      display: none;\n",
              "      fill: #1967D2;\n",
              "      height: 32px;\n",
              "      padding: 0 0 0 0;\n",
              "      width: 32px;\n",
              "    }\n",
              "\n",
              "    .colab-df-convert:hover {\n",
              "      background-color: #E2EBFA;\n",
              "      box-shadow: 0px 1px 2px rgba(60, 64, 67, 0.3), 0px 1px 3px 1px rgba(60, 64, 67, 0.15);\n",
              "      fill: #174EA6;\n",
              "    }\n",
              "\n",
              "    [theme=dark] .colab-df-convert {\n",
              "      background-color: #3B4455;\n",
              "      fill: #D2E3FC;\n",
              "    }\n",
              "\n",
              "    [theme=dark] .colab-df-convert:hover {\n",
              "      background-color: #434B5C;\n",
              "      box-shadow: 0px 1px 3px 1px rgba(0, 0, 0, 0.15);\n",
              "      filter: drop-shadow(0px 1px 2px rgba(0, 0, 0, 0.3));\n",
              "      fill: #FFFFFF;\n",
              "    }\n",
              "  </style>\n",
              "\n",
              "      <script>\n",
              "        const buttonEl =\n",
              "          document.querySelector('#df-46abf0bb-d1ea-4186-a9b9-86c6cdc9aafc button.colab-df-convert');\n",
              "        buttonEl.style.display =\n",
              "          google.colab.kernel.accessAllowed ? 'block' : 'none';\n",
              "\n",
              "        async function convertToInteractive(key) {\n",
              "          const element = document.querySelector('#df-46abf0bb-d1ea-4186-a9b9-86c6cdc9aafc');\n",
              "          const dataTable =\n",
              "            await google.colab.kernel.invokeFunction('convertToInteractive',\n",
              "                                                     [key], {});\n",
              "          if (!dataTable) return;\n",
              "\n",
              "          const docLinkHtml = 'Like what you see? Visit the ' +\n",
              "            '<a target=\"_blank\" href=https://colab.research.google.com/notebooks/data_table.ipynb>data table notebook</a>'\n",
              "            + ' to learn more about interactive tables.';\n",
              "          element.innerHTML = '';\n",
              "          dataTable['output_type'] = 'display_data';\n",
              "          await google.colab.output.renderOutput(dataTable, element);\n",
              "          const docLink = document.createElement('div');\n",
              "          docLink.innerHTML = docLinkHtml;\n",
              "          element.appendChild(docLink);\n",
              "        }\n",
              "      </script>\n",
              "    </div>\n",
              "  </div>\n",
              "  "
            ]
          },
          "metadata": {},
          "execution_count": 165
        }
      ]
    },
    {
      "cell_type": "code",
      "source": [
        "len(data_18)"
      ],
      "metadata": {
        "colab": {
          "base_uri": "https://localhost:8080/"
        },
        "id": "qCamSb3tt9bP",
        "outputId": "eaf3dccf-22e5-43a9-8a99-5ce9731bc741"
      },
      "execution_count": null,
      "outputs": [
        {
          "output_type": "execute_result",
          "data": {
            "text/plain": [
              "1332"
            ]
          },
          "metadata": {},
          "execution_count": 166
        }
      ]
    },
    {
      "cell_type": "markdown",
      "source": [
        "* temp, wind, humidity 퍼지화"
      ],
      "metadata": {
        "id": "zNmI7CPGsfAA"
      }
    },
    {
      "cell_type": "code",
      "source": [
        "data = data_18['temp']\n",
        "X_fuz = []\n",
        "for i in range(len(data)-1):\n",
        "  spread = np.abs(data[i] - data[i+1]) / 2\n",
        "  X_fuz.append([data[i] - spread, data[i], data[i] + spread])\n",
        "X_fuz.append([data[len(data)-1] - spread, data[len(data)-1], data[len(data)-1] + spread])"
      ],
      "metadata": {
        "id": "iTapAyS1sfAB"
      },
      "execution_count": null,
      "outputs": []
    },
    {
      "cell_type": "code",
      "source": [
        "X_fuz = np.array(X_fuz)\n",
        "X_fuz"
      ],
      "metadata": {
        "colab": {
          "base_uri": "https://localhost:8080/"
        },
        "outputId": "e22e7f7d-81e2-4760-b1ba-9b409b214d23",
        "id": "3hwsApoisfAB"
      },
      "execution_count": null,
      "outputs": [
        {
          "output_type": "execute_result",
          "data": {
            "text/plain": [
              "array([[0.28310838, 0.31205181, 0.34099523],\n",
              "       [0.36134969, 0.36993865, 0.37852761],\n",
              "       [0.35064017, 0.35276074, 0.3548813 ],\n",
              "       ...,\n",
              "       [0.22226483, 0.25710634, 0.29194785],\n",
              "       [0.30696575, 0.32678937, 0.34661299],\n",
              "       [0.26731851, 0.28714213, 0.30696575]])"
            ]
          },
          "metadata": {},
          "execution_count": 168
        }
      ]
    },
    {
      "cell_type": "code",
      "source": [
        "data = data_18['wind']\n",
        "Z_fuz = []\n",
        "for i in range(len(data)-1):\n",
        "  spread = np.abs(data[i] - data[i+1]) / 2\n",
        "  Z_fuz.append([data[i] - spread, data[i], data[i] + spread])\n",
        "Z_fuz.append([data[len(data)-1] - spread, data[len(data)-1], data[len(data)-1] + spread])"
      ],
      "metadata": {
        "id": "bpEcx_BlsfAB"
      },
      "execution_count": null,
      "outputs": []
    },
    {
      "cell_type": "code",
      "source": [
        "Z_fuz = np.array(Z_fuz)\n",
        "Z_fuz"
      ],
      "metadata": {
        "colab": {
          "base_uri": "https://localhost:8080/"
        },
        "outputId": "8940e98d-2538-4395-fe10-da9159747817",
        "id": "MeztBqoVsfAB"
      },
      "execution_count": null,
      "outputs": [
        {
          "output_type": "execute_result",
          "data": {
            "text/plain": [
              "array([[0.14571496, 0.23478449, 0.32385403],\n",
              "       [0.33329186, 0.41292356, 0.49255527],\n",
              "       [0.4533958 , 0.57218697, 0.69097814],\n",
              "       ...,\n",
              "       [0.00877193, 0.10331384, 0.19785575],\n",
              "       [0.26250812, 0.29239766, 0.3222872 ],\n",
              "       [0.20272904, 0.23261858, 0.26250812]])"
            ]
          },
          "metadata": {},
          "execution_count": 170
        }
      ]
    },
    {
      "cell_type": "code",
      "source": [
        "data = data_18['humidity']\n",
        "M_fuz = []\n",
        "for i in range(len(data)-1):\n",
        "  spread = np.abs(data[i] - data[i+1]) / 2\n",
        "  M_fuz.append([data[i] - spread, data[i], data[i] + spread])\n",
        "M_fuz.append([data[len(data)-1] - spread, data[len(data)-1], data[len(data)-1] + spread])"
      ],
      "metadata": {
        "id": "sGZsZpIzsfAB"
      },
      "execution_count": null,
      "outputs": []
    },
    {
      "cell_type": "code",
      "source": [
        "M_fuz = np.array(M_fuz)\n",
        "M_fuz"
      ],
      "metadata": {
        "colab": {
          "base_uri": "https://localhost:8080/"
        },
        "outputId": "d18c5381-e13c-41f4-e0d4-5c5a644dc0d9",
        "id": "eJX4I_F1sfAB"
      },
      "execution_count": null,
      "outputs": [
        {
          "output_type": "execute_result",
          "data": {
            "text/plain": [
              "array([[0.75233957, 0.77876915, 0.80519874],\n",
              "       [0.71777698, 0.72590998, 0.73404298],\n",
              "       [0.68890934, 0.70964398, 0.73037862],\n",
              "       ...,\n",
              "       [0.78451541, 0.80918683, 0.83385826],\n",
              "       [0.72049462, 0.75984399, 0.79919335],\n",
              "       [0.6417959 , 0.68114526, 0.72049462]])"
            ]
          },
          "metadata": {},
          "execution_count": 172
        }
      ]
    },
    {
      "cell_type": "markdown",
      "source": [
        "* sky cover 퍼지화"
      ],
      "metadata": {
        "id": "vod90ulJsfAC"
      }
    },
    {
      "cell_type": "code",
      "source": [
        "W_fuz = np.array([data_18['sky_cover'] - 1, data_18['sky_cover'], data_18['sky_cover'] + 1]).T\n",
        "W_fuz"
      ],
      "metadata": {
        "colab": {
          "base_uri": "https://localhost:8080/"
        },
        "outputId": "c70e4444-6516-4934-c7ef-665ae633fbf1",
        "id": "tijNJ-jjsfAC"
      },
      "execution_count": null,
      "outputs": [
        {
          "output_type": "execute_result",
          "data": {
            "text/plain": [
              "array([[1, 2, 3],\n",
              "       [2, 3, 4],\n",
              "       [4, 5, 6],\n",
              "       ...,\n",
              "       [1, 2, 3],\n",
              "       [6, 7, 8],\n",
              "       [3, 4, 5]])"
            ]
          },
          "metadata": {},
          "execution_count": 173
        }
      ]
    },
    {
      "cell_type": "code",
      "source": [
        "row, col = W_fuz.shape"
      ],
      "metadata": {
        "id": "dlWwla0hsfAC"
      },
      "execution_count": null,
      "outputs": []
    },
    {
      "cell_type": "code",
      "source": [
        "for i in range(row):    # 1~8 이므로 1보다 작거나 8보다 큰 부분 수정\n",
        "  if W_fuz[i][0] < 1:\n",
        "    W_fuz[i][0] = 1\n",
        "  elif W_fuz[i][2] >8:\n",
        "    W_fuz[i][2] = 8"
      ],
      "metadata": {
        "id": "gvmur4fJsfAC"
      },
      "execution_count": null,
      "outputs": []
    },
    {
      "cell_type": "markdown",
      "source": [
        "* day_power crisp"
      ],
      "metadata": {
        "id": "b8YLYxB7sfAC"
      }
    },
    {
      "cell_type": "code",
      "source": [
        "Y_fuz = np.array([data_18['day_power'], data_18['day_power'], data_18['day_power']]).T\n",
        "Y_fuz"
      ],
      "metadata": {
        "colab": {
          "base_uri": "https://localhost:8080/"
        },
        "outputId": "d77d32d9-463b-45ee-e811-7ba14d902fab",
        "id": "Czdc4WThsfAC"
      },
      "execution_count": null,
      "outputs": [
        {
          "output_type": "execute_result",
          "data": {
            "text/plain": [
              "array([[0.05882353, 0.05882353, 0.05882353],\n",
              "       [0.05882353, 0.05882353, 0.05882353],\n",
              "       [0.05882353, 0.05882353, 0.05882353],\n",
              "       ...,\n",
              "       [0.08823529, 0.08823529, 0.08823529],\n",
              "       [0.        , 0.        , 0.        ],\n",
              "       [0.17647059, 0.17647059, 0.17647059]])"
            ]
          },
          "metadata": {},
          "execution_count": 176
        }
      ]
    },
    {
      "cell_type": "code",
      "source": [
        "Y_fuz.shape"
      ],
      "metadata": {
        "colab": {
          "base_uri": "https://localhost:8080/"
        },
        "outputId": "5ecbc4eb-228b-4161-e560-ade4193f799f",
        "id": "C3u9ElWcsfAC"
      },
      "execution_count": null,
      "outputs": [
        {
          "output_type": "execute_result",
          "data": {
            "text/plain": [
              "(1332, 3)"
            ]
          },
          "metadata": {},
          "execution_count": 177
        }
      ]
    },
    {
      "cell_type": "code",
      "source": [
        "one = np.ones((1332,3))"
      ],
      "metadata": {
        "id": "r9U7Hx6HsfAC"
      },
      "execution_count": null,
      "outputs": []
    },
    {
      "cell_type": "code",
      "source": [
        "XW_fuz = X_fuz * W_fuz\n",
        "XZ_fuz = X_fuz * Z_fuz\n",
        "WZ_fuz = W_fuz * Z_fuz\n",
        "XWZ_fuz = X_fuz * W_fuz * Z_fuz"
      ],
      "metadata": {
        "id": "tW6i_Y9VsfAD"
      },
      "execution_count": null,
      "outputs": []
    },
    {
      "cell_type": "markdown",
      "source": [
        "* M(humidity)"
      ],
      "metadata": {
        "id": "VNAHby85fKWG"
      }
    },
    {
      "cell_type": "code",
      "source": [
        "X_mat = np.array([one, X_fuz, W_fuz, Z_fuz, XW_fuz, XZ_fuz, WZ_fuz, XWZ_fuz])\n",
        "X_mat.shape"
      ],
      "metadata": {
        "colab": {
          "base_uri": "https://localhost:8080/"
        },
        "outputId": "05b86a27-5b50-4105-da34-93b5784162fc",
        "id": "ZoXh2l5nfKWG"
      },
      "execution_count": null,
      "outputs": [
        {
          "output_type": "execute_result",
          "data": {
            "text/plain": [
              "(8, 1332, 3)"
            ]
          },
          "metadata": {},
          "execution_count": 19
        }
      ]
    },
    {
      "cell_type": "code",
      "source": [
        "col, row, tri = X_mat.shape\n",
        "print(col, row, tri)"
      ],
      "metadata": {
        "colab": {
          "base_uri": "https://localhost:8080/"
        },
        "outputId": "6bcd2572-2f52-4ef6-e4df-e746a6c9d98f",
        "id": "CcRm37mofKWG"
      },
      "execution_count": null,
      "outputs": [
        {
          "output_type": "stream",
          "name": "stdout",
          "text": [
            "8 1332 3\n"
          ]
        }
      ]
    },
    {
      "cell_type": "code",
      "source": [
        "XX = np.zeros((col,col))\n",
        "for i in range(col):\n",
        "  for j in range(col):\n",
        "    sum = 0\n",
        "    for k in range(row):\n",
        "      sum = sum + np.dot(X_mat[i][k], X_mat[j][k])\n",
        "    XX[i][j] = sum"
      ],
      "metadata": {
        "id": "oMwMel9PfKWG"
      },
      "execution_count": null,
      "outputs": []
    },
    {
      "cell_type": "code",
      "source": [
        "XY = np.zeros((col, 1))\n",
        "for i in range(col):\n",
        "  sum = 0\n",
        "  for k in range(row):\n",
        "    sum = sum + np.dot(X_mat[i][k], M_fuz[k])\n",
        "  XY[i] = sum"
      ],
      "metadata": {
        "id": "qQ-6wq7XfKWG"
      },
      "execution_count": null,
      "outputs": []
    },
    {
      "cell_type": "code",
      "source": [
        "XX_inv = np.linalg.inv(XX)"
      ],
      "metadata": {
        "id": "vlU73uGpfKWH"
      },
      "execution_count": null,
      "outputs": []
    },
    {
      "cell_type": "code",
      "source": [
        "beta_M = XX_inv @ XY\n",
        "for i in range(len(beta_M)):\n",
        "  print(beta_M[i])"
      ],
      "metadata": {
        "colab": {
          "base_uri": "https://localhost:8080/"
        },
        "outputId": "8b6c1bdf-47d2-4318-8288-4fc07fee996f",
        "id": "aFj6LpYLfKWH"
      },
      "execution_count": null,
      "outputs": [
        {
          "output_type": "stream",
          "name": "stdout",
          "text": [
            "[0.85028401]\n",
            "[-0.8038117]\n",
            "[0.01162063]\n",
            "[-0.73260316]\n",
            "[0.05662157]\n",
            "[1.63422923]\n",
            "[0.09740813]\n",
            "[-0.22804054]\n"
          ]
        }
      ]
    },
    {
      "cell_type": "code",
      "source": [
        "cov_mat = XX_inv"
      ],
      "metadata": {
        "id": "IZrL4v_efKWH"
      },
      "execution_count": null,
      "outputs": []
    },
    {
      "cell_type": "code",
      "source": [
        "cov_mat.shape"
      ],
      "metadata": {
        "colab": {
          "base_uri": "https://localhost:8080/"
        },
        "outputId": "5055321c-2c73-4eca-f1dd-59b2528bef9b",
        "id": "U8gR6gGkfKWH"
      },
      "execution_count": null,
      "outputs": [
        {
          "output_type": "execute_result",
          "data": {
            "text/plain": [
              "(8, 8)"
            ]
          },
          "metadata": {},
          "execution_count": 26
        }
      ]
    },
    {
      "cell_type": "code",
      "source": [
        "M_fuz_hat = 0.8503-0.8038*X_fuz+0.0116*W_fuz-0.7326*Z_fuz+0.0566*X_fuz*W_fuz+1.6342*X_fuz*Z_fuz+0.09741*W_fuz*Z_fuz-0.2280*X_fuz*W_fuz*Z_fuz"
      ],
      "metadata": {
        "id": "dc60XZgofKWH"
      },
      "execution_count": null,
      "outputs": []
    },
    {
      "cell_type": "code",
      "source": [
        "mse = ((M_fuz - M_fuz_hat) ** 2).sum(axis=1).sum() / 1324\n",
        "print(mse)"
      ],
      "metadata": {
        "colab": {
          "base_uri": "https://localhost:8080/"
        },
        "outputId": "9755da14-76c7-4ec9-b69d-bd8b48228154",
        "id": "QsoeU0KqfKWH"
      },
      "execution_count": null,
      "outputs": [
        {
          "output_type": "stream",
          "name": "stdout",
          "text": [
            "0.056207242753734676\n"
          ]
        }
      ]
    },
    {
      "cell_type": "code",
      "source": [
        "M_fuz"
      ],
      "metadata": {
        "colab": {
          "base_uri": "https://localhost:8080/"
        },
        "outputId": "99920b65-c109-4489-fae7-bc677f3b1f19",
        "id": "1oZtgUGhfKWI"
      },
      "execution_count": null,
      "outputs": [
        {
          "output_type": "execute_result",
          "data": {
            "text/plain": [
              "array([[0.75233957, 0.77876915, 0.80519874],\n",
              "       [0.71777698, 0.72590998, 0.73404298],\n",
              "       [0.68890934, 0.70964398, 0.73037862],\n",
              "       ...,\n",
              "       [0.78451541, 0.80918683, 0.83385826],\n",
              "       [0.72049462, 0.75984399, 0.79919335],\n",
              "       [0.6417959 , 0.68114526, 0.72049462]])"
            ]
          },
          "metadata": {},
          "execution_count": 29
        }
      ]
    },
    {
      "cell_type": "code",
      "source": [
        "t_rv = t(df=1324)"
      ],
      "metadata": {
        "id": "prapi67xfKWI"
      },
      "execution_count": null,
      "outputs": []
    },
    {
      "cell_type": "code",
      "source": [
        "se_0 = np.sqrt(cov_mat[0][0] * mse)\n",
        "se_0"
      ],
      "metadata": {
        "colab": {
          "base_uri": "https://localhost:8080/"
        },
        "outputId": "7fdecfa6-5123-417c-ce03-50c7bd86bf81",
        "id": "JcU5rAj1fKWI"
      },
      "execution_count": null,
      "outputs": [
        {
          "output_type": "execute_result",
          "data": {
            "text/plain": [
              "0.04509230426291154"
            ]
          },
          "metadata": {},
          "execution_count": 31
        }
      ]
    },
    {
      "cell_type": "code",
      "source": [
        "t_0 = 0.8503 / se_0 # 상수의 t_value\n",
        "t_0"
      ],
      "metadata": {
        "colab": {
          "base_uri": "https://localhost:8080/"
        },
        "outputId": "4b6212ea-c994-4774-acda-3523ca56dfdb",
        "id": "spQ1kN9DfKWI"
      },
      "execution_count": null,
      "outputs": [
        {
          "output_type": "execute_result",
          "data": {
            "text/plain": [
              "18.856876220880388"
            ]
          },
          "metadata": {},
          "execution_count": 32
        }
      ]
    },
    {
      "cell_type": "code",
      "source": [
        "p_0 = (1 - t_rv.cdf(t_0)) * 2 # p_value\n",
        "p_0"
      ],
      "metadata": {
        "colab": {
          "base_uri": "https://localhost:8080/"
        },
        "outputId": "740c3694-0b91-4e80-ac97-1176e700da55",
        "id": "d-CsdAngfKWI"
      },
      "execution_count": null,
      "outputs": [
        {
          "output_type": "execute_result",
          "data": {
            "text/plain": [
              "0.0"
            ]
          },
          "metadata": {},
          "execution_count": 33
        }
      ]
    },
    {
      "cell_type": "code",
      "source": [
        "se_1 = np.sqrt(cov_mat[1][1] * mse)\n",
        "se_1"
      ],
      "metadata": {
        "colab": {
          "base_uri": "https://localhost:8080/"
        },
        "outputId": "404546ff-ca4b-4784-88c7-5df17436d529",
        "id": "nMPRsEWgfKWJ"
      },
      "execution_count": null,
      "outputs": [
        {
          "output_type": "execute_result",
          "data": {
            "text/plain": [
              "0.09582138120297234"
            ]
          },
          "metadata": {},
          "execution_count": 34
        }
      ]
    },
    {
      "cell_type": "code",
      "source": [
        "t_1 = -0.8038 / se_1 # t통계량값\n",
        "t_1"
      ],
      "metadata": {
        "colab": {
          "base_uri": "https://localhost:8080/"
        },
        "outputId": "1b47b70a-aae8-488d-e75a-6ba800a9c3d9",
        "id": "O7_dHtcJfKWK"
      },
      "execution_count": null,
      "outputs": [
        {
          "output_type": "execute_result",
          "data": {
            "text/plain": [
              "-8.388524459873539"
            ]
          },
          "metadata": {},
          "execution_count": 35
        }
      ]
    },
    {
      "cell_type": "code",
      "source": [
        "p_1 = (t_rv.cdf(t_1)) * 2 # p_value\n",
        "p_1"
      ],
      "metadata": {
        "colab": {
          "base_uri": "https://localhost:8080/"
        },
        "outputId": "2e55ba28-4da0-4c2f-c09d-626044ebc8d0",
        "id": "dxtEnM_AfKWK"
      },
      "execution_count": null,
      "outputs": [
        {
          "output_type": "execute_result",
          "data": {
            "text/plain": [
              "1.2462263457578828e-16"
            ]
          },
          "metadata": {},
          "execution_count": 36
        }
      ]
    },
    {
      "cell_type": "code",
      "source": [
        "se_2 = np.sqrt(cov_mat[2][2] * mse)\n",
        "se_2"
      ],
      "metadata": {
        "colab": {
          "base_uri": "https://localhost:8080/"
        },
        "outputId": "74c94a4f-1d04-4eed-c75e-e51c0eef9afc",
        "id": "kOxWaUgLfKWL"
      },
      "execution_count": null,
      "outputs": [
        {
          "output_type": "execute_result",
          "data": {
            "text/plain": [
              "0.011327851909148885"
            ]
          },
          "metadata": {},
          "execution_count": 37
        }
      ]
    },
    {
      "cell_type": "code",
      "source": [
        "t_2 = 0.0116 / se_2 # t통계량값\n",
        "t_2"
      ],
      "metadata": {
        "colab": {
          "base_uri": "https://localhost:8080/"
        },
        "outputId": "a08ac229-016a-4875-e377-1f33aef4969b",
        "id": "UeJf_wcsfKWL"
      },
      "execution_count": null,
      "outputs": [
        {
          "output_type": "execute_result",
          "data": {
            "text/plain": [
              "1.0240246865013583"
            ]
          },
          "metadata": {},
          "execution_count": 38
        }
      ]
    },
    {
      "cell_type": "code",
      "source": [
        "p_2 = (1- t_rv.cdf(t_2)) * 2 # p_value\n",
        "p_2"
      ],
      "metadata": {
        "colab": {
          "base_uri": "https://localhost:8080/"
        },
        "outputId": "5968dd71-ded3-4434-bc1f-4f05f964b75a",
        "id": "1IcGX0P1fKWL"
      },
      "execution_count": null,
      "outputs": [
        {
          "output_type": "execute_result",
          "data": {
            "text/plain": [
              "0.3060106726338665"
            ]
          },
          "metadata": {},
          "execution_count": 39
        }
      ]
    },
    {
      "cell_type": "code",
      "source": [
        "se_3 = np.sqrt(cov_mat[3][3] * mse)\n",
        "se_3"
      ],
      "metadata": {
        "colab": {
          "base_uri": "https://localhost:8080/"
        },
        "outputId": "2bb247c1-6d5b-4ca4-e2e7-d68888993130",
        "id": "bryBjljnfKWL"
      },
      "execution_count": null,
      "outputs": [
        {
          "output_type": "execute_result",
          "data": {
            "text/plain": [
              "0.1567591252318811"
            ]
          },
          "metadata": {},
          "execution_count": 40
        }
      ]
    },
    {
      "cell_type": "code",
      "source": [
        "t_3 = -0.7326 / se_3 # t통계량값\n",
        "t_3"
      ],
      "metadata": {
        "colab": {
          "base_uri": "https://localhost:8080/"
        },
        "outputId": "670eaeab-b7a2-44a5-d868-7bf6b4ff7b07",
        "id": "L5Uq7RkIfKWM"
      },
      "execution_count": null,
      "outputs": [
        {
          "output_type": "execute_result",
          "data": {
            "text/plain": [
              "-4.673412146924934"
            ]
          },
          "metadata": {},
          "execution_count": 41
        }
      ]
    },
    {
      "cell_type": "code",
      "source": [
        "p_3 = (t_rv.cdf(t_3)) * 2 # p_value\n",
        "p_3"
      ],
      "metadata": {
        "colab": {
          "base_uri": "https://localhost:8080/"
        },
        "outputId": "f3fb2a27-a675-4454-dc6e-a430777a4c2b",
        "id": "eTFaMttefKWM"
      },
      "execution_count": null,
      "outputs": [
        {
          "output_type": "execute_result",
          "data": {
            "text/plain": [
              "3.264557728231988e-06"
            ]
          },
          "metadata": {},
          "execution_count": 42
        }
      ]
    },
    {
      "cell_type": "code",
      "source": [
        "se_4 = np.sqrt(cov_mat[4][4] * mse)\n",
        "se_4"
      ],
      "metadata": {
        "colab": {
          "base_uri": "https://localhost:8080/"
        },
        "outputId": "c7503262-1386-4d68-a6d7-382373168b84",
        "id": "tQ1KDMtffKWM"
      },
      "execution_count": null,
      "outputs": [
        {
          "output_type": "execute_result",
          "data": {
            "text/plain": [
              "0.024223910805329617"
            ]
          },
          "metadata": {},
          "execution_count": 43
        }
      ]
    },
    {
      "cell_type": "code",
      "source": [
        "t_4 = 0.0566 / se_4 # t통계량값\n",
        "t_4"
      ],
      "metadata": {
        "colab": {
          "base_uri": "https://localhost:8080/"
        },
        "outputId": "8f018439-90a8-48d6-fd1f-fc9ac4d43ba3",
        "id": "cpXkWWcnfKWM"
      },
      "execution_count": null,
      "outputs": [
        {
          "output_type": "execute_result",
          "data": {
            "text/plain": [
              "2.3365343628802977"
            ]
          },
          "metadata": {},
          "execution_count": 44
        }
      ]
    },
    {
      "cell_type": "code",
      "source": [
        "p_4 = (1-t_rv.cdf(t_4)) * 2 # p_value\n",
        "p_4"
      ],
      "metadata": {
        "colab": {
          "base_uri": "https://localhost:8080/"
        },
        "outputId": "67320b36-0217-4c0c-9542-7461bdb77cae",
        "id": "acOLNEHOfKWN"
      },
      "execution_count": null,
      "outputs": [
        {
          "output_type": "execute_result",
          "data": {
            "text/plain": [
              "0.019611930518490972"
            ]
          },
          "metadata": {},
          "execution_count": 45
        }
      ]
    },
    {
      "cell_type": "code",
      "source": [
        "se_5 = np.sqrt(cov_mat[5][5] * mse)\n",
        "se_5"
      ],
      "metadata": {
        "colab": {
          "base_uri": "https://localhost:8080/"
        },
        "outputId": "c4ea2278-87a0-44fa-9c5c-2830322440cf",
        "id": "t5UflzJIfKWN"
      },
      "execution_count": null,
      "outputs": [
        {
          "output_type": "execute_result",
          "data": {
            "text/plain": [
              "0.349220260369788"
            ]
          },
          "metadata": {},
          "execution_count": 46
        }
      ]
    },
    {
      "cell_type": "code",
      "source": [
        "t_5 = 1.6342 / se_5 # t통계량값\n",
        "t_5"
      ],
      "metadata": {
        "colab": {
          "base_uri": "https://localhost:8080/"
        },
        "outputId": "f0193af8-63ec-406d-fa74-ac481b181a90",
        "id": "Cgw-lOMCfKWO"
      },
      "execution_count": null,
      "outputs": [
        {
          "output_type": "execute_result",
          "data": {
            "text/plain": [
              "4.679568127775726"
            ]
          },
          "metadata": {},
          "execution_count": 47
        }
      ]
    },
    {
      "cell_type": "code",
      "source": [
        "p_5 = (1-t_rv.cdf(t_5)) * 2 # p_value\n",
        "p_5"
      ],
      "metadata": {
        "colab": {
          "base_uri": "https://localhost:8080/"
        },
        "outputId": "f51c0a01-eb62-469e-ad8c-61c49cd70181",
        "id": "xwpqdSJrfKWO"
      },
      "execution_count": null,
      "outputs": [
        {
          "output_type": "execute_result",
          "data": {
            "text/plain": [
              "3.1696085356358594e-06"
            ]
          },
          "metadata": {},
          "execution_count": 48
        }
      ]
    },
    {
      "cell_type": "code",
      "source": [
        "se_6 = np.sqrt(cov_mat[6][6] * mse)\n",
        "se_6"
      ],
      "metadata": {
        "colab": {
          "base_uri": "https://localhost:8080/"
        },
        "outputId": "00839d54-7e28-463c-d3ec-60d18b007b83",
        "id": "ibhvookXfKWP"
      },
      "execution_count": null,
      "outputs": [
        {
          "output_type": "execute_result",
          "data": {
            "text/plain": [
              "0.036648112772175945"
            ]
          },
          "metadata": {},
          "execution_count": 49
        }
      ]
    },
    {
      "cell_type": "code",
      "source": [
        "t_6 = 0.0974 / se_6 # t통계량값\n",
        "t_6"
      ],
      "metadata": {
        "colab": {
          "base_uri": "https://localhost:8080/"
        },
        "outputId": "d964fd0d-fcb1-4b62-ac09-5e94e18add4d",
        "id": "7ww6GFl7fKWP"
      },
      "execution_count": null,
      "outputs": [
        {
          "output_type": "execute_result",
          "data": {
            "text/plain": [
              "2.657708477527613"
            ]
          },
          "metadata": {},
          "execution_count": 50
        }
      ]
    },
    {
      "cell_type": "code",
      "source": [
        "p_6 = (1-t_rv.cdf(t_6)) * 2 # p_value\n",
        "p_6"
      ],
      "metadata": {
        "colab": {
          "base_uri": "https://localhost:8080/"
        },
        "outputId": "32a34ad8-d31a-4a9f-b54d-e7758e207ab3",
        "id": "httKs-PufKWP"
      },
      "execution_count": null,
      "outputs": [
        {
          "output_type": "execute_result",
          "data": {
            "text/plain": [
              "0.007962091315448783"
            ]
          },
          "metadata": {},
          "execution_count": 51
        }
      ]
    },
    {
      "cell_type": "code",
      "source": [
        "se_7 = np.sqrt(cov_mat[7][7] * mse)\n",
        "se_7"
      ],
      "metadata": {
        "colab": {
          "base_uri": "https://localhost:8080/"
        },
        "outputId": "781505c6-c78b-49eb-be61-f6a57e101c96",
        "id": "a8pSCVcZfKWP"
      },
      "execution_count": null,
      "outputs": [
        {
          "output_type": "execute_result",
          "data": {
            "text/plain": [
              "0.0811563110043667"
            ]
          },
          "metadata": {},
          "execution_count": 52
        }
      ]
    },
    {
      "cell_type": "code",
      "source": [
        "t_7 = -0.2280 / se_7 # t통계량값\n",
        "t_7"
      ],
      "metadata": {
        "colab": {
          "base_uri": "https://localhost:8080/"
        },
        "outputId": "aed1f129-5ea8-4a84-9ecb-a5c2e2f95730",
        "id": "OQBaj07OfKWP"
      },
      "execution_count": null,
      "outputs": [
        {
          "output_type": "execute_result",
          "data": {
            "text/plain": [
              "-2.8093933445019728"
            ]
          },
          "metadata": {},
          "execution_count": 53
        }
      ]
    },
    {
      "cell_type": "code",
      "source": [
        "p_7 = (t_rv.cdf(t_7)) * 2 # p_value\n",
        "p_7"
      ],
      "metadata": {
        "colab": {
          "base_uri": "https://localhost:8080/"
        },
        "outputId": "f2fb581b-09f7-4c68-9be5-f525eac0b42d",
        "id": "x_7Z5t8nfKWQ"
      },
      "execution_count": null,
      "outputs": [
        {
          "output_type": "execute_result",
          "data": {
            "text/plain": [
              "0.0050364905612384015"
            ]
          },
          "metadata": {},
          "execution_count": 54
        }
      ]
    },
    {
      "cell_type": "code",
      "source": [
        "print(p_0)\n",
        "print(p_1)\n",
        "print(p_2)\n",
        "print(p_3)\n",
        "print(p_4)\n",
        "print(p_5)\n",
        "print(p_6)\n",
        "print(p_7)"
      ],
      "metadata": {
        "colab": {
          "base_uri": "https://localhost:8080/"
        },
        "outputId": "e87b0281-74ed-4813-838f-2f0ba238a601",
        "id": "i72u2XoEfKWQ"
      },
      "execution_count": null,
      "outputs": [
        {
          "output_type": "stream",
          "name": "stdout",
          "text": [
            "0.0\n",
            "1.2462263457578828e-16\n",
            "0.3060106726338665\n",
            "3.264557728231988e-06\n",
            "0.019611930518490972\n",
            "3.1696085356358594e-06\n",
            "0.007962091315448783\n",
            "0.0050364905612384015\n"
          ]
        }
      ]
    },
    {
      "cell_type": "markdown",
      "source": [
        "----"
      ],
      "metadata": {
        "id": "oxilRy12fKWQ"
      }
    },
    {
      "cell_type": "markdown",
      "source": [
        "* Y(day_power)"
      ],
      "metadata": {
        "id": "_NG80tGifKWQ"
      }
    },
    {
      "cell_type": "code",
      "source": [
        "X_mat = np.array([one, X_fuz, M_fuz])\n",
        "X_mat.shape"
      ],
      "metadata": {
        "colab": {
          "base_uri": "https://localhost:8080/"
        },
        "outputId": "7577a272-a357-44a5-969f-17591f9623e1",
        "id": "aYC_wYcUfKWQ"
      },
      "execution_count": null,
      "outputs": [
        {
          "output_type": "execute_result",
          "data": {
            "text/plain": [
              "(3, 1332, 3)"
            ]
          },
          "metadata": {},
          "execution_count": 56
        }
      ]
    },
    {
      "cell_type": "code",
      "source": [
        "col, row, tri = X_mat.shape\n",
        "print(col, row, tri)"
      ],
      "metadata": {
        "colab": {
          "base_uri": "https://localhost:8080/"
        },
        "outputId": "aefbcfb2-a97e-451c-ba81-fc71b0ec3e0a",
        "id": "ebQ7VnXnfKWQ"
      },
      "execution_count": null,
      "outputs": [
        {
          "output_type": "stream",
          "name": "stdout",
          "text": [
            "3 1332 3\n"
          ]
        }
      ]
    },
    {
      "cell_type": "code",
      "source": [
        "XX = np.zeros((col,col))\n",
        "for i in range(col):\n",
        "  for j in range(col):\n",
        "    sum = 0\n",
        "    for k in range(row):\n",
        "      sum = sum + np.dot(X_mat[i][k], X_mat[j][k])\n",
        "    XX[i][j] = sum"
      ],
      "metadata": {
        "id": "7Y_NdHZ_fKWQ"
      },
      "execution_count": null,
      "outputs": []
    },
    {
      "cell_type": "code",
      "source": [
        "XY = np.zeros((col, 1))\n",
        "for i in range(col):\n",
        "  sum = 0\n",
        "  for k in range(row):\n",
        "    sum = sum + np.dot(X_mat[i][k], Y_fuz[k])\n",
        "  XY[i] = sum"
      ],
      "metadata": {
        "id": "fsl8NWHSfKWR"
      },
      "execution_count": null,
      "outputs": []
    },
    {
      "cell_type": "code",
      "source": [
        "XX_inv = np.linalg.inv(XX)"
      ],
      "metadata": {
        "id": "uXdHatx-fKWR"
      },
      "execution_count": null,
      "outputs": []
    },
    {
      "cell_type": "code",
      "source": [
        "beta_Y = XX_inv @ XY\n",
        "for i in range(len(beta_Y)):\n",
        "  print(beta_Y[i])"
      ],
      "metadata": {
        "colab": {
          "base_uri": "https://localhost:8080/"
        },
        "outputId": "f876fac2-90de-4ec4-e27a-685b03b629a8",
        "id": "O5YE3xdifKWR"
      },
      "execution_count": null,
      "outputs": [
        {
          "output_type": "stream",
          "name": "stdout",
          "text": [
            "[0.54316616]\n",
            "[0.53475353]\n",
            "[-0.75490258]\n"
          ]
        }
      ]
    },
    {
      "cell_type": "code",
      "source": [
        "Y_fuz_hat = 0.5432+0.5348*X_fuz-0.7549*M_fuz"
      ],
      "metadata": {
        "id": "7mJ6KwpDfKWR"
      },
      "execution_count": null,
      "outputs": []
    },
    {
      "cell_type": "markdown",
      "source": [
        "* R^2 & F"
      ],
      "metadata": {
        "id": "8cSBG4oRfKWR"
      }
    },
    {
      "cell_type": "code",
      "source": [
        "TSS = ((Y_fuz-Y_fuz.mean())**2).sum(axis=1).sum()\n",
        "SSR = ((Y_fuz_hat-Y_fuz.mean())**2).sum(axis=1).sum()\n",
        "SSE = ((Y_fuz-Y_fuz_hat)**2).sum(axis=1).sum()"
      ],
      "metadata": {
        "id": "mxQHf0PgfKWR"
      },
      "execution_count": null,
      "outputs": []
    },
    {
      "cell_type": "code",
      "source": [
        "R = 1 - SSE / TSS\n",
        "print(R)"
      ],
      "metadata": {
        "colab": {
          "base_uri": "https://localhost:8080/"
        },
        "outputId": "9c3b1bc2-3084-44f7-ab48-fadffb840ce0",
        "id": "kpuYLXUafKWR"
      },
      "execution_count": null,
      "outputs": [
        {
          "output_type": "stream",
          "name": "stdout",
          "text": [
            "0.6447466269855189\n"
          ]
        }
      ]
    },
    {
      "cell_type": "code",
      "source": [
        "F = (SSR/2) / (SSE/1329)\n",
        "print(F)"
      ],
      "metadata": {
        "colab": {
          "base_uri": "https://localhost:8080/"
        },
        "outputId": "8a07d385-f504-4f75-eabf-14f11dd34772",
        "id": "fy-XeoBJfKWR"
      },
      "execution_count": null,
      "outputs": [
        {
          "output_type": "stream",
          "name": "stdout",
          "text": [
            "1206.0803949576175\n"
          ]
        }
      ]
    },
    {
      "cell_type": "code",
      "source": [
        "f_rv = f(2, 1329)"
      ],
      "metadata": {
        "id": "qmMCgv_rfKWS"
      },
      "execution_count": null,
      "outputs": []
    },
    {
      "cell_type": "code",
      "source": [
        "1 - f_rv.cdf(F) # F-value "
      ],
      "metadata": {
        "colab": {
          "base_uri": "https://localhost:8080/"
        },
        "outputId": "c2ea1772-a897-4388-a4d0-a4b916e17438",
        "id": "Sck2kTHKfKWS"
      },
      "execution_count": null,
      "outputs": [
        {
          "output_type": "execute_result",
          "data": {
            "text/plain": [
              "1.1102230246251565e-16"
            ]
          },
          "metadata": {},
          "execution_count": 67
        }
      ]
    },
    {
      "cell_type": "markdown",
      "source": [
        "----"
      ],
      "metadata": {
        "id": "fhZ_u48kfKWS"
      }
    },
    {
      "cell_type": "code",
      "source": [
        "cov_mat = XX_inv"
      ],
      "metadata": {
        "id": "KgIzHqNffKWS"
      },
      "execution_count": null,
      "outputs": []
    },
    {
      "cell_type": "code",
      "source": [
        "Y_fuz_hat = 0.5432+0.5348*X_fuz-0.7549*M_fuz"
      ],
      "metadata": {
        "id": "zyzmIJZffKWS"
      },
      "execution_count": null,
      "outputs": []
    },
    {
      "cell_type": "code",
      "source": [
        "mse = ((Y_fuz - Y_fuz_hat) ** 2).sum(axis=1).sum() / 1329\n",
        "print(mse)"
      ],
      "metadata": {
        "colab": {
          "base_uri": "https://localhost:8080/"
        },
        "outputId": "8e0237d2-0734-4e25-aa44-2dea7aa7a202",
        "id": "uXDqZYu3fKWS"
      },
      "execution_count": null,
      "outputs": [
        {
          "output_type": "stream",
          "name": "stdout",
          "text": [
            "0.06202498507954149\n"
          ]
        }
      ]
    },
    {
      "cell_type": "code",
      "source": [
        "t_rv = t(df=1329)"
      ],
      "metadata": {
        "id": "R4P9ucWlfKWT"
      },
      "execution_count": null,
      "outputs": []
    },
    {
      "cell_type": "code",
      "source": [
        "se_0 = np.sqrt(cov_mat[0][0] * mse)\n",
        "se_0"
      ],
      "metadata": {
        "colab": {
          "base_uri": "https://localhost:8080/"
        },
        "outputId": "dd6da102-d135-4de0-c431-71d8091230bc",
        "id": "M7MXhIfRfKWT"
      },
      "execution_count": null,
      "outputs": [
        {
          "output_type": "execute_result",
          "data": {
            "text/plain": [
              "0.024359855724624062"
            ]
          },
          "metadata": {},
          "execution_count": 72
        }
      ]
    },
    {
      "cell_type": "code",
      "source": [
        "t_0 = 0.5432 / se_0 # 상수의 t_value\n",
        "t_0"
      ],
      "metadata": {
        "colab": {
          "base_uri": "https://localhost:8080/"
        },
        "outputId": "df71adda-c3e7-4895-84ef-4cd818e64184",
        "id": "VxHHQF9AfKWT"
      },
      "execution_count": null,
      "outputs": [
        {
          "output_type": "execute_result",
          "data": {
            "text/plain": [
              "22.298982643436123"
            ]
          },
          "metadata": {},
          "execution_count": 73
        }
      ]
    },
    {
      "cell_type": "code",
      "source": [
        "p_0 = (1 - t_rv.cdf(t_0)) * 2 # p_value\n",
        "p_0"
      ],
      "metadata": {
        "colab": {
          "base_uri": "https://localhost:8080/"
        },
        "outputId": "278f0fca-7034-4965-c085-19dda2df955e",
        "id": "qFEiKjItfKWT"
      },
      "execution_count": null,
      "outputs": [
        {
          "output_type": "execute_result",
          "data": {
            "text/plain": [
              "0.0"
            ]
          },
          "metadata": {},
          "execution_count": 74
        }
      ]
    },
    {
      "cell_type": "code",
      "source": [
        "se_1 = np.sqrt(cov_mat[1][1] * mse)\n",
        "se_1"
      ],
      "metadata": {
        "colab": {
          "base_uri": "https://localhost:8080/"
        },
        "outputId": "225fc20a-f6f5-4e54-edc1-999a196726a9",
        "id": "PbxH_1TrfKWT"
      },
      "execution_count": null,
      "outputs": [
        {
          "output_type": "execute_result",
          "data": {
            "text/plain": [
              "0.023443829724934723"
            ]
          },
          "metadata": {},
          "execution_count": 75
        }
      ]
    },
    {
      "cell_type": "code",
      "source": [
        "t_1 = 0.5348 / se_1 # t통계량값\n",
        "t_1"
      ],
      "metadata": {
        "colab": {
          "base_uri": "https://localhost:8080/"
        },
        "outputId": "dedbf5bc-4998-4fd6-c177-66a703616565",
        "id": "xUNd_h7afKWT"
      },
      "execution_count": null,
      "outputs": [
        {
          "output_type": "execute_result",
          "data": {
            "text/plain": [
              "22.8119725435128"
            ]
          },
          "metadata": {},
          "execution_count": 76
        }
      ]
    },
    {
      "cell_type": "code",
      "source": [
        "p_1 = (1-t_rv.cdf(t_1)) * 2 # p_value\n",
        "p_1"
      ],
      "metadata": {
        "colab": {
          "base_uri": "https://localhost:8080/"
        },
        "outputId": "a6b21ca2-334e-46f1-cca7-b366a57d6c06",
        "id": "ohvAzLVMfKWT"
      },
      "execution_count": null,
      "outputs": [
        {
          "output_type": "execute_result",
          "data": {
            "text/plain": [
              "0.0"
            ]
          },
          "metadata": {},
          "execution_count": 77
        }
      ]
    },
    {
      "cell_type": "code",
      "source": [
        "se_2 = np.sqrt(cov_mat[2][2] * mse)\n",
        "se_2"
      ],
      "metadata": {
        "colab": {
          "base_uri": "https://localhost:8080/"
        },
        "outputId": "3bea7b84-7c1f-434e-9c6b-e397269aa0f5",
        "id": "pkpMMd9ifKWT"
      },
      "execution_count": null,
      "outputs": [
        {
          "output_type": "execute_result",
          "data": {
            "text/plain": [
              "0.026514364677054134"
            ]
          },
          "metadata": {},
          "execution_count": 78
        }
      ]
    },
    {
      "cell_type": "code",
      "source": [
        "t_2 = -0.7549 / se_2 # t통계량값\n",
        "t_2"
      ],
      "metadata": {
        "colab": {
          "base_uri": "https://localhost:8080/"
        },
        "outputId": "d93ee9f9-f523-46b5-ed5c-9b7069f384eb",
        "id": "ALU7WILsfKWU"
      },
      "execution_count": null,
      "outputs": [
        {
          "output_type": "execute_result",
          "data": {
            "text/plain": [
              "-28.471359174345974"
            ]
          },
          "metadata": {},
          "execution_count": 79
        }
      ]
    },
    {
      "cell_type": "code",
      "source": [
        "p_2 = (t_rv.cdf(t_2)) * 2 # p_value\n",
        "p_2"
      ],
      "metadata": {
        "colab": {
          "base_uri": "https://localhost:8080/"
        },
        "outputId": "98f78a5d-d8a9-434a-b47c-42c18f1a0d6a",
        "id": "55O893tffKWU"
      },
      "execution_count": null,
      "outputs": [
        {
          "output_type": "execute_result",
          "data": {
            "text/plain": [
              "1.3310655105224113e-139"
            ]
          },
          "metadata": {},
          "execution_count": 80
        }
      ]
    },
    {
      "cell_type": "code",
      "source": [
        "print(p_0)\n",
        "print(p_1)\n",
        "print(p_2)"
      ],
      "metadata": {
        "colab": {
          "base_uri": "https://localhost:8080/"
        },
        "outputId": "4170d030-9f9d-44c5-85ed-2329dd02d815",
        "id": "jqTswpNnfKWU"
      },
      "execution_count": null,
      "outputs": [
        {
          "output_type": "stream",
          "name": "stdout",
          "text": [
            "0.0\n",
            "0.0\n",
            "1.3310655105224113e-139\n"
          ]
        }
      ]
    },
    {
      "cell_type": "markdown",
      "source": [
        "## * 𝑀=0.9370-0.9212𝑋-0.0035𝑊-0.9191𝑍+0.0777𝑋𝑊+2.0611𝑋𝑍+0.1339𝑊𝑍-0.3276𝑋𝑊𝑍 (crisp)\n",
        "## * 𝑌=0.6099+0.4950𝑋-0.8307𝑀 (crisp)\n",
        "\n",
        "  \n",
        "## * 𝑀=0.8503-0.8038*X+0.0116*W-0.7326*Z+0.0566*X*W+1.6342*X*Z+0.0974*W*Z-0.2280*X*W*Z (fuzzy)\n",
        "## * 𝑌=0.5432+0.5348*X-0.7549*M (fuzzy)"
      ],
      "metadata": {
        "id": "dcpoJz9IfKWU"
      }
    },
    {
      "cell_type": "markdown",
      "source": [
        "----"
      ],
      "metadata": {
        "id": "yOQEcQFifKWU"
      }
    }
  ]
}