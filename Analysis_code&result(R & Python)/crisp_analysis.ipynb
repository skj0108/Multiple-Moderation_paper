{
  "nbformat": 4,
  "nbformat_minor": 0,
  "metadata": {
    "colab": {
      "provenance": []
    },
    "kernelspec": {
      "name": "python3",
      "display_name": "Python 3"
    },
    "language_info": {
      "name": "python"
    }
  },
  "cells": [
    {
      "cell_type": "code",
      "source": [
        "import pandas as pd\n",
        "import numpy as np\n",
        "from google.colab import drive\n",
        "from google.colab import files\n",
        "from statsmodels.formula.api import ols\n",
        "import statsmodels.api as sm\n",
        "from scipy.stats import t,f"
      ],
      "metadata": {
        "id": "e5iLMzU7EqYW"
      },
      "execution_count": 1,
      "outputs": []
    },
    {
      "cell_type": "code",
      "source": [
        "drive.mount('/content/Drive/')"
      ],
      "metadata": {
        "colab": {
          "base_uri": "https://localhost:8080/"
        },
        "id": "gjKVUGe5wPUj",
        "outputId": "78434260-d2b3-4b26-9961-0489dfa4c718"
      },
      "execution_count": 2,
      "outputs": [
        {
          "output_type": "stream",
          "name": "stdout",
          "text": [
            "Mounted at /content/Drive/\n"
          ]
        }
      ]
    },
    {
      "cell_type": "markdown",
      "source": [
        "# 1) model 2 (glbwarm data)"
      ],
      "metadata": {
        "id": "NmvVM-EDZR5r"
      }
    },
    {
      "cell_type": "markdown",
      "source": [
        "![image.png](data:image/png;base64,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)"
      ],
      "metadata": {
        "id": "g3AjoqndgdQF"
      }
    },
    {
      "cell_type": "markdown",
      "source": [
        "X: Negative_Emotions(기후변화에 대해 부정적인 감정을 갖고 있는 정도)  \n",
        "Y: Government_Action(기후변화에 대한 정부의 조치를 지지하는 것)  \n",
        "W: Sex(성별) (여성 - 0, 남성 - 1)  \n",
        "Z: Age(나이)  \n"
      ],
      "metadata": {
        "id": "p3iHbGTeZpF1"
      }
    },
    {
      "cell_type": "code",
      "source": [
        "data_2 = pd.read_csv('/content/Drive/MyDrive/논문/model_2.csv', index_col=0)\n",
        "data_2.head()"
      ],
      "metadata": {
        "colab": {
          "base_uri": "https://localhost:8080/",
          "height": 206
        },
        "id": "ilibG7SvwVXO",
        "outputId": "abdbba4a-6e15-452e-fb13-dcb5daf0f95d"
      },
      "execution_count": null,
      "outputs": [
        {
          "output_type": "execute_result",
          "data": {
            "text/plain": [
              "   govact  posemot  negemot  ideology  age  sex  partyid\n",
              "1     3.6     3.67     4.67         6   61    0        2\n",
              "2     5.0     2.00     2.33         2   55    0        1\n",
              "3     6.6     2.33     3.67         1   85    1        1\n",
              "4     1.0     5.00     5.00         1   59    0        1\n",
              "5     4.0     2.33     1.67         4   22    1        1"
            ],
            "text/html": [
              "\n",
              "  <div id=\"df-a8660008-6ef1-40c9-8130-fc264a12fdb8\">\n",
              "    <div class=\"colab-df-container\">\n",
              "      <div>\n",
              "<style scoped>\n",
              "    .dataframe tbody tr th:only-of-type {\n",
              "        vertical-align: middle;\n",
              "    }\n",
              "\n",
              "    .dataframe tbody tr th {\n",
              "        vertical-align: top;\n",
              "    }\n",
              "\n",
              "    .dataframe thead th {\n",
              "        text-align: right;\n",
              "    }\n",
              "</style>\n",
              "<table border=\"1\" class=\"dataframe\">\n",
              "  <thead>\n",
              "    <tr style=\"text-align: right;\">\n",
              "      <th></th>\n",
              "      <th>govact</th>\n",
              "      <th>posemot</th>\n",
              "      <th>negemot</th>\n",
              "      <th>ideology</th>\n",
              "      <th>age</th>\n",
              "      <th>sex</th>\n",
              "      <th>partyid</th>\n",
              "    </tr>\n",
              "  </thead>\n",
              "  <tbody>\n",
              "    <tr>\n",
              "      <th>1</th>\n",
              "      <td>3.6</td>\n",
              "      <td>3.67</td>\n",
              "      <td>4.67</td>\n",
              "      <td>6</td>\n",
              "      <td>61</td>\n",
              "      <td>0</td>\n",
              "      <td>2</td>\n",
              "    </tr>\n",
              "    <tr>\n",
              "      <th>2</th>\n",
              "      <td>5.0</td>\n",
              "      <td>2.00</td>\n",
              "      <td>2.33</td>\n",
              "      <td>2</td>\n",
              "      <td>55</td>\n",
              "      <td>0</td>\n",
              "      <td>1</td>\n",
              "    </tr>\n",
              "    <tr>\n",
              "      <th>3</th>\n",
              "      <td>6.6</td>\n",
              "      <td>2.33</td>\n",
              "      <td>3.67</td>\n",
              "      <td>1</td>\n",
              "      <td>85</td>\n",
              "      <td>1</td>\n",
              "      <td>1</td>\n",
              "    </tr>\n",
              "    <tr>\n",
              "      <th>4</th>\n",
              "      <td>1.0</td>\n",
              "      <td>5.00</td>\n",
              "      <td>5.00</td>\n",
              "      <td>1</td>\n",
              "      <td>59</td>\n",
              "      <td>0</td>\n",
              "      <td>1</td>\n",
              "    </tr>\n",
              "    <tr>\n",
              "      <th>5</th>\n",
              "      <td>4.0</td>\n",
              "      <td>2.33</td>\n",
              "      <td>1.67</td>\n",
              "      <td>4</td>\n",
              "      <td>22</td>\n",
              "      <td>1</td>\n",
              "      <td>1</td>\n",
              "    </tr>\n",
              "  </tbody>\n",
              "</table>\n",
              "</div>\n",
              "      <button class=\"colab-df-convert\" onclick=\"convertToInteractive('df-a8660008-6ef1-40c9-8130-fc264a12fdb8')\"\n",
              "              title=\"Convert this dataframe to an interactive table.\"\n",
              "              style=\"display:none;\">\n",
              "        \n",
              "  <svg xmlns=\"http://www.w3.org/2000/svg\" height=\"24px\"viewBox=\"0 0 24 24\"\n",
              "       width=\"24px\">\n",
              "    <path d=\"M0 0h24v24H0V0z\" fill=\"none\"/>\n",
              "    <path d=\"M18.56 5.44l.94 2.06.94-2.06 2.06-.94-2.06-.94-.94-2.06-.94 2.06-2.06.94zm-11 1L8.5 8.5l.94-2.06 2.06-.94-2.06-.94L8.5 2.5l-.94 2.06-2.06.94zm10 10l.94 2.06.94-2.06 2.06-.94-2.06-.94-.94-2.06-.94 2.06-2.06.94z\"/><path d=\"M17.41 7.96l-1.37-1.37c-.4-.4-.92-.59-1.43-.59-.52 0-1.04.2-1.43.59L10.3 9.45l-7.72 7.72c-.78.78-.78 2.05 0 2.83L4 21.41c.39.39.9.59 1.41.59.51 0 1.02-.2 1.41-.59l7.78-7.78 2.81-2.81c.8-.78.8-2.07 0-2.86zM5.41 20L4 18.59l7.72-7.72 1.47 1.35L5.41 20z\"/>\n",
              "  </svg>\n",
              "      </button>\n",
              "      \n",
              "  <style>\n",
              "    .colab-df-container {\n",
              "      display:flex;\n",
              "      flex-wrap:wrap;\n",
              "      gap: 12px;\n",
              "    }\n",
              "\n",
              "    .colab-df-convert {\n",
              "      background-color: #E8F0FE;\n",
              "      border: none;\n",
              "      border-radius: 50%;\n",
              "      cursor: pointer;\n",
              "      display: none;\n",
              "      fill: #1967D2;\n",
              "      height: 32px;\n",
              "      padding: 0 0 0 0;\n",
              "      width: 32px;\n",
              "    }\n",
              "\n",
              "    .colab-df-convert:hover {\n",
              "      background-color: #E2EBFA;\n",
              "      box-shadow: 0px 1px 2px rgba(60, 64, 67, 0.3), 0px 1px 3px 1px rgba(60, 64, 67, 0.15);\n",
              "      fill: #174EA6;\n",
              "    }\n",
              "\n",
              "    [theme=dark] .colab-df-convert {\n",
              "      background-color: #3B4455;\n",
              "      fill: #D2E3FC;\n",
              "    }\n",
              "\n",
              "    [theme=dark] .colab-df-convert:hover {\n",
              "      background-color: #434B5C;\n",
              "      box-shadow: 0px 1px 3px 1px rgba(0, 0, 0, 0.15);\n",
              "      filter: drop-shadow(0px 1px 2px rgba(0, 0, 0, 0.3));\n",
              "      fill: #FFFFFF;\n",
              "    }\n",
              "  </style>\n",
              "\n",
              "      <script>\n",
              "        const buttonEl =\n",
              "          document.querySelector('#df-a8660008-6ef1-40c9-8130-fc264a12fdb8 button.colab-df-convert');\n",
              "        buttonEl.style.display =\n",
              "          google.colab.kernel.accessAllowed ? 'block' : 'none';\n",
              "\n",
              "        async function convertToInteractive(key) {\n",
              "          const element = document.querySelector('#df-a8660008-6ef1-40c9-8130-fc264a12fdb8');\n",
              "          const dataTable =\n",
              "            await google.colab.kernel.invokeFunction('convertToInteractive',\n",
              "                                                     [key], {});\n",
              "          if (!dataTable) return;\n",
              "\n",
              "          const docLinkHtml = 'Like what you see? Visit the ' +\n",
              "            '<a target=\"_blank\" href=https://colab.research.google.com/notebooks/data_table.ipynb>data table notebook</a>'\n",
              "            + ' to learn more about interactive tables.';\n",
              "          element.innerHTML = '';\n",
              "          dataTable['output_type'] = 'display_data';\n",
              "          await google.colab.output.renderOutput(dataTable, element);\n",
              "          const docLink = document.createElement('div');\n",
              "          docLink.innerHTML = docLinkHtml;\n",
              "          element.appendChild(docLink);\n",
              "        }\n",
              "      </script>\n",
              "    </div>\n",
              "  </div>\n",
              "  "
            ]
          },
          "metadata": {},
          "execution_count": 100
        }
      ]
    },
    {
      "cell_type": "code",
      "source": [
        "res_y = ols('govact ~ negemot', data=data_2).fit()\n",
        "res_y.summary()"
      ],
      "metadata": {
        "colab": {
          "base_uri": "https://localhost:8080/",
          "height": 447
        },
        "id": "cQaxUmdb3fYz",
        "outputId": "7d943adc-07ab-4b7c-9e04-7bd3d23e2425"
      },
      "execution_count": null,
      "outputs": [
        {
          "output_type": "execute_result",
          "data": {
            "text/plain": [
              "<class 'statsmodels.iolib.summary.Summary'>\n",
              "\"\"\"\n",
              "                            OLS Regression Results                            \n",
              "==============================================================================\n",
              "Dep. Variable:                 govact   R-squared:                       0.334\n",
              "Model:                            OLS   Adj. R-squared:                  0.333\n",
              "Method:                 Least Squares   F-statistic:                     407.3\n",
              "Date:                Wed, 01 Mar 2023   Prob (F-statistic):           9.59e-74\n",
              "Time:                        15:50:25   Log-Likelihood:                -1241.3\n",
              "No. Observations:                 815   AIC:                             2487.\n",
              "Df Residuals:                     813   BIC:                             2496.\n",
              "Df Model:                           1                                         \n",
              "Covariance Type:            nonrobust                                         \n",
              "==============================================================================\n",
              "                 coef    std err          t      P>|t|      [0.025      0.975]\n",
              "------------------------------------------------------------------------------\n",
              "Intercept      2.7573      0.099     27.948      0.000       2.564       2.951\n",
              "negemot        0.5142      0.025     20.183      0.000       0.464       0.564\n",
              "==============================================================================\n",
              "Omnibus:                       17.285   Durbin-Watson:                   2.078\n",
              "Prob(Omnibus):                  0.000   Jarque-Bera (JB):               17.956\n",
              "Skew:                          -0.335   Prob(JB):                     0.000126\n",
              "Kurtosis:                       3.283   Cond. No.                         10.4\n",
              "==============================================================================\n",
              "\n",
              "Notes:\n",
              "[1] Standard Errors assume that the covariance matrix of the errors is correctly specified.\n",
              "\"\"\""
            ],
            "text/html": [
              "<table class=\"simpletable\">\n",
              "<caption>OLS Regression Results</caption>\n",
              "<tr>\n",
              "  <th>Dep. Variable:</th>         <td>govact</td>      <th>  R-squared:         </th> <td>   0.334</td>\n",
              "</tr>\n",
              "<tr>\n",
              "  <th>Model:</th>                   <td>OLS</td>       <th>  Adj. R-squared:    </th> <td>   0.333</td>\n",
              "</tr>\n",
              "<tr>\n",
              "  <th>Method:</th>             <td>Least Squares</td>  <th>  F-statistic:       </th> <td>   407.3</td>\n",
              "</tr>\n",
              "<tr>\n",
              "  <th>Date:</th>             <td>Wed, 01 Mar 2023</td> <th>  Prob (F-statistic):</th> <td>9.59e-74</td>\n",
              "</tr>\n",
              "<tr>\n",
              "  <th>Time:</th>                 <td>15:50:25</td>     <th>  Log-Likelihood:    </th> <td> -1241.3</td>\n",
              "</tr>\n",
              "<tr>\n",
              "  <th>No. Observations:</th>      <td>   815</td>      <th>  AIC:               </th> <td>   2487.</td>\n",
              "</tr>\n",
              "<tr>\n",
              "  <th>Df Residuals:</th>          <td>   813</td>      <th>  BIC:               </th> <td>   2496.</td>\n",
              "</tr>\n",
              "<tr>\n",
              "  <th>Df Model:</th>              <td>     1</td>      <th>                     </th>     <td> </td>   \n",
              "</tr>\n",
              "<tr>\n",
              "  <th>Covariance Type:</th>      <td>nonrobust</td>    <th>                     </th>     <td> </td>   \n",
              "</tr>\n",
              "</table>\n",
              "<table class=\"simpletable\">\n",
              "<tr>\n",
              "      <td></td>         <th>coef</th>     <th>std err</th>      <th>t</th>      <th>P>|t|</th>  <th>[0.025</th>    <th>0.975]</th>  \n",
              "</tr>\n",
              "<tr>\n",
              "  <th>Intercept</th> <td>    2.7573</td> <td>    0.099</td> <td>   27.948</td> <td> 0.000</td> <td>    2.564</td> <td>    2.951</td>\n",
              "</tr>\n",
              "<tr>\n",
              "  <th>negemot</th>   <td>    0.5142</td> <td>    0.025</td> <td>   20.183</td> <td> 0.000</td> <td>    0.464</td> <td>    0.564</td>\n",
              "</tr>\n",
              "</table>\n",
              "<table class=\"simpletable\">\n",
              "<tr>\n",
              "  <th>Omnibus:</th>       <td>17.285</td> <th>  Durbin-Watson:     </th> <td>   2.078</td>\n",
              "</tr>\n",
              "<tr>\n",
              "  <th>Prob(Omnibus):</th> <td> 0.000</td> <th>  Jarque-Bera (JB):  </th> <td>  17.956</td>\n",
              "</tr>\n",
              "<tr>\n",
              "  <th>Skew:</th>          <td>-0.335</td> <th>  Prob(JB):          </th> <td>0.000126</td>\n",
              "</tr>\n",
              "<tr>\n",
              "  <th>Kurtosis:</th>      <td> 3.283</td> <th>  Cond. No.          </th> <td>    10.4</td>\n",
              "</tr>\n",
              "</table><br/><br/>Notes:<br/>[1] Standard Errors assume that the covariance matrix of the errors is correctly specified."
            ]
          },
          "metadata": {},
          "execution_count": 101
        }
      ]
    },
    {
      "cell_type": "code",
      "source": [
        "data_num = len(data_2)\n",
        "data_num"
      ],
      "metadata": {
        "colab": {
          "base_uri": "https://localhost:8080/"
        },
        "id": "dvLkrEf8Gmoa",
        "outputId": "7315612e-8bce-4a88-f219-b03e062e40ed"
      },
      "execution_count": null,
      "outputs": [
        {
          "output_type": "execute_result",
          "data": {
            "text/plain": [
              "815"
            ]
          },
          "metadata": {},
          "execution_count": 15
        }
      ]
    },
    {
      "cell_type": "code",
      "source": [
        "res_y = ols('govact ~ negemot + sex + age + negemot * sex + negemot * age', data=data_2).fit()\n",
        "res_y.summary()"
      ],
      "metadata": {
        "colab": {
          "base_uri": "https://localhost:8080/",
          "height": 566
        },
        "id": "IgGhjQHmG-jU",
        "outputId": "fd9ae457-24df-42d7-88de-d382c8d185f7"
      },
      "execution_count": null,
      "outputs": [
        {
          "output_type": "execute_result",
          "data": {
            "text/plain": [
              "<class 'statsmodels.iolib.summary.Summary'>\n",
              "\"\"\"\n",
              "                            OLS Regression Results                            \n",
              "==============================================================================\n",
              "Dep. Variable:                 govact   R-squared:                       0.368\n",
              "Model:                            OLS   Adj. R-squared:                  0.365\n",
              "Method:                 Least Squares   F-statistic:                     94.41\n",
              "Date:                Wed, 01 Mar 2023   Prob (F-statistic):           2.49e-78\n",
              "Time:                        13:58:42   Log-Likelihood:                -1219.5\n",
              "No. Observations:                 815   AIC:                             2451.\n",
              "Df Residuals:                     809   BIC:                             2479.\n",
              "Df Model:                           5                                         \n",
              "Covariance Type:            nonrobust                                         \n",
              "===============================================================================\n",
              "                  coef    std err          t      P>|t|      [0.025      0.975]\n",
              "-------------------------------------------------------------------------------\n",
              "Intercept       4.4748      0.329     13.619      0.000       3.830       5.120\n",
              "negemot         0.1154      0.085      1.365      0.173      -0.051       0.281\n",
              "sex            -0.8449      0.201     -4.212      0.000      -1.239      -0.451\n",
              "age            -0.0241      0.006     -3.865      0.000      -0.036      -0.012\n",
              "negemot:sex     0.2208      0.052      4.261      0.000       0.119       0.322\n",
              "negemot:age     0.0054      0.002      3.322      0.001       0.002       0.009\n",
              "==============================================================================\n",
              "Omnibus:                       11.252   Durbin-Watson:                   2.038\n",
              "Prob(Omnibus):                  0.004   Jarque-Bera (JB):               11.694\n",
              "Skew:                          -0.246   Prob(JB):                      0.00289\n",
              "Kurtosis:                       3.318   Cond. No.                     1.84e+03\n",
              "==============================================================================\n",
              "\n",
              "Notes:\n",
              "[1] Standard Errors assume that the covariance matrix of the errors is correctly specified.\n",
              "[2] The condition number is large, 1.84e+03. This might indicate that there are\n",
              "strong multicollinearity or other numerical problems.\n",
              "\"\"\""
            ],
            "text/html": [
              "<table class=\"simpletable\">\n",
              "<caption>OLS Regression Results</caption>\n",
              "<tr>\n",
              "  <th>Dep. Variable:</th>         <td>govact</td>      <th>  R-squared:         </th> <td>   0.368</td>\n",
              "</tr>\n",
              "<tr>\n",
              "  <th>Model:</th>                   <td>OLS</td>       <th>  Adj. R-squared:    </th> <td>   0.365</td>\n",
              "</tr>\n",
              "<tr>\n",
              "  <th>Method:</th>             <td>Least Squares</td>  <th>  F-statistic:       </th> <td>   94.41</td>\n",
              "</tr>\n",
              "<tr>\n",
              "  <th>Date:</th>             <td>Wed, 01 Mar 2023</td> <th>  Prob (F-statistic):</th> <td>2.49e-78</td>\n",
              "</tr>\n",
              "<tr>\n",
              "  <th>Time:</th>                 <td>13:58:42</td>     <th>  Log-Likelihood:    </th> <td> -1219.5</td>\n",
              "</tr>\n",
              "<tr>\n",
              "  <th>No. Observations:</th>      <td>   815</td>      <th>  AIC:               </th> <td>   2451.</td>\n",
              "</tr>\n",
              "<tr>\n",
              "  <th>Df Residuals:</th>          <td>   809</td>      <th>  BIC:               </th> <td>   2479.</td>\n",
              "</tr>\n",
              "<tr>\n",
              "  <th>Df Model:</th>              <td>     5</td>      <th>                     </th>     <td> </td>   \n",
              "</tr>\n",
              "<tr>\n",
              "  <th>Covariance Type:</th>      <td>nonrobust</td>    <th>                     </th>     <td> </td>   \n",
              "</tr>\n",
              "</table>\n",
              "<table class=\"simpletable\">\n",
              "<tr>\n",
              "       <td></td>          <th>coef</th>     <th>std err</th>      <th>t</th>      <th>P>|t|</th>  <th>[0.025</th>    <th>0.975]</th>  \n",
              "</tr>\n",
              "<tr>\n",
              "  <th>Intercept</th>   <td>    4.4748</td> <td>    0.329</td> <td>   13.619</td> <td> 0.000</td> <td>    3.830</td> <td>    5.120</td>\n",
              "</tr>\n",
              "<tr>\n",
              "  <th>negemot</th>     <td>    0.1154</td> <td>    0.085</td> <td>    1.365</td> <td> 0.173</td> <td>   -0.051</td> <td>    0.281</td>\n",
              "</tr>\n",
              "<tr>\n",
              "  <th>sex</th>         <td>   -0.8449</td> <td>    0.201</td> <td>   -4.212</td> <td> 0.000</td> <td>   -1.239</td> <td>   -0.451</td>\n",
              "</tr>\n",
              "<tr>\n",
              "  <th>age</th>         <td>   -0.0241</td> <td>    0.006</td> <td>   -3.865</td> <td> 0.000</td> <td>   -0.036</td> <td>   -0.012</td>\n",
              "</tr>\n",
              "<tr>\n",
              "  <th>negemot:sex</th> <td>    0.2208</td> <td>    0.052</td> <td>    4.261</td> <td> 0.000</td> <td>    0.119</td> <td>    0.322</td>\n",
              "</tr>\n",
              "<tr>\n",
              "  <th>negemot:age</th> <td>    0.0054</td> <td>    0.002</td> <td>    3.322</td> <td> 0.001</td> <td>    0.002</td> <td>    0.009</td>\n",
              "</tr>\n",
              "</table>\n",
              "<table class=\"simpletable\">\n",
              "<tr>\n",
              "  <th>Omnibus:</th>       <td>11.252</td> <th>  Durbin-Watson:     </th> <td>   2.038</td>\n",
              "</tr>\n",
              "<tr>\n",
              "  <th>Prob(Omnibus):</th> <td> 0.004</td> <th>  Jarque-Bera (JB):  </th> <td>  11.694</td>\n",
              "</tr>\n",
              "<tr>\n",
              "  <th>Skew:</th>          <td>-0.246</td> <th>  Prob(JB):          </th> <td> 0.00289</td>\n",
              "</tr>\n",
              "<tr>\n",
              "  <th>Kurtosis:</th>      <td> 3.318</td> <th>  Cond. No.          </th> <td>1.84e+03</td>\n",
              "</tr>\n",
              "</table><br/><br/>Notes:<br/>[1] Standard Errors assume that the covariance matrix of the errors is correctly specified.<br/>[2] The condition number is large, 1.84e+03. This might indicate that there are<br/>strong multicollinearity or other numerical problems."
            ]
          },
          "metadata": {},
          "execution_count": 16
        }
      ]
    },
    {
      "cell_type": "code",
      "source": [
        "res_y.params"
      ],
      "metadata": {
        "colab": {
          "base_uri": "https://localhost:8080/"
        },
        "id": "7OEHDisEHtmj",
        "outputId": "228f471e-2d46-4690-eb33-7fdbdd591cd5"
      },
      "execution_count": null,
      "outputs": [
        {
          "output_type": "execute_result",
          "data": {
            "text/plain": [
              "Intercept      4.474817\n",
              "negemot        0.115431\n",
              "sex           -0.844894\n",
              "age           -0.024140\n",
              "negemot:sex    0.220769\n",
              "negemot:age    0.005411\n",
              "dtype: float64"
            ]
          },
          "metadata": {},
          "execution_count": 17
        }
      ]
    },
    {
      "cell_type": "markdown",
      "source": [
        "----"
      ],
      "metadata": {
        "id": "tEKydWtgjYwv"
      }
    },
    {
      "cell_type": "code",
      "source": [
        "Y = data_2['govact']"
      ],
      "metadata": {
        "id": "leM42Cey-i5y"
      },
      "execution_count": null,
      "outputs": []
    },
    {
      "cell_type": "code",
      "source": [
        "X = np.array(data_2['negemot'])\n",
        "W = np.array(data_2['sex'])\n",
        "Z = np.array(data_2['age'])"
      ],
      "metadata": {
        "id": "q7FjXUhy-xTy"
      },
      "execution_count": null,
      "outputs": []
    },
    {
      "cell_type": "code",
      "source": [
        "X.shape"
      ],
      "metadata": {
        "colab": {
          "base_uri": "https://localhost:8080/"
        },
        "id": "wL_nZLjLAwx2",
        "outputId": "29c57b54-41f8-4203-d35c-5c332e0e3d68"
      },
      "execution_count": null,
      "outputs": [
        {
          "output_type": "execute_result",
          "data": {
            "text/plain": [
              "(815,)"
            ]
          },
          "metadata": {},
          "execution_count": 28
        }
      ]
    },
    {
      "cell_type": "code",
      "source": [
        "Y_hat = 4.474817 + 0.115431 * X -0.844894 * W -0.024140 * Z + 0.220769 * X * W + 0.005411 * X * Z"
      ],
      "metadata": {
        "id": "NQ6CZbcJ_Dv2"
      },
      "execution_count": null,
      "outputs": []
    },
    {
      "cell_type": "markdown",
      "source": [
        "* R^2 & F"
      ],
      "metadata": {
        "id": "HEuJfBBnflXc"
      }
    },
    {
      "cell_type": "code",
      "source": [
        "TSS = ((Y-Y.mean())**2).sum()\n",
        "SSR = ((Y_hat-Y.mean())**2).sum()\n",
        "SSE = ((Y-Y_hat)**2).sum()"
      ],
      "metadata": {
        "id": "85HcVSXTeSOG"
      },
      "execution_count": null,
      "outputs": []
    },
    {
      "cell_type": "code",
      "source": [
        "R = 1 - SSE / TSS\n",
        "print(R)"
      ],
      "metadata": {
        "colab": {
          "base_uri": "https://localhost:8080/"
        },
        "id": "I_AxUfVceu8G",
        "outputId": "3ce050dd-a073-402f-8573-1b9b11ab2d80"
      },
      "execution_count": null,
      "outputs": [
        {
          "output_type": "stream",
          "name": "stdout",
          "text": [
            "0.36848481101390584\n"
          ]
        }
      ]
    },
    {
      "cell_type": "code",
      "source": [
        "F = (SSR/5) / (SSE/809)\n",
        "print(F)"
      ],
      "metadata": {
        "colab": {
          "base_uri": "https://localhost:8080/"
        },
        "id": "anFA_4MbeYn1",
        "outputId": "65c3b970-a5c3-4196-e331-d6554d8938a4"
      },
      "execution_count": null,
      "outputs": [
        {
          "output_type": "stream",
          "name": "stdout",
          "text": [
            "94.40306002260358\n"
          ]
        }
      ]
    },
    {
      "cell_type": "code",
      "source": [
        "f_rv = f(5, 809)"
      ],
      "metadata": {
        "id": "fM2pvVz1gnjK"
      },
      "execution_count": null,
      "outputs": []
    },
    {
      "cell_type": "code",
      "source": [
        "1 - f_rv.cdf(F) # F-value "
      ],
      "metadata": {
        "colab": {
          "base_uri": "https://localhost:8080/"
        },
        "id": "Kr8-NjMcgrZR",
        "outputId": "5897f89e-c264-46ca-d2e7-70f577e9ce69"
      },
      "execution_count": null,
      "outputs": [
        {
          "output_type": "execute_result",
          "data": {
            "text/plain": [
              "1.1102230246251565e-16"
            ]
          },
          "metadata": {},
          "execution_count": 50
        }
      ]
    },
    {
      "cell_type": "markdown",
      "source": [
        "* p-value"
      ],
      "metadata": {
        "id": "lz_TTQoVfpKN"
      }
    },
    {
      "cell_type": "code",
      "source": [
        "mse = ((Y-Y_hat)**2).sum() / 809\n",
        "print(mse)"
      ],
      "metadata": {
        "colab": {
          "base_uri": "https://localhost:8080/"
        },
        "id": "tmBkHoFehhjz",
        "outputId": "0c8b9ba9-4ebe-4054-82fb-87dba0436d9e"
      },
      "execution_count": null,
      "outputs": [
        {
          "output_type": "stream",
          "name": "stdout",
          "text": [
            "1.1760250198772153\n"
          ]
        }
      ]
    },
    {
      "cell_type": "code",
      "source": [
        "t_rv = t(df=809)"
      ],
      "metadata": {
        "id": "5X83_HZ6vt6V"
      },
      "execution_count": null,
      "outputs": []
    },
    {
      "cell_type": "code",
      "source": [
        "one = np.ones((data_num))"
      ],
      "metadata": {
        "id": "bZBlc1-DAevj"
      },
      "execution_count": null,
      "outputs": []
    },
    {
      "cell_type": "code",
      "source": [
        "X_mat = np.array([one, X, W, Z, X*W, X*Z])"
      ],
      "metadata": {
        "id": "4PZ11zDeAEET"
      },
      "execution_count": null,
      "outputs": []
    },
    {
      "cell_type": "code",
      "source": [
        "X_mat_re = X_mat.T\n",
        "X_mat_re"
      ],
      "metadata": {
        "colab": {
          "base_uri": "https://localhost:8080/"
        },
        "id": "IQwL6MYUA79A",
        "outputId": "c6fae17e-c06a-4a75-9e17-e790685d8f86"
      },
      "execution_count": null,
      "outputs": [
        {
          "output_type": "execute_result",
          "data": {
            "text/plain": [
              "array([[  1.  ,   4.67,   0.  ,  61.  ,   0.  , 284.87],\n",
              "       [  1.  ,   2.33,   0.  ,  55.  ,   0.  , 128.15],\n",
              "       [  1.  ,   3.67,   1.  ,  85.  ,   3.67, 311.95],\n",
              "       ...,\n",
              "       [  1.  ,   1.67,   1.  ,  72.  ,   1.67, 120.24],\n",
              "       [  1.  ,   3.33,   0.  ,  36.  ,   0.  , 119.88],\n",
              "       [  1.  ,   6.  ,   1.  ,  82.  ,   6.  , 492.  ]])"
            ]
          },
          "metadata": {},
          "execution_count": 150
        }
      ]
    },
    {
      "cell_type": "code",
      "source": [
        "XX = X_mat_re.T @ X_mat_re\n",
        "XX"
      ],
      "metadata": {
        "colab": {
          "base_uri": "https://localhost:8080/"
        },
        "id": "bKbtv0nZBn47",
        "outputId": "c91bb242-f29a-4a7e-d8f5-77f6dc82fa27"
      },
      "execution_count": null,
      "outputs": [
        {
          "output_type": "execute_result",
          "data": {
            "text/plain": [
              "array([[8.15000000e+02, 2.89976000e+03, 3.98000000e+02, 4.03720000e+04,\n",
              "        1.34305000e+03, 1.42487100e+05],\n",
              "       [2.89976000e+03, 1.22189002e+04, 1.34305000e+03, 1.42487100e+05,\n",
              "        5.53160670e+03, 5.99831037e+05],\n",
              "       [3.98000000e+02, 1.34305000e+03, 3.98000000e+02, 2.08160000e+04,\n",
              "        1.34305000e+03, 6.97157000e+04],\n",
              "       [4.03720000e+04, 1.42487100e+05, 2.08160000e+04, 2.21696400e+06,\n",
              "        6.97157000e+04, 7.76858136e+06],\n",
              "       [1.34305000e+03, 5.53160670e+03, 1.34305000e+03, 6.97157000e+04,\n",
              "        5.53160670e+03, 2.88016654e+05],\n",
              "       [1.42487100e+05, 5.99831037e+05, 6.97157000e+04, 7.76858136e+06,\n",
              "        2.88016654e+05, 3.26353589e+07]])"
            ]
          },
          "metadata": {},
          "execution_count": 152
        }
      ]
    },
    {
      "cell_type": "code",
      "source": [
        "cov_mat = np.linalg.inv(XX)\n",
        "cov_mat"
      ],
      "metadata": {
        "colab": {
          "base_uri": "https://localhost:8080/"
        },
        "id": "yhKov9uiCPh6",
        "outputId": "0313e60f-0af8-4bee-857f-cba35fae00e4"
      },
      "execution_count": null,
      "outputs": [
        {
          "output_type": "execute_result",
          "data": {
            "text/plain": [
              "array([[ 9.17962734e-02, -2.19054968e-02, -6.25193580e-03,\n",
              "        -1.56107555e-03,  1.24154544e-03,  3.75832446e-04],\n",
              "       [-2.19054968e-02,  6.08011350e-03,  1.26316923e-03,\n",
              "         3.75880557e-04, -3.09750754e-04, -1.05551103e-04],\n",
              "       [-6.25193580e-03,  1.26316923e-03,  3.42076607e-02,\n",
              "        -2.56275418e-04, -8.14957316e-03,  6.39315875e-05],\n",
              "       [-1.56107555e-03,  3.75880557e-04, -2.56275418e-04,\n",
              "         3.31630877e-05,  6.43269272e-05, -8.00734713e-06],\n",
              "       [ 1.24154544e-03, -3.09750754e-04, -8.14957316e-03,\n",
              "         6.43269272e-05,  2.28254437e-03, -1.77749740e-05],\n",
              "       [ 3.75832446e-04, -1.05551103e-04,  6.39315875e-05,\n",
              "        -8.00734713e-06, -1.77749740e-05,  2.25613369e-06]])"
            ]
          },
          "metadata": {},
          "execution_count": 153
        }
      ]
    },
    {
      "cell_type": "code",
      "source": [
        "cov_mat.shape"
      ],
      "metadata": {
        "colab": {
          "base_uri": "https://localhost:8080/"
        },
        "id": "MTHtYx95MZxW",
        "outputId": "0c133b59-30f6-4d59-be8e-64d834d4e69a"
      },
      "execution_count": null,
      "outputs": [
        {
          "output_type": "execute_result",
          "data": {
            "text/plain": [
              "(6, 6)"
            ]
          },
          "metadata": {},
          "execution_count": 155
        }
      ]
    },
    {
      "cell_type": "code",
      "source": [
        "se_0 = np.sqrt(cov_mat[0,0]*mse)\n",
        "se_0"
      ],
      "metadata": {
        "colab": {
          "base_uri": "https://localhost:8080/"
        },
        "id": "ifwK7BRpYfnr",
        "outputId": "fafe5f16-3ab2-4b3b-f94c-5b5c0175f710"
      },
      "execution_count": null,
      "outputs": [
        {
          "output_type": "execute_result",
          "data": {
            "text/plain": [
              "0.32856462726389585"
            ]
          },
          "metadata": {},
          "execution_count": 195
        }
      ]
    },
    {
      "cell_type": "code",
      "source": [
        "t_0 = 4.4748 / se_0 # t통계량값\n",
        "t_0"
      ],
      "metadata": {
        "colab": {
          "base_uri": "https://localhost:8080/"
        },
        "id": "RFNzViItY4E9",
        "outputId": "99a31414-fcc3-433d-ff82-fa676f4b8e31"
      },
      "execution_count": null,
      "outputs": [
        {
          "output_type": "execute_result",
          "data": {
            "text/plain": [
              "13.619238434957698"
            ]
          },
          "metadata": {},
          "execution_count": 196
        }
      ]
    },
    {
      "cell_type": "code",
      "source": [
        "(1 - t_rv.cdf(13.619238434957698))*2 # p_value값"
      ],
      "metadata": {
        "colab": {
          "base_uri": "https://localhost:8080/"
        },
        "id": "_u4Ripu-v8gA",
        "outputId": "1cd3a981-a821-4919-c1bb-1be43c4ad097"
      },
      "execution_count": null,
      "outputs": [
        {
          "output_type": "execute_result",
          "data": {
            "text/plain": [
              "0.0"
            ]
          },
          "metadata": {},
          "execution_count": 205
        }
      ]
    },
    {
      "cell_type": "code",
      "source": [
        "se_1 = np.sqrt(cov_mat[1,1]*mse)\n",
        "se_1"
      ],
      "metadata": {
        "colab": {
          "base_uri": "https://localhost:8080/"
        },
        "id": "CjXv3R49MT8L",
        "outputId": "3c626402-e215-4864-ac5a-4316d8cb2692"
      },
      "execution_count": null,
      "outputs": [
        {
          "output_type": "execute_result",
          "data": {
            "text/plain": [
              "0.08455983441281212"
            ]
          },
          "metadata": {},
          "execution_count": 197
        }
      ]
    },
    {
      "cell_type": "code",
      "source": [
        "t_1 = 0.1154 / se_1 # t통계량값\n",
        "print(t_1)"
      ],
      "metadata": {
        "colab": {
          "base_uri": "https://localhost:8080/"
        },
        "id": "ZgGMrblaYw_P",
        "outputId": "17caf798-98d8-47e4-9922-7fe85909d3a2"
      },
      "execution_count": null,
      "outputs": [
        {
          "output_type": "stream",
          "name": "stdout",
          "text": [
            "1.3647141199050778\n"
          ]
        }
      ]
    },
    {
      "cell_type": "code",
      "source": [
        "(1 - t_rv.cdf(1.3647141199050778))*2 # p_value값"
      ],
      "metadata": {
        "colab": {
          "base_uri": "https://localhost:8080/"
        },
        "id": "Mfwifvhgvx1L",
        "outputId": "a1db68cf-1d28-4385-b43a-0c07e6d62143"
      },
      "execution_count": null,
      "outputs": [
        {
          "output_type": "execute_result",
          "data": {
            "text/plain": [
              "0.1727223669111866"
            ]
          },
          "metadata": {},
          "execution_count": 204
        }
      ]
    },
    {
      "cell_type": "markdown",
      "source": [
        "## * 𝑌=4.4748+0.1154𝑋−0.8449𝑊−0.0241𝑍+0.2208𝑋𝑊+0.0054𝑋𝑍\n",
        "## * 𝜃_(𝑋→𝑌)=0.1154+0.2208𝑊+0.0054𝑍\n"
      ],
      "metadata": {
        "id": "xKUtAW80HOnG"
      }
    },
    {
      "cell_type": "markdown",
      "source": [
        "----"
      ],
      "metadata": {
        "id": "ZzCqtnqExkRg"
      }
    },
    {
      "cell_type": "markdown",
      "source": [
        "# 2) model 3 (glbwarm data)"
      ],
      "metadata": {
        "id": "6e-YemAmxmI8"
      }
    },
    {
      "cell_type": "markdown",
      "source": [
        "![image.png](data:image/png;base64,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)"
      ],
      "metadata": {
        "id": "Hd6PKbtHgeMC"
      }
    },
    {
      "cell_type": "markdown",
      "source": [
        "X: Negative_Emotions(기후변화에 대해 부정적인 감정을 갖고 있는 정도)  \n",
        "Y: Government_Action(기후변화에 대한 정부의 조치를 지지하는 것)  \n",
        "W: Sex(성별) (여성 - 0, 남성 - 1)  \n",
        "Z: Age(나이)  \n"
      ],
      "metadata": {
        "id": "ElAVFOWpxmI-"
      }
    },
    {
      "cell_type": "code",
      "source": [
        "Y = data_2['govact']"
      ],
      "metadata": {
        "id": "fcbxGHjKf5Ji"
      },
      "execution_count": null,
      "outputs": []
    },
    {
      "cell_type": "code",
      "source": [
        "X = np.array(data_2['negemot'])\n",
        "W = np.array(data_2['sex'])\n",
        "Z = np.array(data_2['age'])"
      ],
      "metadata": {
        "id": "1bkjgwJ2f5Ji"
      },
      "execution_count": null,
      "outputs": []
    },
    {
      "cell_type": "code",
      "source": [
        "res_y = ols('govact ~ negemot + sex + age + negemot * sex + negemot * age + sex * age + negemot * age * sex', data=data_2).fit()\n",
        "res_y.summary()"
      ],
      "metadata": {
        "colab": {
          "base_uri": "https://localhost:8080/",
          "height": 609
        },
        "outputId": "813cfe45-bc3e-4a41-d7f9-1de9b3ca4892",
        "id": "v0njM99Ax3_y"
      },
      "execution_count": null,
      "outputs": [
        {
          "output_type": "execute_result",
          "data": {
            "text/plain": [
              "<class 'statsmodels.iolib.summary.Summary'>\n",
              "\"\"\"\n",
              "                            OLS Regression Results                            \n",
              "==============================================================================\n",
              "Dep. Variable:                 govact   R-squared:                       0.373\n",
              "Model:                            OLS   Adj. R-squared:                  0.367\n",
              "Method:                 Least Squares   F-statistic:                     68.44\n",
              "Date:                Wed, 01 Mar 2023   Prob (F-statistic):           1.84e-77\n",
              "Time:                        14:06:23   Log-Likelihood:                -1216.9\n",
              "No. Observations:                 815   AIC:                             2450.\n",
              "Df Residuals:                     807   BIC:                             2487.\n",
              "Df Model:                           7                                         \n",
              "Covariance Type:            nonrobust                                         \n",
              "===================================================================================\n",
              "                      coef    std err          t      P>|t|      [0.025      0.975]\n",
              "-----------------------------------------------------------------------------------\n",
              "Intercept           3.6733      0.485      7.581      0.000       2.722       4.624\n",
              "negemot             0.3120      0.122      2.555      0.011       0.072       0.552\n",
              "sex                 0.5985      0.669      0.895      0.371      -0.715       1.912\n",
              "age                -0.0071      0.010     -0.725      0.469      -0.026       0.012\n",
              "negemot:sex        -0.1413      0.173     -0.816      0.415      -0.481       0.199\n",
              "negemot:age         0.0012      0.002      0.491      0.623      -0.004       0.006\n",
              "sex:age            -0.0287      0.013     -2.260      0.024      -0.054      -0.004\n",
              "negemot:age:sex     0.0072      0.003      2.188      0.029       0.001       0.014\n",
              "==============================================================================\n",
              "Omnibus:                       10.987   Durbin-Watson:                   2.047\n",
              "Prob(Omnibus):                  0.004   Jarque-Bera (JB):               11.459\n",
              "Skew:                          -0.240   Prob(JB):                      0.00325\n",
              "Kurtosis:                       3.326   Cond. No.                     4.97e+03\n",
              "==============================================================================\n",
              "\n",
              "Notes:\n",
              "[1] Standard Errors assume that the covariance matrix of the errors is correctly specified.\n",
              "[2] The condition number is large, 4.97e+03. This might indicate that there are\n",
              "strong multicollinearity or other numerical problems.\n",
              "\"\"\""
            ],
            "text/html": [
              "<table class=\"simpletable\">\n",
              "<caption>OLS Regression Results</caption>\n",
              "<tr>\n",
              "  <th>Dep. Variable:</th>         <td>govact</td>      <th>  R-squared:         </th> <td>   0.373</td>\n",
              "</tr>\n",
              "<tr>\n",
              "  <th>Model:</th>                   <td>OLS</td>       <th>  Adj. R-squared:    </th> <td>   0.367</td>\n",
              "</tr>\n",
              "<tr>\n",
              "  <th>Method:</th>             <td>Least Squares</td>  <th>  F-statistic:       </th> <td>   68.44</td>\n",
              "</tr>\n",
              "<tr>\n",
              "  <th>Date:</th>             <td>Wed, 01 Mar 2023</td> <th>  Prob (F-statistic):</th> <td>1.84e-77</td>\n",
              "</tr>\n",
              "<tr>\n",
              "  <th>Time:</th>                 <td>14:06:23</td>     <th>  Log-Likelihood:    </th> <td> -1216.9</td>\n",
              "</tr>\n",
              "<tr>\n",
              "  <th>No. Observations:</th>      <td>   815</td>      <th>  AIC:               </th> <td>   2450.</td>\n",
              "</tr>\n",
              "<tr>\n",
              "  <th>Df Residuals:</th>          <td>   807</td>      <th>  BIC:               </th> <td>   2487.</td>\n",
              "</tr>\n",
              "<tr>\n",
              "  <th>Df Model:</th>              <td>     7</td>      <th>                     </th>     <td> </td>   \n",
              "</tr>\n",
              "<tr>\n",
              "  <th>Covariance Type:</th>      <td>nonrobust</td>    <th>                     </th>     <td> </td>   \n",
              "</tr>\n",
              "</table>\n",
              "<table class=\"simpletable\">\n",
              "<tr>\n",
              "         <td></td>            <th>coef</th>     <th>std err</th>      <th>t</th>      <th>P>|t|</th>  <th>[0.025</th>    <th>0.975]</th>  \n",
              "</tr>\n",
              "<tr>\n",
              "  <th>Intercept</th>       <td>    3.6733</td> <td>    0.485</td> <td>    7.581</td> <td> 0.000</td> <td>    2.722</td> <td>    4.624</td>\n",
              "</tr>\n",
              "<tr>\n",
              "  <th>negemot</th>         <td>    0.3120</td> <td>    0.122</td> <td>    2.555</td> <td> 0.011</td> <td>    0.072</td> <td>    0.552</td>\n",
              "</tr>\n",
              "<tr>\n",
              "  <th>sex</th>             <td>    0.5985</td> <td>    0.669</td> <td>    0.895</td> <td> 0.371</td> <td>   -0.715</td> <td>    1.912</td>\n",
              "</tr>\n",
              "<tr>\n",
              "  <th>age</th>             <td>   -0.0071</td> <td>    0.010</td> <td>   -0.725</td> <td> 0.469</td> <td>   -0.026</td> <td>    0.012</td>\n",
              "</tr>\n",
              "<tr>\n",
              "  <th>negemot:sex</th>     <td>   -0.1413</td> <td>    0.173</td> <td>   -0.816</td> <td> 0.415</td> <td>   -0.481</td> <td>    0.199</td>\n",
              "</tr>\n",
              "<tr>\n",
              "  <th>negemot:age</th>     <td>    0.0012</td> <td>    0.002</td> <td>    0.491</td> <td> 0.623</td> <td>   -0.004</td> <td>    0.006</td>\n",
              "</tr>\n",
              "<tr>\n",
              "  <th>sex:age</th>         <td>   -0.0287</td> <td>    0.013</td> <td>   -2.260</td> <td> 0.024</td> <td>   -0.054</td> <td>   -0.004</td>\n",
              "</tr>\n",
              "<tr>\n",
              "  <th>negemot:age:sex</th> <td>    0.0072</td> <td>    0.003</td> <td>    2.188</td> <td> 0.029</td> <td>    0.001</td> <td>    0.014</td>\n",
              "</tr>\n",
              "</table>\n",
              "<table class=\"simpletable\">\n",
              "<tr>\n",
              "  <th>Omnibus:</th>       <td>10.987</td> <th>  Durbin-Watson:     </th> <td>   2.047</td>\n",
              "</tr>\n",
              "<tr>\n",
              "  <th>Prob(Omnibus):</th> <td> 0.004</td> <th>  Jarque-Bera (JB):  </th> <td>  11.459</td>\n",
              "</tr>\n",
              "<tr>\n",
              "  <th>Skew:</th>          <td>-0.240</td> <th>  Prob(JB):          </th> <td> 0.00325</td>\n",
              "</tr>\n",
              "<tr>\n",
              "  <th>Kurtosis:</th>      <td> 3.326</td> <th>  Cond. No.          </th> <td>4.97e+03</td>\n",
              "</tr>\n",
              "</table><br/><br/>Notes:<br/>[1] Standard Errors assume that the covariance matrix of the errors is correctly specified.<br/>[2] The condition number is large, 4.97e+03. This might indicate that there are<br/>strong multicollinearity or other numerical problems."
            ]
          },
          "metadata": {},
          "execution_count": 38
        }
      ]
    },
    {
      "cell_type": "code",
      "source": [
        "res_y.params"
      ],
      "metadata": {
        "colab": {
          "base_uri": "https://localhost:8080/"
        },
        "outputId": "e7ba104b-c03e-4e60-b5be-062391c6800d",
        "id": "6cLxBs40x3_y"
      },
      "execution_count": null,
      "outputs": [
        {
          "output_type": "execute_result",
          "data": {
            "text/plain": [
              "Intercept          3.673337\n",
              "negemot            0.311980\n",
              "sex                0.598457\n",
              "age               -0.007108\n",
              "negemot:sex       -0.141264\n",
              "negemot:age        0.001223\n",
              "sex:age           -0.028734\n",
              "negemot:age:sex    0.007207\n",
              "dtype: float64"
            ]
          },
          "metadata": {},
          "execution_count": 39
        }
      ]
    },
    {
      "cell_type": "markdown",
      "source": [
        "* R^2 & F"
      ],
      "metadata": {
        "id": "yw7aEX2khXQ4"
      }
    },
    {
      "cell_type": "code",
      "source": [
        "TSS = ((Y-Y.mean())**2).sum()\n",
        "SSR = ((Y_hat-Y.mean())**2).sum()\n",
        "SSE = ((Y-Y_hat)**2).sum()"
      ],
      "metadata": {
        "id": "vf1DQvmnhXQ5"
      },
      "execution_count": null,
      "outputs": []
    },
    {
      "cell_type": "code",
      "source": [
        "R = 1 - SSE / TSS\n",
        "print(R)"
      ],
      "metadata": {
        "colab": {
          "base_uri": "https://localhost:8080/"
        },
        "outputId": "aef3b5dd-1ce0-4fae-c27c-eb61c46ebb68",
        "id": "g31_AZk5hXQ5"
      },
      "execution_count": null,
      "outputs": [
        {
          "output_type": "stream",
          "name": "stdout",
          "text": [
            "0.3724956708599062\n"
          ]
        }
      ]
    },
    {
      "cell_type": "code",
      "source": [
        "F = (SSR/7) / (SSE/807)\n",
        "print(F)"
      ],
      "metadata": {
        "colab": {
          "base_uri": "https://localhost:8080/"
        },
        "outputId": "6a0632ba-5b1a-4b1c-b5b8-b9ee7e919a47",
        "id": "P1Q98l27hXQ5"
      },
      "execution_count": null,
      "outputs": [
        {
          "output_type": "stream",
          "name": "stdout",
          "text": [
            "68.10581672739143\n"
          ]
        }
      ]
    },
    {
      "cell_type": "code",
      "source": [
        "f_rv = f(7, 807)"
      ],
      "metadata": {
        "id": "IOoJGgFIhXQ5"
      },
      "execution_count": null,
      "outputs": []
    },
    {
      "cell_type": "code",
      "source": [
        "1 - f_rv.cdf(F) # F-value "
      ],
      "metadata": {
        "colab": {
          "base_uri": "https://localhost:8080/"
        },
        "outputId": "949d3805-e1fb-498b-b31c-bb57ff0b680b",
        "id": "v1YmNg97hXQ5"
      },
      "execution_count": null,
      "outputs": [
        {
          "output_type": "execute_result",
          "data": {
            "text/plain": [
              "1.1102230246251565e-16"
            ]
          },
          "metadata": {},
          "execution_count": 55
        }
      ]
    },
    {
      "cell_type": "markdown",
      "source": [
        "## * 𝑌=3.6733+0.3120𝑋+0.5985𝑊−0.0071𝑍−0.1413𝑋𝑊+0.0012𝑋𝑍−0.0287𝑊𝑍+0.0072𝑋𝑊𝑍 \n",
        "## * 𝜃_(𝑋→𝑌)=0.3120−0.1413𝑊+0.0012𝑍+0.0072𝑊𝑍"
      ],
      "metadata": {
        "id": "hw0KbUgFyETJ"
      }
    },
    {
      "cell_type": "markdown",
      "source": [
        "----"
      ],
      "metadata": {
        "id": "lqOSzUjzyVDs"
      }
    },
    {
      "cell_type": "markdown",
      "source": [
        "# 3) model 16(bike data)"
      ],
      "metadata": {
        "id": "ckiKOaaQ0XcF"
      }
    },
    {
      "cell_type": "markdown",
      "source": [
        "![image.png](data:image/png;base64,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)"
      ],
      "metadata": {
        "id": "Hezqbu3503W5"
      }
    },
    {
      "cell_type": "markdown",
      "source": [
        "X: hour(시간)  \n",
        "M: temp(기온)  \n",
        "Y: rental_cnt(자전거 렌탈횟수)  \n",
        "W: weathersit  \n",
        "Z: hum(습도)\n",
        "\n",
        "---- \n",
        "weathersit\n",
        "* 1: Clear, Few clouds, Partly cloudy, Partly cloudy  \n",
        "* 2: Mist + Cloudy, Mist + Broken clouds, Mist + Few clouds, Mist  \n",
        "* 3: Light Snow, Light Rain + Thunderstorm + Scattered clouds, Light Rain + Scattered clouds  \n",
        "* 4: Heavy Rain + Ice Pallets + Thunderstorm + Mist, Snow + Fog  \n"
      ],
      "metadata": {
        "id": "ClyncDQN2O7x"
      }
    },
    {
      "cell_type": "code",
      "source": [
        "data_16 = pd.read_csv('/content/Drive/MyDrive/논문/model_16_bike.csv')\n",
        "data_16.head()"
      ],
      "metadata": {
        "colab": {
          "base_uri": "https://localhost:8080/",
          "height": 206
        },
        "outputId": "276b7563-1232-4d67-fd2e-047c3341c0a1",
        "id": "3Hab7j7nTHpF"
      },
      "execution_count": null,
      "outputs": [
        {
          "output_type": "execute_result",
          "data": {
            "text/plain": [
              "       dteday  hr  weathersit  temp   atemp   hum  windspeed  casual       cnt\n",
              "0  2011-01-01   1           1  0.22  0.2727  0.80        0.0       8  0.040000\n",
              "1  2011-01-01   2           1  0.22  0.2727  0.80        0.0       5  0.031795\n",
              "2  2011-01-01   4           1  0.24  0.2879  0.75        0.0       0  0.000000\n",
              "3  2011-01-01   6           1  0.22  0.2727  0.80        0.0       2  0.001026\n",
              "4  2011-01-01   7           1  0.20  0.2576  0.86        0.0       1  0.002051"
            ],
            "text/html": [
              "\n",
              "  <div id=\"df-1aa0061b-3107-4b65-8150-2d8cbf7500fc\">\n",
              "    <div class=\"colab-df-container\">\n",
              "      <div>\n",
              "<style scoped>\n",
              "    .dataframe tbody tr th:only-of-type {\n",
              "        vertical-align: middle;\n",
              "    }\n",
              "\n",
              "    .dataframe tbody tr th {\n",
              "        vertical-align: top;\n",
              "    }\n",
              "\n",
              "    .dataframe thead th {\n",
              "        text-align: right;\n",
              "    }\n",
              "</style>\n",
              "<table border=\"1\" class=\"dataframe\">\n",
              "  <thead>\n",
              "    <tr style=\"text-align: right;\">\n",
              "      <th></th>\n",
              "      <th>dteday</th>\n",
              "      <th>hr</th>\n",
              "      <th>weathersit</th>\n",
              "      <th>temp</th>\n",
              "      <th>atemp</th>\n",
              "      <th>hum</th>\n",
              "      <th>windspeed</th>\n",
              "      <th>casual</th>\n",
              "      <th>cnt</th>\n",
              "    </tr>\n",
              "  </thead>\n",
              "  <tbody>\n",
              "    <tr>\n",
              "      <th>0</th>\n",
              "      <td>2011-01-01</td>\n",
              "      <td>1</td>\n",
              "      <td>1</td>\n",
              "      <td>0.22</td>\n",
              "      <td>0.2727</td>\n",
              "      <td>0.80</td>\n",
              "      <td>0.0</td>\n",
              "      <td>8</td>\n",
              "      <td>0.040000</td>\n",
              "    </tr>\n",
              "    <tr>\n",
              "      <th>1</th>\n",
              "      <td>2011-01-01</td>\n",
              "      <td>2</td>\n",
              "      <td>1</td>\n",
              "      <td>0.22</td>\n",
              "      <td>0.2727</td>\n",
              "      <td>0.80</td>\n",
              "      <td>0.0</td>\n",
              "      <td>5</td>\n",
              "      <td>0.031795</td>\n",
              "    </tr>\n",
              "    <tr>\n",
              "      <th>2</th>\n",
              "      <td>2011-01-01</td>\n",
              "      <td>4</td>\n",
              "      <td>1</td>\n",
              "      <td>0.24</td>\n",
              "      <td>0.2879</td>\n",
              "      <td>0.75</td>\n",
              "      <td>0.0</td>\n",
              "      <td>0</td>\n",
              "      <td>0.000000</td>\n",
              "    </tr>\n",
              "    <tr>\n",
              "      <th>3</th>\n",
              "      <td>2011-01-01</td>\n",
              "      <td>6</td>\n",
              "      <td>1</td>\n",
              "      <td>0.22</td>\n",
              "      <td>0.2727</td>\n",
              "      <td>0.80</td>\n",
              "      <td>0.0</td>\n",
              "      <td>2</td>\n",
              "      <td>0.001026</td>\n",
              "    </tr>\n",
              "    <tr>\n",
              "      <th>4</th>\n",
              "      <td>2011-01-01</td>\n",
              "      <td>7</td>\n",
              "      <td>1</td>\n",
              "      <td>0.20</td>\n",
              "      <td>0.2576</td>\n",
              "      <td>0.86</td>\n",
              "      <td>0.0</td>\n",
              "      <td>1</td>\n",
              "      <td>0.002051</td>\n",
              "    </tr>\n",
              "  </tbody>\n",
              "</table>\n",
              "</div>\n",
              "      <button class=\"colab-df-convert\" onclick=\"convertToInteractive('df-1aa0061b-3107-4b65-8150-2d8cbf7500fc')\"\n",
              "              title=\"Convert this dataframe to an interactive table.\"\n",
              "              style=\"display:none;\">\n",
              "        \n",
              "  <svg xmlns=\"http://www.w3.org/2000/svg\" height=\"24px\"viewBox=\"0 0 24 24\"\n",
              "       width=\"24px\">\n",
              "    <path d=\"M0 0h24v24H0V0z\" fill=\"none\"/>\n",
              "    <path d=\"M18.56 5.44l.94 2.06.94-2.06 2.06-.94-2.06-.94-.94-2.06-.94 2.06-2.06.94zm-11 1L8.5 8.5l.94-2.06 2.06-.94-2.06-.94L8.5 2.5l-.94 2.06-2.06.94zm10 10l.94 2.06.94-2.06 2.06-.94-2.06-.94-.94-2.06-.94 2.06-2.06.94z\"/><path d=\"M17.41 7.96l-1.37-1.37c-.4-.4-.92-.59-1.43-.59-.52 0-1.04.2-1.43.59L10.3 9.45l-7.72 7.72c-.78.78-.78 2.05 0 2.83L4 21.41c.39.39.9.59 1.41.59.51 0 1.02-.2 1.41-.59l7.78-7.78 2.81-2.81c.8-.78.8-2.07 0-2.86zM5.41 20L4 18.59l7.72-7.72 1.47 1.35L5.41 20z\"/>\n",
              "  </svg>\n",
              "      </button>\n",
              "      \n",
              "  <style>\n",
              "    .colab-df-container {\n",
              "      display:flex;\n",
              "      flex-wrap:wrap;\n",
              "      gap: 12px;\n",
              "    }\n",
              "\n",
              "    .colab-df-convert {\n",
              "      background-color: #E8F0FE;\n",
              "      border: none;\n",
              "      border-radius: 50%;\n",
              "      cursor: pointer;\n",
              "      display: none;\n",
              "      fill: #1967D2;\n",
              "      height: 32px;\n",
              "      padding: 0 0 0 0;\n",
              "      width: 32px;\n",
              "    }\n",
              "\n",
              "    .colab-df-convert:hover {\n",
              "      background-color: #E2EBFA;\n",
              "      box-shadow: 0px 1px 2px rgba(60, 64, 67, 0.3), 0px 1px 3px 1px rgba(60, 64, 67, 0.15);\n",
              "      fill: #174EA6;\n",
              "    }\n",
              "\n",
              "    [theme=dark] .colab-df-convert {\n",
              "      background-color: #3B4455;\n",
              "      fill: #D2E3FC;\n",
              "    }\n",
              "\n",
              "    [theme=dark] .colab-df-convert:hover {\n",
              "      background-color: #434B5C;\n",
              "      box-shadow: 0px 1px 3px 1px rgba(0, 0, 0, 0.15);\n",
              "      filter: drop-shadow(0px 1px 2px rgba(0, 0, 0, 0.3));\n",
              "      fill: #FFFFFF;\n",
              "    }\n",
              "  </style>\n",
              "\n",
              "      <script>\n",
              "        const buttonEl =\n",
              "          document.querySelector('#df-1aa0061b-3107-4b65-8150-2d8cbf7500fc button.colab-df-convert');\n",
              "        buttonEl.style.display =\n",
              "          google.colab.kernel.accessAllowed ? 'block' : 'none';\n",
              "\n",
              "        async function convertToInteractive(key) {\n",
              "          const element = document.querySelector('#df-1aa0061b-3107-4b65-8150-2d8cbf7500fc');\n",
              "          const dataTable =\n",
              "            await google.colab.kernel.invokeFunction('convertToInteractive',\n",
              "                                                     [key], {});\n",
              "          if (!dataTable) return;\n",
              "\n",
              "          const docLinkHtml = 'Like what you see? Visit the ' +\n",
              "            '<a target=\"_blank\" href=https://colab.research.google.com/notebooks/data_table.ipynb>data table notebook</a>'\n",
              "            + ' to learn more about interactive tables.';\n",
              "          element.innerHTML = '';\n",
              "          dataTable['output_type'] = 'display_data';\n",
              "          await google.colab.output.renderOutput(dataTable, element);\n",
              "          const docLink = document.createElement('div');\n",
              "          docLink.innerHTML = docLinkHtml;\n",
              "          element.appendChild(docLink);\n",
              "        }\n",
              "      </script>\n",
              "    </div>\n",
              "  </div>\n",
              "  "
            ]
          },
          "metadata": {},
          "execution_count": 56
        }
      ]
    },
    {
      "cell_type": "code",
      "source": [
        "X = data_16['hr']\n",
        "M = data_16['temp']\n",
        "Y = data_16['cnt']\n",
        "W = data_16['weathersit']\n",
        "Z = data_16['hum']"
      ],
      "metadata": {
        "id": "BboZSdKVh3SL"
      },
      "execution_count": null,
      "outputs": []
    },
    {
      "cell_type": "markdown",
      "source": [
        "* M (temp)"
      ],
      "metadata": {
        "id": "UqbiQXQaTHpH"
      }
    },
    {
      "cell_type": "code",
      "source": [
        "res_m = ols('temp ~ hr', data=data_16).fit()\n",
        "res_m.summary()"
      ],
      "metadata": {
        "colab": {
          "base_uri": "https://localhost:8080/",
          "height": 447
        },
        "outputId": "e1cf3d8d-8d3c-408a-a314-d8e84c12826d",
        "id": "ZI914GJWTHpH"
      },
      "execution_count": null,
      "outputs": [
        {
          "output_type": "execute_result",
          "data": {
            "text/plain": [
              "<class 'statsmodels.iolib.summary.Summary'>\n",
              "\"\"\"\n",
              "                            OLS Regression Results                            \n",
              "==============================================================================\n",
              "Dep. Variable:                   temp   R-squared:                       0.020\n",
              "Model:                            OLS   Adj. R-squared:                  0.020\n",
              "Method:                 Least Squares   F-statistic:                     229.0\n",
              "Date:                Mon, 27 Feb 2023   Prob (F-statistic):           3.24e-51\n",
              "Time:                        19:42:51   Log-Likelihood:                 2601.8\n",
              "No. Observations:               10948   AIC:                            -5200.\n",
              "Df Residuals:                   10946   BIC:                            -5185.\n",
              "Df Model:                           1                                         \n",
              "Covariance Type:            nonrobust                                         \n",
              "==============================================================================\n",
              "                 coef    std err          t      P>|t|      [0.025      0.975]\n",
              "------------------------------------------------------------------------------\n",
              "Intercept      0.4520      0.004    127.045      0.000       0.445       0.459\n",
              "hr             0.0040      0.000     15.133      0.000       0.003       0.005\n",
              "==============================================================================\n",
              "Omnibus:                     2218.809   Durbin-Watson:                   0.040\n",
              "Prob(Omnibus):                  0.000   Jarque-Bera (JB):              437.719\n",
              "Skew:                          -0.033   Prob(JB):                     8.93e-96\n",
              "Kurtosis:                       2.023   Cond. No.                         26.4\n",
              "==============================================================================\n",
              "\n",
              "Notes:\n",
              "[1] Standard Errors assume that the covariance matrix of the errors is correctly specified.\n",
              "\"\"\""
            ],
            "text/html": [
              "<table class=\"simpletable\">\n",
              "<caption>OLS Regression Results</caption>\n",
              "<tr>\n",
              "  <th>Dep. Variable:</th>          <td>temp</td>       <th>  R-squared:         </th> <td>   0.020</td>\n",
              "</tr>\n",
              "<tr>\n",
              "  <th>Model:</th>                   <td>OLS</td>       <th>  Adj. R-squared:    </th> <td>   0.020</td>\n",
              "</tr>\n",
              "<tr>\n",
              "  <th>Method:</th>             <td>Least Squares</td>  <th>  F-statistic:       </th> <td>   229.0</td>\n",
              "</tr>\n",
              "<tr>\n",
              "  <th>Date:</th>             <td>Mon, 27 Feb 2023</td> <th>  Prob (F-statistic):</th> <td>3.24e-51</td>\n",
              "</tr>\n",
              "<tr>\n",
              "  <th>Time:</th>                 <td>19:42:51</td>     <th>  Log-Likelihood:    </th> <td>  2601.8</td>\n",
              "</tr>\n",
              "<tr>\n",
              "  <th>No. Observations:</th>      <td> 10948</td>      <th>  AIC:               </th> <td>  -5200.</td>\n",
              "</tr>\n",
              "<tr>\n",
              "  <th>Df Residuals:</th>          <td> 10946</td>      <th>  BIC:               </th> <td>  -5185.</td>\n",
              "</tr>\n",
              "<tr>\n",
              "  <th>Df Model:</th>              <td>     1</td>      <th>                     </th>     <td> </td>   \n",
              "</tr>\n",
              "<tr>\n",
              "  <th>Covariance Type:</th>      <td>nonrobust</td>    <th>                     </th>     <td> </td>   \n",
              "</tr>\n",
              "</table>\n",
              "<table class=\"simpletable\">\n",
              "<tr>\n",
              "      <td></td>         <th>coef</th>     <th>std err</th>      <th>t</th>      <th>P>|t|</th>  <th>[0.025</th>    <th>0.975]</th>  \n",
              "</tr>\n",
              "<tr>\n",
              "  <th>Intercept</th> <td>    0.4520</td> <td>    0.004</td> <td>  127.045</td> <td> 0.000</td> <td>    0.445</td> <td>    0.459</td>\n",
              "</tr>\n",
              "<tr>\n",
              "  <th>hr</th>        <td>    0.0040</td> <td>    0.000</td> <td>   15.133</td> <td> 0.000</td> <td>    0.003</td> <td>    0.005</td>\n",
              "</tr>\n",
              "</table>\n",
              "<table class=\"simpletable\">\n",
              "<tr>\n",
              "  <th>Omnibus:</th>       <td>2218.809</td> <th>  Durbin-Watson:     </th> <td>   0.040</td>\n",
              "</tr>\n",
              "<tr>\n",
              "  <th>Prob(Omnibus):</th>  <td> 0.000</td>  <th>  Jarque-Bera (JB):  </th> <td> 437.719</td>\n",
              "</tr>\n",
              "<tr>\n",
              "  <th>Skew:</th>           <td>-0.033</td>  <th>  Prob(JB):          </th> <td>8.93e-96</td>\n",
              "</tr>\n",
              "<tr>\n",
              "  <th>Kurtosis:</th>       <td> 2.023</td>  <th>  Cond. No.          </th> <td>    26.4</td>\n",
              "</tr>\n",
              "</table><br/><br/>Notes:<br/>[1] Standard Errors assume that the covariance matrix of the errors is correctly specified."
            ]
          },
          "metadata": {},
          "execution_count": 219
        }
      ]
    },
    {
      "cell_type": "code",
      "source": [
        "res_m.params"
      ],
      "metadata": {
        "colab": {
          "base_uri": "https://localhost:8080/"
        },
        "outputId": "8591cce7-eb2e-425a-fd90-adf1c452e108",
        "id": "IWYRjRvyTHpI"
      },
      "execution_count": null,
      "outputs": [
        {
          "output_type": "execute_result",
          "data": {
            "text/plain": [
              "Intercept    0.452000\n",
              "hr           0.003991\n",
              "dtype: float64"
            ]
          },
          "metadata": {},
          "execution_count": 220
        }
      ]
    },
    {
      "cell_type": "markdown",
      "source": [
        "* Y(rental_cnt)"
      ],
      "metadata": {
        "id": "s2IBS63PTHpI"
      }
    },
    {
      "cell_type": "code",
      "source": [
        "res_y = ols('cnt ~ hr + temp + weathersit + hum + temp * weathersit + temp * hum', data=data_16).fit()\n",
        "res_y.summary()"
      ],
      "metadata": {
        "colab": {
          "base_uri": "https://localhost:8080/",
          "height": 549
        },
        "outputId": "11433eca-73ef-4600-fc6a-4ea5affe5157",
        "id": "TM5yze8OTHpI"
      },
      "execution_count": null,
      "outputs": [
        {
          "output_type": "execute_result",
          "data": {
            "text/plain": [
              "<class 'statsmodels.iolib.summary.Summary'>\n",
              "\"\"\"\n",
              "                            OLS Regression Results                            \n",
              "==============================================================================\n",
              "Dep. Variable:                    cnt   R-squared:                       0.332\n",
              "Model:                            OLS   Adj. R-squared:                  0.332\n",
              "Method:                 Least Squares   F-statistic:                     907.4\n",
              "Date:                Sat, 11 Feb 2023   Prob (F-statistic):               0.00\n",
              "Time:                        11:49:35   Log-Likelihood:                 5019.8\n",
              "No. Observations:               10948   AIC:                        -1.003e+04\n",
              "Df Residuals:                   10941   BIC:                            -9974.\n",
              "Df Model:                           6                                         \n",
              "Covariance Type:            nonrobust                                         \n",
              "===================================================================================\n",
              "                      coef    std err          t      P>|t|      [0.025      0.975]\n",
              "-----------------------------------------------------------------------------------\n",
              "Intercept          -0.0745      0.014     -5.146      0.000      -0.103      -0.046\n",
              "hr                  0.0075      0.000     33.547      0.000       0.007       0.008\n",
              "temp                0.6419      0.027     24.014      0.000       0.589       0.694\n",
              "weathersit         -0.0311      0.007     -4.247      0.000      -0.045      -0.017\n",
              "hum                 0.1165      0.025      4.729      0.000       0.068       0.165\n",
              "temp:weathersit     0.0528      0.014      3.715      0.000       0.025       0.081\n",
              "temp:hum           -0.6545      0.046    -14.156      0.000      -0.745      -0.564\n",
              "==============================================================================\n",
              "Omnibus:                     2780.466   Durbin-Watson:                   0.843\n",
              "Prob(Omnibus):                  0.000   Jarque-Bera (JB):             6718.625\n",
              "Skew:                           1.410   Prob(JB):                         0.00\n",
              "Kurtosis:                       5.603   Cond. No.                         528.\n",
              "==============================================================================\n",
              "\n",
              "Notes:\n",
              "[1] Standard Errors assume that the covariance matrix of the errors is correctly specified.\n",
              "\"\"\""
            ],
            "text/html": [
              "<table class=\"simpletable\">\n",
              "<caption>OLS Regression Results</caption>\n",
              "<tr>\n",
              "  <th>Dep. Variable:</th>           <td>cnt</td>       <th>  R-squared:         </th>  <td>   0.332</td> \n",
              "</tr>\n",
              "<tr>\n",
              "  <th>Model:</th>                   <td>OLS</td>       <th>  Adj. R-squared:    </th>  <td>   0.332</td> \n",
              "</tr>\n",
              "<tr>\n",
              "  <th>Method:</th>             <td>Least Squares</td>  <th>  F-statistic:       </th>  <td>   907.4</td> \n",
              "</tr>\n",
              "<tr>\n",
              "  <th>Date:</th>             <td>Sat, 11 Feb 2023</td> <th>  Prob (F-statistic):</th>   <td>  0.00</td>  \n",
              "</tr>\n",
              "<tr>\n",
              "  <th>Time:</th>                 <td>11:49:35</td>     <th>  Log-Likelihood:    </th>  <td>  5019.8</td> \n",
              "</tr>\n",
              "<tr>\n",
              "  <th>No. Observations:</th>      <td> 10948</td>      <th>  AIC:               </th> <td>-1.003e+04</td>\n",
              "</tr>\n",
              "<tr>\n",
              "  <th>Df Residuals:</th>          <td> 10941</td>      <th>  BIC:               </th>  <td>  -9974.</td> \n",
              "</tr>\n",
              "<tr>\n",
              "  <th>Df Model:</th>              <td>     6</td>      <th>                     </th>      <td> </td>    \n",
              "</tr>\n",
              "<tr>\n",
              "  <th>Covariance Type:</th>      <td>nonrobust</td>    <th>                     </th>      <td> </td>    \n",
              "</tr>\n",
              "</table>\n",
              "<table class=\"simpletable\">\n",
              "<tr>\n",
              "         <td></td>            <th>coef</th>     <th>std err</th>      <th>t</th>      <th>P>|t|</th>  <th>[0.025</th>    <th>0.975]</th>  \n",
              "</tr>\n",
              "<tr>\n",
              "  <th>Intercept</th>       <td>   -0.0745</td> <td>    0.014</td> <td>   -5.146</td> <td> 0.000</td> <td>   -0.103</td> <td>   -0.046</td>\n",
              "</tr>\n",
              "<tr>\n",
              "  <th>hr</th>              <td>    0.0075</td> <td>    0.000</td> <td>   33.547</td> <td> 0.000</td> <td>    0.007</td> <td>    0.008</td>\n",
              "</tr>\n",
              "<tr>\n",
              "  <th>temp</th>            <td>    0.6419</td> <td>    0.027</td> <td>   24.014</td> <td> 0.000</td> <td>    0.589</td> <td>    0.694</td>\n",
              "</tr>\n",
              "<tr>\n",
              "  <th>weathersit</th>      <td>   -0.0311</td> <td>    0.007</td> <td>   -4.247</td> <td> 0.000</td> <td>   -0.045</td> <td>   -0.017</td>\n",
              "</tr>\n",
              "<tr>\n",
              "  <th>hum</th>             <td>    0.1165</td> <td>    0.025</td> <td>    4.729</td> <td> 0.000</td> <td>    0.068</td> <td>    0.165</td>\n",
              "</tr>\n",
              "<tr>\n",
              "  <th>temp:weathersit</th> <td>    0.0528</td> <td>    0.014</td> <td>    3.715</td> <td> 0.000</td> <td>    0.025</td> <td>    0.081</td>\n",
              "</tr>\n",
              "<tr>\n",
              "  <th>temp:hum</th>        <td>   -0.6545</td> <td>    0.046</td> <td>  -14.156</td> <td> 0.000</td> <td>   -0.745</td> <td>   -0.564</td>\n",
              "</tr>\n",
              "</table>\n",
              "<table class=\"simpletable\">\n",
              "<tr>\n",
              "  <th>Omnibus:</th>       <td>2780.466</td> <th>  Durbin-Watson:     </th> <td>   0.843</td>\n",
              "</tr>\n",
              "<tr>\n",
              "  <th>Prob(Omnibus):</th>  <td> 0.000</td>  <th>  Jarque-Bera (JB):  </th> <td>6718.625</td>\n",
              "</tr>\n",
              "<tr>\n",
              "  <th>Skew:</th>           <td> 1.410</td>  <th>  Prob(JB):          </th> <td>    0.00</td>\n",
              "</tr>\n",
              "<tr>\n",
              "  <th>Kurtosis:</th>       <td> 5.603</td>  <th>  Cond. No.          </th> <td>    528.</td>\n",
              "</tr>\n",
              "</table><br/><br/>Notes:<br/>[1] Standard Errors assume that the covariance matrix of the errors is correctly specified."
            ]
          },
          "metadata": {},
          "execution_count": 6
        }
      ]
    },
    {
      "cell_type": "code",
      "source": [
        "res_y.params"
      ],
      "metadata": {
        "colab": {
          "base_uri": "https://localhost:8080/"
        },
        "outputId": "96671376-0e6e-4dc6-a3fa-6604d35b9495",
        "id": "lC8FxKfbTHpJ"
      },
      "execution_count": null,
      "outputs": [
        {
          "output_type": "execute_result",
          "data": {
            "text/plain": [
              "Intercept         -0.074501\n",
              "hr                 0.007507\n",
              "temp               0.641873\n",
              "weathersit        -0.031087\n",
              "hum                0.116519\n",
              "temp:weathersit    0.052847\n",
              "temp:hum          -0.654486\n",
              "dtype: float64"
            ]
          },
          "metadata": {},
          "execution_count": 7
        }
      ]
    },
    {
      "cell_type": "code",
      "source": [
        "Y_hat = -0.0745+0.0075*X+0.6419*M-0.0311*W+0.1165*Z+0.0528*M*W-0.6545*M*Z"
      ],
      "metadata": {
        "id": "e7rcLFOLiFL2"
      },
      "execution_count": null,
      "outputs": []
    },
    {
      "cell_type": "markdown",
      "source": [
        "* R^2 & F"
      ],
      "metadata": {
        "id": "hI98zEtDiCC-"
      }
    },
    {
      "cell_type": "code",
      "source": [
        "TSS = ((Y-Y.mean())**2).sum()\n",
        "SSR = ((Y_hat-Y.mean())**2).sum()\n",
        "SSE = ((Y-Y_hat)**2).sum()"
      ],
      "metadata": {
        "id": "1sRy_bJsiCC_"
      },
      "execution_count": null,
      "outputs": []
    },
    {
      "cell_type": "code",
      "source": [
        "R = 1 - SSE / TSS\n",
        "print(R)"
      ],
      "metadata": {
        "colab": {
          "base_uri": "https://localhost:8080/"
        },
        "outputId": "cfd02f20-3c54-4ab2-c010-cf9e8583b8d0",
        "id": "_e-Q4aSpiCC_"
      },
      "execution_count": null,
      "outputs": [
        {
          "output_type": "stream",
          "name": "stdout",
          "text": [
            "0.33228100159467533\n"
          ]
        }
      ]
    },
    {
      "cell_type": "code",
      "source": [
        "F = (SSR/6) / (SSE/10941)\n",
        "print(F)"
      ],
      "metadata": {
        "colab": {
          "base_uri": "https://localhost:8080/"
        },
        "outputId": "53c27970-45ab-4e33-f990-3701c3e958e0",
        "id": "m_IcL34WiCC_"
      },
      "execution_count": null,
      "outputs": [
        {
          "output_type": "stream",
          "name": "stdout",
          "text": [
            "906.9571410662246\n"
          ]
        }
      ]
    },
    {
      "cell_type": "code",
      "source": [
        "f_rv = f(6, 10941)"
      ],
      "metadata": {
        "id": "2-cY_vOjiCC_"
      },
      "execution_count": null,
      "outputs": []
    },
    {
      "cell_type": "code",
      "source": [
        "1 - f_rv.cdf(F) # F-value "
      ],
      "metadata": {
        "colab": {
          "base_uri": "https://localhost:8080/"
        },
        "outputId": "ffb5fc19-a21c-457f-d323-6663bddb48f5",
        "id": "QCkxrm9YiCC_"
      },
      "execution_count": null,
      "outputs": [
        {
          "output_type": "execute_result",
          "data": {
            "text/plain": [
              "1.1102230246251565e-16"
            ]
          },
          "metadata": {},
          "execution_count": 66
        }
      ]
    },
    {
      "cell_type": "markdown",
      "source": [
        "## * 𝑀=0.4520+0.0040𝑋\n",
        "## * 𝑌=−0.0745+0.0075𝑋+0.6419𝑀−0.0311𝑊+0.1165𝑍+0.0528𝑀𝑊−0.6545𝑀𝑍\n",
        "\n"
      ],
      "metadata": {
        "id": "lBvdPf3fTHpJ"
      }
    },
    {
      "cell_type": "markdown",
      "source": [
        "----"
      ],
      "metadata": {
        "id": "HBbJLZDi0Uxt"
      }
    },
    {
      "cell_type": "markdown",
      "source": [
        "# 4) model 11(binladen data)\n",
        "\n"
      ],
      "metadata": {
        "id": "Gb87li2Lc0IX"
      }
    },
    {
      "cell_type": "markdown",
      "source": [
        "![image.png](data:image/png;base64,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)"
      ],
      "metadata": {
        "id": "2xIk23KM8RoK"
      }
    },
    {
      "cell_type": "markdown",
      "source": [
        "X : news_content(0: 빈라덴죽음 발표 전, 1: 빈라덴죽음 들었을 때)  \n",
        "M : stereo(미국의 사는 무슬림에 대한 부정적인 고정관념에 대한 지지정도 평균)  \n",
        "Y : mcivil(미국의 사는 무슬림의 자유제한 지지정도 평균)  \n",
        "W : age(나이) ex) 7.5 -> 75살   \n",
        "Z : sex(성별, 0: female, 1: male) \n",
        "\n"
      ],
      "metadata": {
        "id": "JoJ6C1QCdNbL"
      }
    },
    {
      "cell_type": "code",
      "source": [
        "data_11 = pd.read_csv('/content/Drive/MyDrive/논문/model_11.csv')\n",
        "data_11.head()"
      ],
      "metadata": {
        "colab": {
          "base_uri": "https://localhost:8080/",
          "height": 206
        },
        "id": "aA3psh0KyZOf",
        "outputId": "2626fccd-d625-4801-a35a-7503494cf275"
      },
      "execution_count": null,
      "outputs": [
        {
          "output_type": "execute_result",
          "data": {
            "text/plain": [
              "   news_content  rthreat  stereo  mcivil  age  ideo  sex\n",
              "0             0     3.00     2.8     2.8  7.5     8    0\n",
              "1             1     2.00     1.8     3.2  3.3     4    1\n",
              "2             1     2.25     2.0     2.8  5.6     6    0\n",
              "3             1     2.00     2.6     3.4  4.0     5    1\n",
              "4             1     4.00     4.2     4.0  5.9     8    1"
            ],
            "text/html": [
              "\n",
              "  <div id=\"df-4d56d959-1bf9-4e71-baa1-592d0855e020\">\n",
              "    <div class=\"colab-df-container\">\n",
              "      <div>\n",
              "<style scoped>\n",
              "    .dataframe tbody tr th:only-of-type {\n",
              "        vertical-align: middle;\n",
              "    }\n",
              "\n",
              "    .dataframe tbody tr th {\n",
              "        vertical-align: top;\n",
              "    }\n",
              "\n",
              "    .dataframe thead th {\n",
              "        text-align: right;\n",
              "    }\n",
              "</style>\n",
              "<table border=\"1\" class=\"dataframe\">\n",
              "  <thead>\n",
              "    <tr style=\"text-align: right;\">\n",
              "      <th></th>\n",
              "      <th>news_content</th>\n",
              "      <th>rthreat</th>\n",
              "      <th>stereo</th>\n",
              "      <th>mcivil</th>\n",
              "      <th>age</th>\n",
              "      <th>ideo</th>\n",
              "      <th>sex</th>\n",
              "    </tr>\n",
              "  </thead>\n",
              "  <tbody>\n",
              "    <tr>\n",
              "      <th>0</th>\n",
              "      <td>0</td>\n",
              "      <td>3.00</td>\n",
              "      <td>2.8</td>\n",
              "      <td>2.8</td>\n",
              "      <td>7.5</td>\n",
              "      <td>8</td>\n",
              "      <td>0</td>\n",
              "    </tr>\n",
              "    <tr>\n",
              "      <th>1</th>\n",
              "      <td>1</td>\n",
              "      <td>2.00</td>\n",
              "      <td>1.8</td>\n",
              "      <td>3.2</td>\n",
              "      <td>3.3</td>\n",
              "      <td>4</td>\n",
              "      <td>1</td>\n",
              "    </tr>\n",
              "    <tr>\n",
              "      <th>2</th>\n",
              "      <td>1</td>\n",
              "      <td>2.25</td>\n",
              "      <td>2.0</td>\n",
              "      <td>2.8</td>\n",
              "      <td>5.6</td>\n",
              "      <td>6</td>\n",
              "      <td>0</td>\n",
              "    </tr>\n",
              "    <tr>\n",
              "      <th>3</th>\n",
              "      <td>1</td>\n",
              "      <td>2.00</td>\n",
              "      <td>2.6</td>\n",
              "      <td>3.4</td>\n",
              "      <td>4.0</td>\n",
              "      <td>5</td>\n",
              "      <td>1</td>\n",
              "    </tr>\n",
              "    <tr>\n",
              "      <th>4</th>\n",
              "      <td>1</td>\n",
              "      <td>4.00</td>\n",
              "      <td>4.2</td>\n",
              "      <td>4.0</td>\n",
              "      <td>5.9</td>\n",
              "      <td>8</td>\n",
              "      <td>1</td>\n",
              "    </tr>\n",
              "  </tbody>\n",
              "</table>\n",
              "</div>\n",
              "      <button class=\"colab-df-convert\" onclick=\"convertToInteractive('df-4d56d959-1bf9-4e71-baa1-592d0855e020')\"\n",
              "              title=\"Convert this dataframe to an interactive table.\"\n",
              "              style=\"display:none;\">\n",
              "        \n",
              "  <svg xmlns=\"http://www.w3.org/2000/svg\" height=\"24px\"viewBox=\"0 0 24 24\"\n",
              "       width=\"24px\">\n",
              "    <path d=\"M0 0h24v24H0V0z\" fill=\"none\"/>\n",
              "    <path d=\"M18.56 5.44l.94 2.06.94-2.06 2.06-.94-2.06-.94-.94-2.06-.94 2.06-2.06.94zm-11 1L8.5 8.5l.94-2.06 2.06-.94-2.06-.94L8.5 2.5l-.94 2.06-2.06.94zm10 10l.94 2.06.94-2.06 2.06-.94-2.06-.94-.94-2.06-.94 2.06-2.06.94z\"/><path d=\"M17.41 7.96l-1.37-1.37c-.4-.4-.92-.59-1.43-.59-.52 0-1.04.2-1.43.59L10.3 9.45l-7.72 7.72c-.78.78-.78 2.05 0 2.83L4 21.41c.39.39.9.59 1.41.59.51 0 1.02-.2 1.41-.59l7.78-7.78 2.81-2.81c.8-.78.8-2.07 0-2.86zM5.41 20L4 18.59l7.72-7.72 1.47 1.35L5.41 20z\"/>\n",
              "  </svg>\n",
              "      </button>\n",
              "      \n",
              "  <style>\n",
              "    .colab-df-container {\n",
              "      display:flex;\n",
              "      flex-wrap:wrap;\n",
              "      gap: 12px;\n",
              "    }\n",
              "\n",
              "    .colab-df-convert {\n",
              "      background-color: #E8F0FE;\n",
              "      border: none;\n",
              "      border-radius: 50%;\n",
              "      cursor: pointer;\n",
              "      display: none;\n",
              "      fill: #1967D2;\n",
              "      height: 32px;\n",
              "      padding: 0 0 0 0;\n",
              "      width: 32px;\n",
              "    }\n",
              "\n",
              "    .colab-df-convert:hover {\n",
              "      background-color: #E2EBFA;\n",
              "      box-shadow: 0px 1px 2px rgba(60, 64, 67, 0.3), 0px 1px 3px 1px rgba(60, 64, 67, 0.15);\n",
              "      fill: #174EA6;\n",
              "    }\n",
              "\n",
              "    [theme=dark] .colab-df-convert {\n",
              "      background-color: #3B4455;\n",
              "      fill: #D2E3FC;\n",
              "    }\n",
              "\n",
              "    [theme=dark] .colab-df-convert:hover {\n",
              "      background-color: #434B5C;\n",
              "      box-shadow: 0px 1px 3px 1px rgba(0, 0, 0, 0.15);\n",
              "      filter: drop-shadow(0px 1px 2px rgba(0, 0, 0, 0.3));\n",
              "      fill: #FFFFFF;\n",
              "    }\n",
              "  </style>\n",
              "\n",
              "      <script>\n",
              "        const buttonEl =\n",
              "          document.querySelector('#df-4d56d959-1bf9-4e71-baa1-592d0855e020 button.colab-df-convert');\n",
              "        buttonEl.style.display =\n",
              "          google.colab.kernel.accessAllowed ? 'block' : 'none';\n",
              "\n",
              "        async function convertToInteractive(key) {\n",
              "          const element = document.querySelector('#df-4d56d959-1bf9-4e71-baa1-592d0855e020');\n",
              "          const dataTable =\n",
              "            await google.colab.kernel.invokeFunction('convertToInteractive',\n",
              "                                                     [key], {});\n",
              "          if (!dataTable) return;\n",
              "\n",
              "          const docLinkHtml = 'Like what you see? Visit the ' +\n",
              "            '<a target=\"_blank\" href=https://colab.research.google.com/notebooks/data_table.ipynb>data table notebook</a>'\n",
              "            + ' to learn more about interactive tables.';\n",
              "          element.innerHTML = '';\n",
              "          dataTable['output_type'] = 'display_data';\n",
              "          await google.colab.output.renderOutput(dataTable, element);\n",
              "          const docLink = document.createElement('div');\n",
              "          docLink.innerHTML = docLinkHtml;\n",
              "          element.appendChild(docLink);\n",
              "        }\n",
              "      </script>\n",
              "    </div>\n",
              "  </div>\n",
              "  "
            ]
          },
          "metadata": {},
          "execution_count": 85
        }
      ]
    },
    {
      "cell_type": "code",
      "source": [
        "X = data_11['news_content']\n",
        "M = data_11['stereo']\n",
        "Y = data_11['mcivil']\n",
        "W = data_11['age']\n",
        "Z = data_11['sex']"
      ],
      "metadata": {
        "id": "JR2pzzWgiobO"
      },
      "execution_count": null,
      "outputs": []
    },
    {
      "cell_type": "markdown",
      "source": [
        "* M (stereo)"
      ],
      "metadata": {
        "id": "RAS-xiOoyaUb"
      }
    },
    {
      "cell_type": "code",
      "source": [
        "res_m = ols('stereo ~ news_content + age + sex + news_content * age + news_content * sex + age * sex + news_content * age * sex', data=data_11).fit()\n",
        "res_m.summary()"
      ],
      "metadata": {
        "colab": {
          "base_uri": "https://localhost:8080/",
          "height": 574
        },
        "id": "yYzzATNyy6Bn",
        "outputId": "11ed3722-6875-4e9b-964f-e0941949f2e0"
      },
      "execution_count": null,
      "outputs": [
        {
          "output_type": "execute_result",
          "data": {
            "text/plain": [
              "<class 'statsmodels.iolib.summary.Summary'>\n",
              "\"\"\"\n",
              "                            OLS Regression Results                            \n",
              "==============================================================================\n",
              "Dep. Variable:                 stereo   R-squared:                       0.038\n",
              "Model:                            OLS   Adj. R-squared:                  0.028\n",
              "Method:                 Least Squares   F-statistic:                     3.683\n",
              "Date:                Wed, 01 Mar 2023   Prob (F-statistic):           0.000650\n",
              "Time:                        15:05:39   Log-Likelihood:                -824.71\n",
              "No. Observations:                 661   AIC:                             1665.\n",
              "Df Residuals:                     653   BIC:                             1701.\n",
              "Df Model:                           7                                         \n",
              "Covariance Type:            nonrobust                                         \n",
              "========================================================================================\n",
              "                           coef    std err          t      P>|t|      [0.025      0.975]\n",
              "----------------------------------------------------------------------------------------\n",
              "Intercept                2.2640      0.196     11.556      0.000       1.879       2.649\n",
              "news_content             1.1823      0.318      3.722      0.000       0.559       1.806\n",
              "age                      0.1154      0.036      3.172      0.002       0.044       0.187\n",
              "sex                      0.2934      0.266      1.103      0.271      -0.229       0.816\n",
              "news_content:age        -0.2016      0.059     -3.405      0.001      -0.318      -0.085\n",
              "news_content:sex        -1.2697      0.424     -2.994      0.003      -2.103      -0.437\n",
              "age:sex                 -0.0404      0.052     -0.781      0.435      -0.142       0.061\n",
              "news_content:age:sex     0.2303      0.083      2.787      0.005       0.068       0.393\n",
              "==============================================================================\n",
              "Omnibus:                        6.560   Durbin-Watson:                   1.946\n",
              "Prob(Omnibus):                  0.038   Jarque-Bera (JB):                6.419\n",
              "Skew:                           0.232   Prob(JB):                       0.0404\n",
              "Kurtosis:                       3.132   Cond. No.                         108.\n",
              "==============================================================================\n",
              "\n",
              "Notes:\n",
              "[1] Standard Errors assume that the covariance matrix of the errors is correctly specified.\n",
              "\"\"\""
            ],
            "text/html": [
              "<table class=\"simpletable\">\n",
              "<caption>OLS Regression Results</caption>\n",
              "<tr>\n",
              "  <th>Dep. Variable:</th>         <td>stereo</td>      <th>  R-squared:         </th> <td>   0.038</td>\n",
              "</tr>\n",
              "<tr>\n",
              "  <th>Model:</th>                   <td>OLS</td>       <th>  Adj. R-squared:    </th> <td>   0.028</td>\n",
              "</tr>\n",
              "<tr>\n",
              "  <th>Method:</th>             <td>Least Squares</td>  <th>  F-statistic:       </th> <td>   3.683</td>\n",
              "</tr>\n",
              "<tr>\n",
              "  <th>Date:</th>             <td>Wed, 01 Mar 2023</td> <th>  Prob (F-statistic):</th> <td>0.000650</td>\n",
              "</tr>\n",
              "<tr>\n",
              "  <th>Time:</th>                 <td>15:05:39</td>     <th>  Log-Likelihood:    </th> <td> -824.71</td>\n",
              "</tr>\n",
              "<tr>\n",
              "  <th>No. Observations:</th>      <td>   661</td>      <th>  AIC:               </th> <td>   1665.</td>\n",
              "</tr>\n",
              "<tr>\n",
              "  <th>Df Residuals:</th>          <td>   653</td>      <th>  BIC:               </th> <td>   1701.</td>\n",
              "</tr>\n",
              "<tr>\n",
              "  <th>Df Model:</th>              <td>     7</td>      <th>                     </th>     <td> </td>   \n",
              "</tr>\n",
              "<tr>\n",
              "  <th>Covariance Type:</th>      <td>nonrobust</td>    <th>                     </th>     <td> </td>   \n",
              "</tr>\n",
              "</table>\n",
              "<table class=\"simpletable\">\n",
              "<tr>\n",
              "            <td></td>              <th>coef</th>     <th>std err</th>      <th>t</th>      <th>P>|t|</th>  <th>[0.025</th>    <th>0.975]</th>  \n",
              "</tr>\n",
              "<tr>\n",
              "  <th>Intercept</th>            <td>    2.2640</td> <td>    0.196</td> <td>   11.556</td> <td> 0.000</td> <td>    1.879</td> <td>    2.649</td>\n",
              "</tr>\n",
              "<tr>\n",
              "  <th>news_content</th>         <td>    1.1823</td> <td>    0.318</td> <td>    3.722</td> <td> 0.000</td> <td>    0.559</td> <td>    1.806</td>\n",
              "</tr>\n",
              "<tr>\n",
              "  <th>age</th>                  <td>    0.1154</td> <td>    0.036</td> <td>    3.172</td> <td> 0.002</td> <td>    0.044</td> <td>    0.187</td>\n",
              "</tr>\n",
              "<tr>\n",
              "  <th>sex</th>                  <td>    0.2934</td> <td>    0.266</td> <td>    1.103</td> <td> 0.271</td> <td>   -0.229</td> <td>    0.816</td>\n",
              "</tr>\n",
              "<tr>\n",
              "  <th>news_content:age</th>     <td>   -0.2016</td> <td>    0.059</td> <td>   -3.405</td> <td> 0.001</td> <td>   -0.318</td> <td>   -0.085</td>\n",
              "</tr>\n",
              "<tr>\n",
              "  <th>news_content:sex</th>     <td>   -1.2697</td> <td>    0.424</td> <td>   -2.994</td> <td> 0.003</td> <td>   -2.103</td> <td>   -0.437</td>\n",
              "</tr>\n",
              "<tr>\n",
              "  <th>age:sex</th>              <td>   -0.0404</td> <td>    0.052</td> <td>   -0.781</td> <td> 0.435</td> <td>   -0.142</td> <td>    0.061</td>\n",
              "</tr>\n",
              "<tr>\n",
              "  <th>news_content:age:sex</th> <td>    0.2303</td> <td>    0.083</td> <td>    2.787</td> <td> 0.005</td> <td>    0.068</td> <td>    0.393</td>\n",
              "</tr>\n",
              "</table>\n",
              "<table class=\"simpletable\">\n",
              "<tr>\n",
              "  <th>Omnibus:</th>       <td> 6.560</td> <th>  Durbin-Watson:     </th> <td>   1.946</td>\n",
              "</tr>\n",
              "<tr>\n",
              "  <th>Prob(Omnibus):</th> <td> 0.038</td> <th>  Jarque-Bera (JB):  </th> <td>   6.419</td>\n",
              "</tr>\n",
              "<tr>\n",
              "  <th>Skew:</th>          <td> 0.232</td> <th>  Prob(JB):          </th> <td>  0.0404</td>\n",
              "</tr>\n",
              "<tr>\n",
              "  <th>Kurtosis:</th>      <td> 3.132</td> <th>  Cond. No.          </th> <td>    108.</td>\n",
              "</tr>\n",
              "</table><br/><br/>Notes:<br/>[1] Standard Errors assume that the covariance matrix of the errors is correctly specified."
            ]
          },
          "metadata": {},
          "execution_count": 87
        }
      ]
    },
    {
      "cell_type": "code",
      "source": [
        "res_m.params"
      ],
      "metadata": {
        "colab": {
          "base_uri": "https://localhost:8080/"
        },
        "id": "jSatxYjuzPx-",
        "outputId": "c6b9883a-8515-4a64-ef11-0ef2f4fcc1d6"
      },
      "execution_count": null,
      "outputs": [
        {
          "output_type": "execute_result",
          "data": {
            "text/plain": [
              "Intercept               2.264001\n",
              "news_content            1.182291\n",
              "age                     0.115438\n",
              "sex                     0.293353\n",
              "news_content:age       -0.201573\n",
              "news_content:sex       -1.269740\n",
              "age:sex                -0.040449\n",
              "news_content:age:sex    0.230330\n",
              "dtype: float64"
            ]
          },
          "metadata": {},
          "execution_count": 88
        }
      ]
    },
    {
      "cell_type": "markdown",
      "source": [
        "* Y(mcivil)"
      ],
      "metadata": {
        "id": "RFo-AG7c1WA_"
      }
    },
    {
      "cell_type": "code",
      "source": [
        "res_y = ols('mcivil ~ news_content + stereo', data=data_11).fit()\n",
        "res_y.summary()"
      ],
      "metadata": {
        "colab": {
          "base_uri": "https://localhost:8080/",
          "height": 468
        },
        "id": "fdbIQuo00ek4",
        "outputId": "b2d2211b-dc25-41ce-de36-347ec54d7efd"
      },
      "execution_count": null,
      "outputs": [
        {
          "output_type": "execute_result",
          "data": {
            "text/plain": [
              "<class 'statsmodels.iolib.summary.Summary'>\n",
              "\"\"\"\n",
              "                            OLS Regression Results                            \n",
              "==============================================================================\n",
              "Dep. Variable:                 mcivil   R-squared:                       0.237\n",
              "Model:                            OLS   Adj. R-squared:                  0.235\n",
              "Method:                 Least Squares   F-statistic:                     102.4\n",
              "Date:                Wed, 01 Mar 2023   Prob (F-statistic):           1.90e-39\n",
              "Time:                        15:05:42   Log-Likelihood:                -869.04\n",
              "No. Observations:                 661   AIC:                             1744.\n",
              "Df Residuals:                     658   BIC:                             1758.\n",
              "Df Model:                           2                                         \n",
              "Covariance Type:            nonrobust                                         \n",
              "================================================================================\n",
              "                   coef    std err          t      P>|t|      [0.025      0.975]\n",
              "--------------------------------------------------------------------------------\n",
              "Intercept        0.9320      0.126      7.369      0.000       0.684       1.180\n",
              "news_content    -0.0518      0.072     -0.724      0.469      -0.192       0.089\n",
              "stereo           0.5861      0.041     14.311      0.000       0.506       0.666\n",
              "==============================================================================\n",
              "Omnibus:                       22.495   Durbin-Watson:                   2.127\n",
              "Prob(Omnibus):                  0.000   Jarque-Bera (JB):               24.202\n",
              "Skew:                           0.469   Prob(JB):                     5.55e-06\n",
              "Kurtosis:                       2.994   Cond. No.                         12.2\n",
              "==============================================================================\n",
              "\n",
              "Notes:\n",
              "[1] Standard Errors assume that the covariance matrix of the errors is correctly specified.\n",
              "\"\"\""
            ],
            "text/html": [
              "<table class=\"simpletable\">\n",
              "<caption>OLS Regression Results</caption>\n",
              "<tr>\n",
              "  <th>Dep. Variable:</th>         <td>mcivil</td>      <th>  R-squared:         </th> <td>   0.237</td>\n",
              "</tr>\n",
              "<tr>\n",
              "  <th>Model:</th>                   <td>OLS</td>       <th>  Adj. R-squared:    </th> <td>   0.235</td>\n",
              "</tr>\n",
              "<tr>\n",
              "  <th>Method:</th>             <td>Least Squares</td>  <th>  F-statistic:       </th> <td>   102.4</td>\n",
              "</tr>\n",
              "<tr>\n",
              "  <th>Date:</th>             <td>Wed, 01 Mar 2023</td> <th>  Prob (F-statistic):</th> <td>1.90e-39</td>\n",
              "</tr>\n",
              "<tr>\n",
              "  <th>Time:</th>                 <td>15:05:42</td>     <th>  Log-Likelihood:    </th> <td> -869.04</td>\n",
              "</tr>\n",
              "<tr>\n",
              "  <th>No. Observations:</th>      <td>   661</td>      <th>  AIC:               </th> <td>   1744.</td>\n",
              "</tr>\n",
              "<tr>\n",
              "  <th>Df Residuals:</th>          <td>   658</td>      <th>  BIC:               </th> <td>   1758.</td>\n",
              "</tr>\n",
              "<tr>\n",
              "  <th>Df Model:</th>              <td>     2</td>      <th>                     </th>     <td> </td>   \n",
              "</tr>\n",
              "<tr>\n",
              "  <th>Covariance Type:</th>      <td>nonrobust</td>    <th>                     </th>     <td> </td>   \n",
              "</tr>\n",
              "</table>\n",
              "<table class=\"simpletable\">\n",
              "<tr>\n",
              "        <td></td>          <th>coef</th>     <th>std err</th>      <th>t</th>      <th>P>|t|</th>  <th>[0.025</th>    <th>0.975]</th>  \n",
              "</tr>\n",
              "<tr>\n",
              "  <th>Intercept</th>    <td>    0.9320</td> <td>    0.126</td> <td>    7.369</td> <td> 0.000</td> <td>    0.684</td> <td>    1.180</td>\n",
              "</tr>\n",
              "<tr>\n",
              "  <th>news_content</th> <td>   -0.0518</td> <td>    0.072</td> <td>   -0.724</td> <td> 0.469</td> <td>   -0.192</td> <td>    0.089</td>\n",
              "</tr>\n",
              "<tr>\n",
              "  <th>stereo</th>       <td>    0.5861</td> <td>    0.041</td> <td>   14.311</td> <td> 0.000</td> <td>    0.506</td> <td>    0.666</td>\n",
              "</tr>\n",
              "</table>\n",
              "<table class=\"simpletable\">\n",
              "<tr>\n",
              "  <th>Omnibus:</th>       <td>22.495</td> <th>  Durbin-Watson:     </th> <td>   2.127</td>\n",
              "</tr>\n",
              "<tr>\n",
              "  <th>Prob(Omnibus):</th> <td> 0.000</td> <th>  Jarque-Bera (JB):  </th> <td>  24.202</td>\n",
              "</tr>\n",
              "<tr>\n",
              "  <th>Skew:</th>          <td> 0.469</td> <th>  Prob(JB):          </th> <td>5.55e-06</td>\n",
              "</tr>\n",
              "<tr>\n",
              "  <th>Kurtosis:</th>      <td> 2.994</td> <th>  Cond. No.          </th> <td>    12.2</td>\n",
              "</tr>\n",
              "</table><br/><br/>Notes:<br/>[1] Standard Errors assume that the covariance matrix of the errors is correctly specified."
            ]
          },
          "metadata": {},
          "execution_count": 89
        }
      ]
    },
    {
      "cell_type": "code",
      "source": [
        "res_y.params"
      ],
      "metadata": {
        "colab": {
          "base_uri": "https://localhost:8080/"
        },
        "id": "hGjx-4Tw0m3-",
        "outputId": "ab9c4a42-8251-4b89-b4e9-397555eab049"
      },
      "execution_count": null,
      "outputs": [
        {
          "output_type": "execute_result",
          "data": {
            "text/plain": [
              "Intercept       0.931951\n",
              "news_content   -0.051793\n",
              "stereo          0.586054\n",
              "dtype: float64"
            ]
          },
          "metadata": {},
          "execution_count": 90
        }
      ]
    },
    {
      "cell_type": "code",
      "source": [
        "Y_hat = 0.9320-0.0518*X+0.5861*M"
      ],
      "metadata": {
        "id": "VRwE-n7Riy9M"
      },
      "execution_count": null,
      "outputs": []
    },
    {
      "cell_type": "markdown",
      "source": [
        "* R^2 & F"
      ],
      "metadata": {
        "id": "Mh90y7iiiy9M"
      }
    },
    {
      "cell_type": "code",
      "source": [
        "TSS = ((Y-Y.mean())**2).sum()\n",
        "SSR = ((Y_hat-Y.mean())**2).sum()\n",
        "SSE = ((Y-Y_hat)**2).sum()"
      ],
      "metadata": {
        "id": "IsRAO9sfiy9M"
      },
      "execution_count": null,
      "outputs": []
    },
    {
      "cell_type": "code",
      "source": [
        "R = 1 - SSE / TSS\n",
        "print(R)"
      ],
      "metadata": {
        "colab": {
          "base_uri": "https://localhost:8080/"
        },
        "outputId": "3946cfcf-f75d-4993-c770-ecdc9102dde6",
        "id": "Eg4A6rORiy9M"
      },
      "execution_count": null,
      "outputs": [
        {
          "output_type": "stream",
          "name": "stdout",
          "text": [
            "0.23738632192774767\n"
          ]
        }
      ]
    },
    {
      "cell_type": "code",
      "source": [
        "F = (SSR/2) / (SSE/658)\n",
        "print(F)"
      ],
      "metadata": {
        "colab": {
          "base_uri": "https://localhost:8080/"
        },
        "outputId": "1f034d43-b20b-42ab-c7af-2c1a87509ec6",
        "id": "MiuzeT_biy9M"
      },
      "execution_count": null,
      "outputs": [
        {
          "output_type": "stream",
          "name": "stdout",
          "text": [
            "102.42706731854874\n"
          ]
        }
      ]
    },
    {
      "cell_type": "code",
      "source": [
        "f_rv = f(2, 658)"
      ],
      "metadata": {
        "id": "jG3gIwUqiy9N"
      },
      "execution_count": null,
      "outputs": []
    },
    {
      "cell_type": "code",
      "source": [
        "1 - f_rv.cdf(F) # F-value "
      ],
      "metadata": {
        "colab": {
          "base_uri": "https://localhost:8080/"
        },
        "outputId": "2007ecd0-38a8-4ff9-8760-1ef1a7a0e33b",
        "id": "8zh-nWm-iy9N"
      },
      "execution_count": null,
      "outputs": [
        {
          "output_type": "execute_result",
          "data": {
            "text/plain": [
              "1.1102230246251565e-16"
            ]
          },
          "metadata": {},
          "execution_count": 96
        }
      ]
    },
    {
      "cell_type": "markdown",
      "source": [
        "## * 𝑀=2.2640+1.1823𝑋+0.1154𝑊+0.2934𝑍-0.2016𝑋𝑊-1.2697𝑋𝑍-0.0404𝑊𝑍+0.2303𝑋𝑊𝑍\n",
        "## * 𝑌=0.9320-0.0518𝑋+0.5861𝑀"
      ],
      "metadata": {
        "id": "YuJcF0BC1G-t"
      }
    },
    {
      "cell_type": "markdown",
      "source": [
        "----"
      ],
      "metadata": {
        "id": "-3FumwFu1Lon"
      }
    },
    {
      "cell_type": "markdown",
      "source": [
        "# 5) model 11 (solar data)"
      ],
      "metadata": {
        "id": "4zTfpqwidHmp"
      }
    },
    {
      "cell_type": "markdown",
      "source": [
        "![image.png](data:image/png;base64,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)"
      ],
      "metadata": {
        "id": "4WbYFy8xgY-G"
      }
    },
    {
      "cell_type": "markdown",
      "source": [
        " X : temp(기온)  \n",
        "M : humidity(습도)  \n",
        "Y : day_power(태양광 발전량)  \n",
        "W : sky_cover(운량)  \n",
        "Z : wind(풍속)  \n",
        "\n"
      ],
      "metadata": {
        "id": "FPC-sb1GdOtB"
      }
    },
    {
      "cell_type": "code",
      "source": [
        "data_11 = pd.read_csv('/content/Drive/MyDrive/논문/model_18.csv')\n",
        "data_11.head()"
      ],
      "metadata": {
        "colab": {
          "base_uri": "https://localhost:8080/",
          "height": 206
        },
        "outputId": "5f29317f-a9e8-4a93-cb3e-146718965e4a",
        "id": "MYnbLbTXeWAG"
      },
      "execution_count": 4,
      "outputs": [
        {
          "output_type": "execute_result",
          "data": {
            "text/plain": [
              "       temp      wind  humidity  barometer  day_power  sky_cover\n",
              "0  0.312052  0.234784  0.778769   0.638520   0.058824          2\n",
              "1  0.369939  0.412924  0.725910   0.424439   0.058824          3\n",
              "2  0.352761  0.572187  0.709644   0.296313   0.058824          5\n",
              "3  0.348520  0.334605  0.751113   0.118489   0.029412          3\n",
              "4  0.348466  0.313384  0.735478   0.160241   0.029412          6"
            ],
            "text/html": [
              "\n",
              "  <div id=\"df-377f8257-7adf-4e04-83b2-dea75cc7cce7\">\n",
              "    <div class=\"colab-df-container\">\n",
              "      <div>\n",
              "<style scoped>\n",
              "    .dataframe tbody tr th:only-of-type {\n",
              "        vertical-align: middle;\n",
              "    }\n",
              "\n",
              "    .dataframe tbody tr th {\n",
              "        vertical-align: top;\n",
              "    }\n",
              "\n",
              "    .dataframe thead th {\n",
              "        text-align: right;\n",
              "    }\n",
              "</style>\n",
              "<table border=\"1\" class=\"dataframe\">\n",
              "  <thead>\n",
              "    <tr style=\"text-align: right;\">\n",
              "      <th></th>\n",
              "      <th>temp</th>\n",
              "      <th>wind</th>\n",
              "      <th>humidity</th>\n",
              "      <th>barometer</th>\n",
              "      <th>day_power</th>\n",
              "      <th>sky_cover</th>\n",
              "    </tr>\n",
              "  </thead>\n",
              "  <tbody>\n",
              "    <tr>\n",
              "      <th>0</th>\n",
              "      <td>0.312052</td>\n",
              "      <td>0.234784</td>\n",
              "      <td>0.778769</td>\n",
              "      <td>0.638520</td>\n",
              "      <td>0.058824</td>\n",
              "      <td>2</td>\n",
              "    </tr>\n",
              "    <tr>\n",
              "      <th>1</th>\n",
              "      <td>0.369939</td>\n",
              "      <td>0.412924</td>\n",
              "      <td>0.725910</td>\n",
              "      <td>0.424439</td>\n",
              "      <td>0.058824</td>\n",
              "      <td>3</td>\n",
              "    </tr>\n",
              "    <tr>\n",
              "      <th>2</th>\n",
              "      <td>0.352761</td>\n",
              "      <td>0.572187</td>\n",
              "      <td>0.709644</td>\n",
              "      <td>0.296313</td>\n",
              "      <td>0.058824</td>\n",
              "      <td>5</td>\n",
              "    </tr>\n",
              "    <tr>\n",
              "      <th>3</th>\n",
              "      <td>0.348520</td>\n",
              "      <td>0.334605</td>\n",
              "      <td>0.751113</td>\n",
              "      <td>0.118489</td>\n",
              "      <td>0.029412</td>\n",
              "      <td>3</td>\n",
              "    </tr>\n",
              "    <tr>\n",
              "      <th>4</th>\n",
              "      <td>0.348466</td>\n",
              "      <td>0.313384</td>\n",
              "      <td>0.735478</td>\n",
              "      <td>0.160241</td>\n",
              "      <td>0.029412</td>\n",
              "      <td>6</td>\n",
              "    </tr>\n",
              "  </tbody>\n",
              "</table>\n",
              "</div>\n",
              "      <button class=\"colab-df-convert\" onclick=\"convertToInteractive('df-377f8257-7adf-4e04-83b2-dea75cc7cce7')\"\n",
              "              title=\"Convert this dataframe to an interactive table.\"\n",
              "              style=\"display:none;\">\n",
              "        \n",
              "  <svg xmlns=\"http://www.w3.org/2000/svg\" height=\"24px\"viewBox=\"0 0 24 24\"\n",
              "       width=\"24px\">\n",
              "    <path d=\"M0 0h24v24H0V0z\" fill=\"none\"/>\n",
              "    <path d=\"M18.56 5.44l.94 2.06.94-2.06 2.06-.94-2.06-.94-.94-2.06-.94 2.06-2.06.94zm-11 1L8.5 8.5l.94-2.06 2.06-.94-2.06-.94L8.5 2.5l-.94 2.06-2.06.94zm10 10l.94 2.06.94-2.06 2.06-.94-2.06-.94-.94-2.06-.94 2.06-2.06.94z\"/><path d=\"M17.41 7.96l-1.37-1.37c-.4-.4-.92-.59-1.43-.59-.52 0-1.04.2-1.43.59L10.3 9.45l-7.72 7.72c-.78.78-.78 2.05 0 2.83L4 21.41c.39.39.9.59 1.41.59.51 0 1.02-.2 1.41-.59l7.78-7.78 2.81-2.81c.8-.78.8-2.07 0-2.86zM5.41 20L4 18.59l7.72-7.72 1.47 1.35L5.41 20z\"/>\n",
              "  </svg>\n",
              "      </button>\n",
              "      \n",
              "  <style>\n",
              "    .colab-df-container {\n",
              "      display:flex;\n",
              "      flex-wrap:wrap;\n",
              "      gap: 12px;\n",
              "    }\n",
              "\n",
              "    .colab-df-convert {\n",
              "      background-color: #E8F0FE;\n",
              "      border: none;\n",
              "      border-radius: 50%;\n",
              "      cursor: pointer;\n",
              "      display: none;\n",
              "      fill: #1967D2;\n",
              "      height: 32px;\n",
              "      padding: 0 0 0 0;\n",
              "      width: 32px;\n",
              "    }\n",
              "\n",
              "    .colab-df-convert:hover {\n",
              "      background-color: #E2EBFA;\n",
              "      box-shadow: 0px 1px 2px rgba(60, 64, 67, 0.3), 0px 1px 3px 1px rgba(60, 64, 67, 0.15);\n",
              "      fill: #174EA6;\n",
              "    }\n",
              "\n",
              "    [theme=dark] .colab-df-convert {\n",
              "      background-color: #3B4455;\n",
              "      fill: #D2E3FC;\n",
              "    }\n",
              "\n",
              "    [theme=dark] .colab-df-convert:hover {\n",
              "      background-color: #434B5C;\n",
              "      box-shadow: 0px 1px 3px 1px rgba(0, 0, 0, 0.15);\n",
              "      filter: drop-shadow(0px 1px 2px rgba(0, 0, 0, 0.3));\n",
              "      fill: #FFFFFF;\n",
              "    }\n",
              "  </style>\n",
              "\n",
              "      <script>\n",
              "        const buttonEl =\n",
              "          document.querySelector('#df-377f8257-7adf-4e04-83b2-dea75cc7cce7 button.colab-df-convert');\n",
              "        buttonEl.style.display =\n",
              "          google.colab.kernel.accessAllowed ? 'block' : 'none';\n",
              "\n",
              "        async function convertToInteractive(key) {\n",
              "          const element = document.querySelector('#df-377f8257-7adf-4e04-83b2-dea75cc7cce7');\n",
              "          const dataTable =\n",
              "            await google.colab.kernel.invokeFunction('convertToInteractive',\n",
              "                                                     [key], {});\n",
              "          if (!dataTable) return;\n",
              "\n",
              "          const docLinkHtml = 'Like what you see? Visit the ' +\n",
              "            '<a target=\"_blank\" href=https://colab.research.google.com/notebooks/data_table.ipynb>data table notebook</a>'\n",
              "            + ' to learn more about interactive tables.';\n",
              "          element.innerHTML = '';\n",
              "          dataTable['output_type'] = 'display_data';\n",
              "          await google.colab.output.renderOutput(dataTable, element);\n",
              "          const docLink = document.createElement('div');\n",
              "          docLink.innerHTML = docLinkHtml;\n",
              "          element.appendChild(docLink);\n",
              "        }\n",
              "      </script>\n",
              "    </div>\n",
              "  </div>\n",
              "  "
            ]
          },
          "metadata": {},
          "execution_count": 4
        }
      ]
    },
    {
      "cell_type": "code",
      "source": [
        "X = data_11['temp']\n",
        "M = data_11['humidity']\n",
        "Y = data_11['day_power']"
      ],
      "metadata": {
        "id": "9f-3oNy1aLej"
      },
      "execution_count": 5,
      "outputs": []
    },
    {
      "cell_type": "markdown",
      "source": [
        "* M (humidity)"
      ],
      "metadata": {
        "id": "IdsykwaKeWAG"
      }
    },
    {
      "cell_type": "code",
      "source": [
        "res_m = ols('humidity ~ temp + sky_cover + wind + temp * sky_cover + temp * wind + sky_cover * wind + temp * sky_cover * wind', data=data_11).fit()\n",
        "res_m.summary()"
      ],
      "metadata": {
        "colab": {
          "base_uri": "https://localhost:8080/",
          "height": 574
        },
        "outputId": "e18dad12-6a3b-4506-d35b-0ad7724d82e3",
        "id": "wAtVsFhKeWAG"
      },
      "execution_count": 6,
      "outputs": [
        {
          "output_type": "execute_result",
          "data": {
            "text/plain": [
              "<class 'statsmodels.iolib.summary.Summary'>\n",
              "\"\"\"\n",
              "                            OLS Regression Results                            \n",
              "==============================================================================\n",
              "Dep. Variable:               humidity   R-squared:                       0.325\n",
              "Model:                            OLS   Adj. R-squared:                  0.322\n",
              "Method:                 Least Squares   F-statistic:                     91.23\n",
              "Date:                Sun, 05 Mar 2023   Prob (F-statistic):          1.43e-108\n",
              "Time:                        11:14:09   Log-Likelihood:                 817.11\n",
              "No. Observations:                1332   AIC:                            -1618.\n",
              "Df Residuals:                    1324   BIC:                            -1577.\n",
              "Df Model:                           7                                         \n",
              "Covariance Type:            nonrobust                                         \n",
              "=======================================================================================\n",
              "                          coef    std err          t      P>|t|      [0.025      0.975]\n",
              "---------------------------------------------------------------------------------------\n",
              "Intercept               0.9370      0.053     17.802      0.000       0.834       1.040\n",
              "temp                   -0.9212      0.119     -7.726      0.000      -1.155      -0.687\n",
              "sky_cover              -0.0035      0.013     -0.262      0.793      -0.029       0.022\n",
              "wind                   -0.9191      0.184     -4.990      0.000      -1.280      -0.558\n",
              "temp:sky_cover          0.0777      0.030      2.562      0.011       0.018       0.137\n",
              "temp:wind               2.0611      0.432      4.766      0.000       1.213       2.909\n",
              "sky_cover:wind          0.1339      0.045      2.957      0.003       0.045       0.223\n",
              "temp:sky_cover:wind    -0.3276      0.107     -3.064      0.002      -0.537      -0.118\n",
              "==============================================================================\n",
              "Omnibus:                       44.937   Durbin-Watson:                   0.737\n",
              "Prob(Omnibus):                  0.000   Jarque-Bera (JB):               49.953\n",
              "Skew:                          -0.427   Prob(JB):                     1.42e-11\n",
              "Kurtosis:                       3.414   Cond. No.                         718.\n",
              "==============================================================================\n",
              "\n",
              "Notes:\n",
              "[1] Standard Errors assume that the covariance matrix of the errors is correctly specified.\n",
              "\"\"\""
            ],
            "text/html": [
              "<table class=\"simpletable\">\n",
              "<caption>OLS Regression Results</caption>\n",
              "<tr>\n",
              "  <th>Dep. Variable:</th>        <td>humidity</td>     <th>  R-squared:         </th> <td>   0.325</td> \n",
              "</tr>\n",
              "<tr>\n",
              "  <th>Model:</th>                   <td>OLS</td>       <th>  Adj. R-squared:    </th> <td>   0.322</td> \n",
              "</tr>\n",
              "<tr>\n",
              "  <th>Method:</th>             <td>Least Squares</td>  <th>  F-statistic:       </th> <td>   91.23</td> \n",
              "</tr>\n",
              "<tr>\n",
              "  <th>Date:</th>             <td>Sun, 05 Mar 2023</td> <th>  Prob (F-statistic):</th> <td>1.43e-108</td>\n",
              "</tr>\n",
              "<tr>\n",
              "  <th>Time:</th>                 <td>11:14:09</td>     <th>  Log-Likelihood:    </th> <td>  817.11</td> \n",
              "</tr>\n",
              "<tr>\n",
              "  <th>No. Observations:</th>      <td>  1332</td>      <th>  AIC:               </th> <td>  -1618.</td> \n",
              "</tr>\n",
              "<tr>\n",
              "  <th>Df Residuals:</th>          <td>  1324</td>      <th>  BIC:               </th> <td>  -1577.</td> \n",
              "</tr>\n",
              "<tr>\n",
              "  <th>Df Model:</th>              <td>     7</td>      <th>                     </th>     <td> </td>    \n",
              "</tr>\n",
              "<tr>\n",
              "  <th>Covariance Type:</th>      <td>nonrobust</td>    <th>                     </th>     <td> </td>    \n",
              "</tr>\n",
              "</table>\n",
              "<table class=\"simpletable\">\n",
              "<tr>\n",
              "           <td></td>              <th>coef</th>     <th>std err</th>      <th>t</th>      <th>P>|t|</th>  <th>[0.025</th>    <th>0.975]</th>  \n",
              "</tr>\n",
              "<tr>\n",
              "  <th>Intercept</th>           <td>    0.9370</td> <td>    0.053</td> <td>   17.802</td> <td> 0.000</td> <td>    0.834</td> <td>    1.040</td>\n",
              "</tr>\n",
              "<tr>\n",
              "  <th>temp</th>                <td>   -0.9212</td> <td>    0.119</td> <td>   -7.726</td> <td> 0.000</td> <td>   -1.155</td> <td>   -0.687</td>\n",
              "</tr>\n",
              "<tr>\n",
              "  <th>sky_cover</th>           <td>   -0.0035</td> <td>    0.013</td> <td>   -0.262</td> <td> 0.793</td> <td>   -0.029</td> <td>    0.022</td>\n",
              "</tr>\n",
              "<tr>\n",
              "  <th>wind</th>                <td>   -0.9191</td> <td>    0.184</td> <td>   -4.990</td> <td> 0.000</td> <td>   -1.280</td> <td>   -0.558</td>\n",
              "</tr>\n",
              "<tr>\n",
              "  <th>temp:sky_cover</th>      <td>    0.0777</td> <td>    0.030</td> <td>    2.562</td> <td> 0.011</td> <td>    0.018</td> <td>    0.137</td>\n",
              "</tr>\n",
              "<tr>\n",
              "  <th>temp:wind</th>           <td>    2.0611</td> <td>    0.432</td> <td>    4.766</td> <td> 0.000</td> <td>    1.213</td> <td>    2.909</td>\n",
              "</tr>\n",
              "<tr>\n",
              "  <th>sky_cover:wind</th>      <td>    0.1339</td> <td>    0.045</td> <td>    2.957</td> <td> 0.003</td> <td>    0.045</td> <td>    0.223</td>\n",
              "</tr>\n",
              "<tr>\n",
              "  <th>temp:sky_cover:wind</th> <td>   -0.3276</td> <td>    0.107</td> <td>   -3.064</td> <td> 0.002</td> <td>   -0.537</td> <td>   -0.118</td>\n",
              "</tr>\n",
              "</table>\n",
              "<table class=\"simpletable\">\n",
              "<tr>\n",
              "  <th>Omnibus:</th>       <td>44.937</td> <th>  Durbin-Watson:     </th> <td>   0.737</td>\n",
              "</tr>\n",
              "<tr>\n",
              "  <th>Prob(Omnibus):</th> <td> 0.000</td> <th>  Jarque-Bera (JB):  </th> <td>  49.953</td>\n",
              "</tr>\n",
              "<tr>\n",
              "  <th>Skew:</th>          <td>-0.427</td> <th>  Prob(JB):          </th> <td>1.42e-11</td>\n",
              "</tr>\n",
              "<tr>\n",
              "  <th>Kurtosis:</th>      <td> 3.414</td> <th>  Cond. No.          </th> <td>    718.</td>\n",
              "</tr>\n",
              "</table><br/><br/>Notes:<br/>[1] Standard Errors assume that the covariance matrix of the errors is correctly specified."
            ]
          },
          "metadata": {},
          "execution_count": 6
        }
      ]
    },
    {
      "cell_type": "code",
      "source": [
        "res_m.params"
      ],
      "metadata": {
        "colab": {
          "base_uri": "https://localhost:8080/"
        },
        "outputId": "9d46f93b-b296-42e4-f58a-935629ef09b3",
        "id": "QQRHoBuqeWAH"
      },
      "execution_count": 7,
      "outputs": [
        {
          "output_type": "execute_result",
          "data": {
            "text/plain": [
              "Intercept              0.936967\n",
              "temp                  -0.921213\n",
              "sky_cover             -0.003455\n",
              "wind                  -0.919070\n",
              "temp:sky_cover         0.077705\n",
              "temp:wind              2.061073\n",
              "sky_cover:wind         0.133905\n",
              "temp:sky_cover:wind   -0.327559\n",
              "dtype: float64"
            ]
          },
          "metadata": {},
          "execution_count": 7
        }
      ]
    },
    {
      "cell_type": "markdown",
      "source": [
        "* Y(day_power)"
      ],
      "metadata": {
        "id": "IV7qEVoCeWAH"
      }
    },
    {
      "cell_type": "code",
      "source": [
        "res_y = ols('day_power ~ temp + humidity', data=data_11).fit()\n",
        "res_y.summary()"
      ],
      "metadata": {
        "colab": {
          "base_uri": "https://localhost:8080/",
          "height": 468
        },
        "outputId": "eb024897-6afb-4e21-e219-a3eb25729650",
        "id": "BbFe9eAAeWAH"
      },
      "execution_count": 8,
      "outputs": [
        {
          "output_type": "execute_result",
          "data": {
            "text/plain": [
              "<class 'statsmodels.iolib.summary.Summary'>\n",
              "\"\"\"\n",
              "                            OLS Regression Results                            \n",
              "==============================================================================\n",
              "Dep. Variable:              day_power   R-squared:                       0.662\n",
              "Model:                            OLS   Adj. R-squared:                  0.661\n",
              "Method:                 Least Squares   F-statistic:                     1299.\n",
              "Date:                Sun, 05 Mar 2023   Prob (F-statistic):          1.81e-313\n",
              "Time:                        11:14:15   Log-Likelihood:                 727.26\n",
              "No. Observations:                1332   AIC:                            -1449.\n",
              "Df Residuals:                    1329   BIC:                            -1433.\n",
              "Df Model:                           2                                         \n",
              "Covariance Type:            nonrobust                                         \n",
              "==============================================================================\n",
              "                 coef    std err          t      P>|t|      [0.025      0.975]\n",
              "------------------------------------------------------------------------------\n",
              "Intercept      0.6099      0.026     23.783      0.000       0.560       0.660\n",
              "temp           0.4950      0.024     20.791      0.000       0.448       0.542\n",
              "humidity      -0.8307      0.028    -29.797      0.000      -0.885      -0.776\n",
              "==============================================================================\n",
              "Omnibus:                       27.282   Durbin-Watson:                   1.177\n",
              "Prob(Omnibus):                  0.000   Jarque-Bera (JB):               28.420\n",
              "Skew:                           0.349   Prob(JB):                     6.74e-07\n",
              "Kurtosis:                       3.158   Cond. No.                         13.6\n",
              "==============================================================================\n",
              "\n",
              "Notes:\n",
              "[1] Standard Errors assume that the covariance matrix of the errors is correctly specified.\n",
              "\"\"\""
            ],
            "text/html": [
              "<table class=\"simpletable\">\n",
              "<caption>OLS Regression Results</caption>\n",
              "<tr>\n",
              "  <th>Dep. Variable:</th>        <td>day_power</td>    <th>  R-squared:         </th> <td>   0.662</td> \n",
              "</tr>\n",
              "<tr>\n",
              "  <th>Model:</th>                   <td>OLS</td>       <th>  Adj. R-squared:    </th> <td>   0.661</td> \n",
              "</tr>\n",
              "<tr>\n",
              "  <th>Method:</th>             <td>Least Squares</td>  <th>  F-statistic:       </th> <td>   1299.</td> \n",
              "</tr>\n",
              "<tr>\n",
              "  <th>Date:</th>             <td>Sun, 05 Mar 2023</td> <th>  Prob (F-statistic):</th> <td>1.81e-313</td>\n",
              "</tr>\n",
              "<tr>\n",
              "  <th>Time:</th>                 <td>11:14:15</td>     <th>  Log-Likelihood:    </th> <td>  727.26</td> \n",
              "</tr>\n",
              "<tr>\n",
              "  <th>No. Observations:</th>      <td>  1332</td>      <th>  AIC:               </th> <td>  -1449.</td> \n",
              "</tr>\n",
              "<tr>\n",
              "  <th>Df Residuals:</th>          <td>  1329</td>      <th>  BIC:               </th> <td>  -1433.</td> \n",
              "</tr>\n",
              "<tr>\n",
              "  <th>Df Model:</th>              <td>     2</td>      <th>                     </th>     <td> </td>    \n",
              "</tr>\n",
              "<tr>\n",
              "  <th>Covariance Type:</th>      <td>nonrobust</td>    <th>                     </th>     <td> </td>    \n",
              "</tr>\n",
              "</table>\n",
              "<table class=\"simpletable\">\n",
              "<tr>\n",
              "      <td></td>         <th>coef</th>     <th>std err</th>      <th>t</th>      <th>P>|t|</th>  <th>[0.025</th>    <th>0.975]</th>  \n",
              "</tr>\n",
              "<tr>\n",
              "  <th>Intercept</th> <td>    0.6099</td> <td>    0.026</td> <td>   23.783</td> <td> 0.000</td> <td>    0.560</td> <td>    0.660</td>\n",
              "</tr>\n",
              "<tr>\n",
              "  <th>temp</th>      <td>    0.4950</td> <td>    0.024</td> <td>   20.791</td> <td> 0.000</td> <td>    0.448</td> <td>    0.542</td>\n",
              "</tr>\n",
              "<tr>\n",
              "  <th>humidity</th>  <td>   -0.8307</td> <td>    0.028</td> <td>  -29.797</td> <td> 0.000</td> <td>   -0.885</td> <td>   -0.776</td>\n",
              "</tr>\n",
              "</table>\n",
              "<table class=\"simpletable\">\n",
              "<tr>\n",
              "  <th>Omnibus:</th>       <td>27.282</td> <th>  Durbin-Watson:     </th> <td>   1.177</td>\n",
              "</tr>\n",
              "<tr>\n",
              "  <th>Prob(Omnibus):</th> <td> 0.000</td> <th>  Jarque-Bera (JB):  </th> <td>  28.420</td>\n",
              "</tr>\n",
              "<tr>\n",
              "  <th>Skew:</th>          <td> 0.349</td> <th>  Prob(JB):          </th> <td>6.74e-07</td>\n",
              "</tr>\n",
              "<tr>\n",
              "  <th>Kurtosis:</th>      <td> 3.158</td> <th>  Cond. No.          </th> <td>    13.6</td>\n",
              "</tr>\n",
              "</table><br/><br/>Notes:<br/>[1] Standard Errors assume that the covariance matrix of the errors is correctly specified."
            ]
          },
          "metadata": {},
          "execution_count": 8
        }
      ]
    },
    {
      "cell_type": "code",
      "source": [
        "res_y.params"
      ],
      "metadata": {
        "colab": {
          "base_uri": "https://localhost:8080/"
        },
        "outputId": "bf57416e-e39c-42cc-bfac-8e60b43413a9",
        "id": "heRtMQtceWAH"
      },
      "execution_count": 9,
      "outputs": [
        {
          "output_type": "execute_result",
          "data": {
            "text/plain": [
              "Intercept    0.609884\n",
              "temp         0.494987\n",
              "humidity    -0.830676\n",
              "dtype: float64"
            ]
          },
          "metadata": {},
          "execution_count": 9
        }
      ]
    },
    {
      "cell_type": "code",
      "source": [
        "Y_hat = 0.6099+0.4950*X-0.8307*M"
      ],
      "metadata": {
        "id": "csf4CAj_eWAH"
      },
      "execution_count": 10,
      "outputs": []
    },
    {
      "cell_type": "markdown",
      "source": [
        "* R^2 & F"
      ],
      "metadata": {
        "id": "szoqwfgweWAH"
      }
    },
    {
      "cell_type": "code",
      "source": [
        "TSS = ((Y-Y.mean())**2).sum()\n",
        "SSR = ((Y_hat-Y.mean())**2).sum()\n",
        "SSE = ((Y-Y_hat)**2).sum()"
      ],
      "metadata": {
        "id": "dZ9UqRNqeWAI"
      },
      "execution_count": 11,
      "outputs": []
    },
    {
      "cell_type": "code",
      "source": [
        "R = 1 - SSE / TSS\n",
        "print(R)"
      ],
      "metadata": {
        "colab": {
          "base_uri": "https://localhost:8080/"
        },
        "outputId": "535e29b1-39bc-4220-e03c-ec3937948bcb",
        "id": "c6xOPipneWAI"
      },
      "execution_count": 12,
      "outputs": [
        {
          "output_type": "stream",
          "name": "stdout",
          "text": [
            "0.6616569189384847\n"
          ]
        }
      ]
    },
    {
      "cell_type": "code",
      "source": [
        "F = (SSR/2) / (SSE/1329)\n",
        "print(F)"
      ],
      "metadata": {
        "colab": {
          "base_uri": "https://localhost:8080/"
        },
        "outputId": "c67c2554-db7c-4bdd-f58a-d53f128c6eb2",
        "id": "SFR2z1zneWAI"
      },
      "execution_count": 13,
      "outputs": [
        {
          "output_type": "stream",
          "name": "stdout",
          "text": [
            "1299.5546545607747\n"
          ]
        }
      ]
    },
    {
      "cell_type": "code",
      "source": [
        "f_rv = f(2, 1329)"
      ],
      "metadata": {
        "id": "3B33nYeAeWAI"
      },
      "execution_count": 14,
      "outputs": []
    },
    {
      "cell_type": "code",
      "source": [
        "1 - f_rv.cdf(F) # F-value "
      ],
      "metadata": {
        "colab": {
          "base_uri": "https://localhost:8080/"
        },
        "outputId": "7aab4ee4-d83b-4f56-d84f-a64eb128e585",
        "id": "bLQr6nk5eWAI"
      },
      "execution_count": 15,
      "outputs": [
        {
          "output_type": "execute_result",
          "data": {
            "text/plain": [
              "1.1102230246251565e-16"
            ]
          },
          "metadata": {},
          "execution_count": 15
        }
      ]
    },
    {
      "cell_type": "markdown",
      "source": [
        "## * 𝑀=0.9370-0.9212𝑋-0.0035𝑊-0.9191𝑍+0.0777𝑋𝑊+2.0611𝑋𝑍+0.1339𝑊𝑍-0.3276𝑋𝑊𝑍\n",
        "## * 𝑌=0.6099+0.4950𝑋-0.8307𝑀"
      ],
      "metadata": {
        "id": "fTbsulUeeWAI"
      }
    },
    {
      "cell_type": "markdown",
      "source": [
        "----"
      ],
      "metadata": {
        "id": "SnB3ph2NeWAI"
      }
    }
  ]
}